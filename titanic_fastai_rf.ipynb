{
 "cells": [
  {
   "cell_type": "code",
   "execution_count": 1,
   "source": [
    "from fastbook import *"
   ],
   "outputs": [],
   "metadata": {}
  },
  {
   "cell_type": "code",
   "execution_count": 2,
   "source": [
    "path = URLs.path('titanic')"
   ],
   "outputs": [],
   "metadata": {}
  },
  {
   "cell_type": "code",
   "execution_count": 3,
   "source": [
    "Path.BASE_PATH = path"
   ],
   "outputs": [],
   "metadata": {}
  },
  {
   "cell_type": "code",
   "execution_count": 4,
   "source": [
    "path.ls(file_type='text')"
   ],
   "outputs": [
    {
     "output_type": "execute_result",
     "data": {
      "text/plain": [
       "(#8) [Path('gender_submission.csv'),Path('submission_nn.csv'),Path('train.csv'),Path('test.csv'),Path('submission_nn_wd.csv'),Path('submission_rf.csv'),Path('submission.csv'),Path('submission_nn_moms.csv')]"
      ]
     },
     "metadata": {},
     "execution_count": 4
    }
   ],
   "metadata": {}
  },
  {
   "cell_type": "code",
   "execution_count": 5,
   "source": [
    "# low_memory false to force panda to go through the whole data\n",
    "df = pd.read_csv(path/'train.csv', low_memory=False)\n",
    "df.columns"
   ],
   "outputs": [
    {
     "output_type": "execute_result",
     "data": {
      "text/plain": [
       "Index(['PassengerId', 'Survived', 'Pclass', 'Name', 'Sex', 'Age', 'SibSp',\n",
       "       'Parch', 'Ticket', 'Fare', 'Cabin', 'Embarked'],\n",
       "      dtype='object')"
      ]
     },
     "metadata": {},
     "execution_count": 5
    }
   ],
   "metadata": {}
  },
  {
   "cell_type": "code",
   "execution_count": 6,
   "source": [
    "df.dtypes"
   ],
   "outputs": [
    {
     "output_type": "execute_result",
     "data": {
      "text/plain": [
       "PassengerId      int64\n",
       "Survived         int64\n",
       "Pclass           int64\n",
       "Name            object\n",
       "Sex             object\n",
       "Age            float64\n",
       "SibSp            int64\n",
       "Parch            int64\n",
       "Ticket          object\n",
       "Fare           float64\n",
       "Cabin           object\n",
       "Embarked        object\n",
       "dtype: object"
      ]
     },
     "metadata": {},
     "execution_count": 6
    }
   ],
   "metadata": {}
  },
  {
   "cell_type": "code",
   "execution_count": 7,
   "source": [
    "df"
   ],
   "outputs": [
    {
     "output_type": "execute_result",
     "data": {
      "text/plain": [
       "     PassengerId  Survived  Pclass  \\\n",
       "0              1         0       3   \n",
       "1              2         1       1   \n",
       "2              3         1       3   \n",
       "3              4         1       1   \n",
       "4              5         0       3   \n",
       "..           ...       ...     ...   \n",
       "886          887         0       2   \n",
       "887          888         1       1   \n",
       "888          889         0       3   \n",
       "889          890         1       1   \n",
       "890          891         0       3   \n",
       "\n",
       "                                                    Name     Sex   Age  SibSp  \\\n",
       "0                                Braund, Mr. Owen Harris    male  22.0      1   \n",
       "1    Cumings, Mrs. John Bradley (Florence Briggs Thayer)  female  38.0      1   \n",
       "2                                 Heikkinen, Miss. Laina  female  26.0      0   \n",
       "3           Futrelle, Mrs. Jacques Heath (Lily May Peel)  female  35.0      1   \n",
       "4                               Allen, Mr. William Henry    male  35.0      0   \n",
       "..                                                   ...     ...   ...    ...   \n",
       "886                                Montvila, Rev. Juozas    male  27.0      0   \n",
       "887                         Graham, Miss. Margaret Edith  female  19.0      0   \n",
       "888             Johnston, Miss. Catherine Helen \"Carrie\"  female   NaN      1   \n",
       "889                                Behr, Mr. Karl Howell    male  26.0      0   \n",
       "890                                  Dooley, Mr. Patrick    male  32.0      0   \n",
       "\n",
       "     Parch            Ticket     Fare Cabin Embarked  \n",
       "0        0         A/5 21171   7.2500   NaN        S  \n",
       "1        0          PC 17599  71.2833   C85        C  \n",
       "2        0  STON/O2. 3101282   7.9250   NaN        S  \n",
       "3        0            113803  53.1000  C123        S  \n",
       "4        0            373450   8.0500   NaN        S  \n",
       "..     ...               ...      ...   ...      ...  \n",
       "886      0            211536  13.0000   NaN        S  \n",
       "887      0            112053  30.0000   B42        S  \n",
       "888      2        W./C. 6607  23.4500   NaN        S  \n",
       "889      0            111369  30.0000  C148        C  \n",
       "890      0            370376   7.7500   NaN        Q  \n",
       "\n",
       "[891 rows x 12 columns]"
      ],
      "text/html": [
       "<div>\n",
       "<style scoped>\n",
       "    .dataframe tbody tr th:only-of-type {\n",
       "        vertical-align: middle;\n",
       "    }\n",
       "\n",
       "    .dataframe tbody tr th {\n",
       "        vertical-align: top;\n",
       "    }\n",
       "\n",
       "    .dataframe thead th {\n",
       "        text-align: right;\n",
       "    }\n",
       "</style>\n",
       "<table border=\"1\" class=\"dataframe\">\n",
       "  <thead>\n",
       "    <tr style=\"text-align: right;\">\n",
       "      <th></th>\n",
       "      <th>PassengerId</th>\n",
       "      <th>Survived</th>\n",
       "      <th>Pclass</th>\n",
       "      <th>Name</th>\n",
       "      <th>Sex</th>\n",
       "      <th>Age</th>\n",
       "      <th>SibSp</th>\n",
       "      <th>Parch</th>\n",
       "      <th>Ticket</th>\n",
       "      <th>Fare</th>\n",
       "      <th>Cabin</th>\n",
       "      <th>Embarked</th>\n",
       "    </tr>\n",
       "  </thead>\n",
       "  <tbody>\n",
       "    <tr>\n",
       "      <th>0</th>\n",
       "      <td>1</td>\n",
       "      <td>0</td>\n",
       "      <td>3</td>\n",
       "      <td>Braund, Mr. Owen Harris</td>\n",
       "      <td>male</td>\n",
       "      <td>22.0</td>\n",
       "      <td>1</td>\n",
       "      <td>0</td>\n",
       "      <td>A/5 21171</td>\n",
       "      <td>7.2500</td>\n",
       "      <td>NaN</td>\n",
       "      <td>S</td>\n",
       "    </tr>\n",
       "    <tr>\n",
       "      <th>1</th>\n",
       "      <td>2</td>\n",
       "      <td>1</td>\n",
       "      <td>1</td>\n",
       "      <td>Cumings, Mrs. John Bradley (Florence Briggs Thayer)</td>\n",
       "      <td>female</td>\n",
       "      <td>38.0</td>\n",
       "      <td>1</td>\n",
       "      <td>0</td>\n",
       "      <td>PC 17599</td>\n",
       "      <td>71.2833</td>\n",
       "      <td>C85</td>\n",
       "      <td>C</td>\n",
       "    </tr>\n",
       "    <tr>\n",
       "      <th>2</th>\n",
       "      <td>3</td>\n",
       "      <td>1</td>\n",
       "      <td>3</td>\n",
       "      <td>Heikkinen, Miss. Laina</td>\n",
       "      <td>female</td>\n",
       "      <td>26.0</td>\n",
       "      <td>0</td>\n",
       "      <td>0</td>\n",
       "      <td>STON/O2. 3101282</td>\n",
       "      <td>7.9250</td>\n",
       "      <td>NaN</td>\n",
       "      <td>S</td>\n",
       "    </tr>\n",
       "    <tr>\n",
       "      <th>3</th>\n",
       "      <td>4</td>\n",
       "      <td>1</td>\n",
       "      <td>1</td>\n",
       "      <td>Futrelle, Mrs. Jacques Heath (Lily May Peel)</td>\n",
       "      <td>female</td>\n",
       "      <td>35.0</td>\n",
       "      <td>1</td>\n",
       "      <td>0</td>\n",
       "      <td>113803</td>\n",
       "      <td>53.1000</td>\n",
       "      <td>C123</td>\n",
       "      <td>S</td>\n",
       "    </tr>\n",
       "    <tr>\n",
       "      <th>4</th>\n",
       "      <td>5</td>\n",
       "      <td>0</td>\n",
       "      <td>3</td>\n",
       "      <td>Allen, Mr. William Henry</td>\n",
       "      <td>male</td>\n",
       "      <td>35.0</td>\n",
       "      <td>0</td>\n",
       "      <td>0</td>\n",
       "      <td>373450</td>\n",
       "      <td>8.0500</td>\n",
       "      <td>NaN</td>\n",
       "      <td>S</td>\n",
       "    </tr>\n",
       "    <tr>\n",
       "      <th>...</th>\n",
       "      <td>...</td>\n",
       "      <td>...</td>\n",
       "      <td>...</td>\n",
       "      <td>...</td>\n",
       "      <td>...</td>\n",
       "      <td>...</td>\n",
       "      <td>...</td>\n",
       "      <td>...</td>\n",
       "      <td>...</td>\n",
       "      <td>...</td>\n",
       "      <td>...</td>\n",
       "      <td>...</td>\n",
       "    </tr>\n",
       "    <tr>\n",
       "      <th>886</th>\n",
       "      <td>887</td>\n",
       "      <td>0</td>\n",
       "      <td>2</td>\n",
       "      <td>Montvila, Rev. Juozas</td>\n",
       "      <td>male</td>\n",
       "      <td>27.0</td>\n",
       "      <td>0</td>\n",
       "      <td>0</td>\n",
       "      <td>211536</td>\n",
       "      <td>13.0000</td>\n",
       "      <td>NaN</td>\n",
       "      <td>S</td>\n",
       "    </tr>\n",
       "    <tr>\n",
       "      <th>887</th>\n",
       "      <td>888</td>\n",
       "      <td>1</td>\n",
       "      <td>1</td>\n",
       "      <td>Graham, Miss. Margaret Edith</td>\n",
       "      <td>female</td>\n",
       "      <td>19.0</td>\n",
       "      <td>0</td>\n",
       "      <td>0</td>\n",
       "      <td>112053</td>\n",
       "      <td>30.0000</td>\n",
       "      <td>B42</td>\n",
       "      <td>S</td>\n",
       "    </tr>\n",
       "    <tr>\n",
       "      <th>888</th>\n",
       "      <td>889</td>\n",
       "      <td>0</td>\n",
       "      <td>3</td>\n",
       "      <td>Johnston, Miss. Catherine Helen \"Carrie\"</td>\n",
       "      <td>female</td>\n",
       "      <td>NaN</td>\n",
       "      <td>1</td>\n",
       "      <td>2</td>\n",
       "      <td>W./C. 6607</td>\n",
       "      <td>23.4500</td>\n",
       "      <td>NaN</td>\n",
       "      <td>S</td>\n",
       "    </tr>\n",
       "    <tr>\n",
       "      <th>889</th>\n",
       "      <td>890</td>\n",
       "      <td>1</td>\n",
       "      <td>1</td>\n",
       "      <td>Behr, Mr. Karl Howell</td>\n",
       "      <td>male</td>\n",
       "      <td>26.0</td>\n",
       "      <td>0</td>\n",
       "      <td>0</td>\n",
       "      <td>111369</td>\n",
       "      <td>30.0000</td>\n",
       "      <td>C148</td>\n",
       "      <td>C</td>\n",
       "    </tr>\n",
       "    <tr>\n",
       "      <th>890</th>\n",
       "      <td>891</td>\n",
       "      <td>0</td>\n",
       "      <td>3</td>\n",
       "      <td>Dooley, Mr. Patrick</td>\n",
       "      <td>male</td>\n",
       "      <td>32.0</td>\n",
       "      <td>0</td>\n",
       "      <td>0</td>\n",
       "      <td>370376</td>\n",
       "      <td>7.7500</td>\n",
       "      <td>NaN</td>\n",
       "      <td>Q</td>\n",
       "    </tr>\n",
       "  </tbody>\n",
       "</table>\n",
       "<p>891 rows × 12 columns</p>\n",
       "</div>"
      ]
     },
     "metadata": {},
     "execution_count": 7
    }
   ],
   "metadata": {}
  },
  {
   "cell_type": "code",
   "execution_count": 8,
   "source": [
    "df.Survived.unique()"
   ],
   "outputs": [
    {
     "output_type": "execute_result",
     "data": {
      "text/plain": [
       "array([0, 1])"
      ]
     },
     "metadata": {},
     "execution_count": 8
    }
   ],
   "metadata": {}
  },
  {
   "cell_type": "code",
   "execution_count": 9,
   "source": [
    "df.Pclass.unique()"
   ],
   "outputs": [
    {
     "output_type": "execute_result",
     "data": {
      "text/plain": [
       "array([3, 1, 2])"
      ]
     },
     "metadata": {},
     "execution_count": 9
    }
   ],
   "metadata": {}
  },
  {
   "cell_type": "code",
   "execution_count": 10,
   "source": [
    "df.Embarked.unique()"
   ],
   "outputs": [
    {
     "output_type": "execute_result",
     "data": {
      "text/plain": [
       "array(['S', 'C', 'Q', nan], dtype=object)"
      ]
     },
     "metadata": {},
     "execution_count": 10
    }
   ],
   "metadata": {}
  },
  {
   "cell_type": "code",
   "execution_count": 11,
   "source": [
    "df.Age.unique()"
   ],
   "outputs": [
    {
     "output_type": "execute_result",
     "data": {
      "text/plain": [
       "array([22.  , 38.  , 26.  , 35.  ,   nan, 54.  ,  2.  , 27.  , 14.  ,  4.  , 58.  , 20.  , 39.  , 55.  , 31.  , 34.  , 15.  , 28.  ,  8.  , 19.  , 40.  , 66.  , 42.  , 21.  , 18.  ,  3.  ,  7.  ,\n",
       "       49.  , 29.  , 65.  , 28.5 ,  5.  , 11.  , 45.  , 17.  , 32.  , 16.  , 25.  ,  0.83, 30.  , 33.  , 23.  , 24.  , 46.  , 59.  , 71.  , 37.  , 47.  , 14.5 , 70.5 , 32.5 , 12.  ,  9.  , 36.5 ,\n",
       "       51.  , 55.5 , 40.5 , 44.  ,  1.  , 61.  , 56.  , 50.  , 36.  , 45.5 , 20.5 , 62.  , 41.  , 52.  , 63.  , 23.5 ,  0.92, 43.  , 60.  , 10.  , 64.  , 13.  , 48.  ,  0.75, 53.  , 57.  , 80.  ,\n",
       "       70.  , 24.5 ,  6.  ,  0.67, 30.5 ,  0.42, 34.5 , 74.  ])"
      ]
     },
     "metadata": {},
     "execution_count": 11
    }
   ],
   "metadata": {
    "scrolled": true
   }
  },
  {
   "cell_type": "code",
   "execution_count": 12,
   "source": [
    "df.Age.dtype"
   ],
   "outputs": [
    {
     "output_type": "execute_result",
     "data": {
      "text/plain": [
       "dtype('float64')"
      ]
     },
     "metadata": {},
     "execution_count": 12
    }
   ],
   "metadata": {}
  },
  {
   "cell_type": "code",
   "execution_count": 13,
   "source": [
    "dep_var = 'Survived'\n",
    "df[dep_var].shape"
   ],
   "outputs": [
    {
     "output_type": "execute_result",
     "data": {
      "text/plain": [
       "(891,)"
      ]
     },
     "metadata": {},
     "execution_count": 13
    }
   ],
   "metadata": {}
  },
  {
   "cell_type": "markdown",
   "source": [
    "# Decision Trees"
   ],
   "metadata": {}
  },
  {
   "cell_type": "code",
   "execution_count": 14,
   "source": [
    "df_test = pd.read_csv(path/'test.csv', low_memory=False)"
   ],
   "outputs": [],
   "metadata": {}
  },
  {
   "cell_type": "code",
   "execution_count": 15,
   "source": [
    "# df_test"
   ],
   "outputs": [],
   "metadata": {}
  },
  {
   "cell_type": "code",
   "execution_count": 16,
   "source": [
    "from fastai.tabular.all import *"
   ],
   "outputs": [],
   "metadata": {}
  },
  {
   "cell_type": "code",
   "execution_count": 17,
   "source": [
    "procs = [Categorify, FillMissing]\n",
    "# procs = [FillMissing]"
   ],
   "outputs": [],
   "metadata": {}
  },
  {
   "cell_type": "code",
   "execution_count": 18,
   "source": [
    "splits = RandomSplitter()(range_of(df))"
   ],
   "outputs": [],
   "metadata": {}
  },
  {
   "cell_type": "code",
   "execution_count": 19,
   "source": [
    "type(splits)"
   ],
   "outputs": [
    {
     "output_type": "execute_result",
     "data": {
      "text/plain": [
       "tuple"
      ]
     },
     "metadata": {},
     "execution_count": 19
    }
   ],
   "metadata": {}
  },
  {
   "cell_type": "code",
   "execution_count": 20,
   "source": [
    "# RandomSplitter"
   ],
   "outputs": [],
   "metadata": {}
  },
  {
   "cell_type": "code",
   "execution_count": 21,
   "source": [
    "cont,cat = cont_cat_split(df, 1, dep_var=dep_var)"
   ],
   "outputs": [],
   "metadata": {}
  },
  {
   "cell_type": "code",
   "execution_count": 22,
   "source": [
    "cont"
   ],
   "outputs": [
    {
     "output_type": "execute_result",
     "data": {
      "text/plain": [
       "['PassengerId', 'Pclass', 'Age', 'SibSp', 'Parch', 'Fare']"
      ]
     },
     "metadata": {},
     "execution_count": 22
    }
   ],
   "metadata": {}
  },
  {
   "cell_type": "code",
   "execution_count": 23,
   "source": [
    "cat"
   ],
   "outputs": [
    {
     "output_type": "execute_result",
     "data": {
      "text/plain": [
       "['Name', 'Sex', 'Ticket', 'Cabin', 'Embarked']"
      ]
     },
     "metadata": {},
     "execution_count": 23
    }
   ],
   "metadata": {}
  },
  {
   "cell_type": "code",
   "execution_count": 24,
   "source": [
    "cat.remove('Name')"
   ],
   "outputs": [],
   "metadata": {}
  },
  {
   "cell_type": "code",
   "execution_count": 25,
   "source": [
    "cat"
   ],
   "outputs": [
    {
     "output_type": "execute_result",
     "data": {
      "text/plain": [
       "['Sex', 'Ticket', 'Cabin', 'Embarked']"
      ]
     },
     "metadata": {},
     "execution_count": 25
    }
   ],
   "metadata": {}
  },
  {
   "cell_type": "code",
   "execution_count": 26,
   "source": [
    "to = TabularPandas(df, procs, cat, cont, y_names=dep_var, splits=splits)"
   ],
   "outputs": [],
   "metadata": {}
  },
  {
   "cell_type": "code",
   "execution_count": 27,
   "source": [
    "to.show(3)"
   ],
   "outputs": [
    {
     "output_type": "display_data",
     "data": {
      "text/plain": [
       "<IPython.core.display.HTML object>"
      ],
      "text/html": [
       "<table border=\"1\" class=\"dataframe\">\n",
       "  <thead>\n",
       "    <tr style=\"text-align: right;\">\n",
       "      <th></th>\n",
       "      <th>Sex</th>\n",
       "      <th>Ticket</th>\n",
       "      <th>Cabin</th>\n",
       "      <th>Embarked</th>\n",
       "      <th>Age_na</th>\n",
       "      <th>PassengerId</th>\n",
       "      <th>Pclass</th>\n",
       "      <th>Age</th>\n",
       "      <th>SibSp</th>\n",
       "      <th>Parch</th>\n",
       "      <th>Fare</th>\n",
       "      <th>Survived</th>\n",
       "    </tr>\n",
       "  </thead>\n",
       "  <tbody>\n",
       "    <tr>\n",
       "      <th>788</th>\n",
       "      <td>male</td>\n",
       "      <td>C.A. 2315</td>\n",
       "      <td>#na#</td>\n",
       "      <td>S</td>\n",
       "      <td>False</td>\n",
       "      <td>789</td>\n",
       "      <td>3</td>\n",
       "      <td>1.0</td>\n",
       "      <td>1</td>\n",
       "      <td>2</td>\n",
       "      <td>20.575001</td>\n",
       "      <td>1</td>\n",
       "    </tr>\n",
       "    <tr>\n",
       "      <th>525</th>\n",
       "      <td>male</td>\n",
       "      <td>367232</td>\n",
       "      <td>#na#</td>\n",
       "      <td>Q</td>\n",
       "      <td>False</td>\n",
       "      <td>526</td>\n",
       "      <td>3</td>\n",
       "      <td>40.5</td>\n",
       "      <td>0</td>\n",
       "      <td>0</td>\n",
       "      <td>7.750000</td>\n",
       "      <td>0</td>\n",
       "    </tr>\n",
       "    <tr>\n",
       "      <th>821</th>\n",
       "      <td>male</td>\n",
       "      <td>315098</td>\n",
       "      <td>#na#</td>\n",
       "      <td>S</td>\n",
       "      <td>False</td>\n",
       "      <td>822</td>\n",
       "      <td>3</td>\n",
       "      <td>27.0</td>\n",
       "      <td>0</td>\n",
       "      <td>0</td>\n",
       "      <td>8.662500</td>\n",
       "      <td>1</td>\n",
       "    </tr>\n",
       "  </tbody>\n",
       "</table>"
      ]
     },
     "metadata": {}
    }
   ],
   "metadata": {}
  },
  {
   "cell_type": "code",
   "execution_count": 28,
   "source": [
    "to.items.head(3)"
   ],
   "outputs": [
    {
     "output_type": "execute_result",
     "data": {
      "text/plain": [
       "     PassengerId  Survived  Pclass                        Name  Sex   Age  \\\n",
       "788          789         1       3  Dean, Master. Bertram Vere    2   1.0   \n",
       "525          526         0       3          Farrell, Mr. James    2  40.5   \n",
       "821          822         1       3           Lulic, Mr. Nikola    2  27.0   \n",
       "\n",
       "     SibSp  Parch  Ticket       Fare  Cabin  Embarked  Age_na  \n",
       "788      1      2     549  20.575001      0         3       1  \n",
       "525      0      0     447   7.750000      0         2       1  \n",
       "821      0      0     270   8.662500      0         3       1  "
      ],
      "text/html": [
       "<div>\n",
       "<style scoped>\n",
       "    .dataframe tbody tr th:only-of-type {\n",
       "        vertical-align: middle;\n",
       "    }\n",
       "\n",
       "    .dataframe tbody tr th {\n",
       "        vertical-align: top;\n",
       "    }\n",
       "\n",
       "    .dataframe thead th {\n",
       "        text-align: right;\n",
       "    }\n",
       "</style>\n",
       "<table border=\"1\" class=\"dataframe\">\n",
       "  <thead>\n",
       "    <tr style=\"text-align: right;\">\n",
       "      <th></th>\n",
       "      <th>PassengerId</th>\n",
       "      <th>Survived</th>\n",
       "      <th>Pclass</th>\n",
       "      <th>Name</th>\n",
       "      <th>Sex</th>\n",
       "      <th>Age</th>\n",
       "      <th>SibSp</th>\n",
       "      <th>Parch</th>\n",
       "      <th>Ticket</th>\n",
       "      <th>Fare</th>\n",
       "      <th>Cabin</th>\n",
       "      <th>Embarked</th>\n",
       "      <th>Age_na</th>\n",
       "    </tr>\n",
       "  </thead>\n",
       "  <tbody>\n",
       "    <tr>\n",
       "      <th>788</th>\n",
       "      <td>789</td>\n",
       "      <td>1</td>\n",
       "      <td>3</td>\n",
       "      <td>Dean, Master. Bertram Vere</td>\n",
       "      <td>2</td>\n",
       "      <td>1.0</td>\n",
       "      <td>1</td>\n",
       "      <td>2</td>\n",
       "      <td>549</td>\n",
       "      <td>20.575001</td>\n",
       "      <td>0</td>\n",
       "      <td>3</td>\n",
       "      <td>1</td>\n",
       "    </tr>\n",
       "    <tr>\n",
       "      <th>525</th>\n",
       "      <td>526</td>\n",
       "      <td>0</td>\n",
       "      <td>3</td>\n",
       "      <td>Farrell, Mr. James</td>\n",
       "      <td>2</td>\n",
       "      <td>40.5</td>\n",
       "      <td>0</td>\n",
       "      <td>0</td>\n",
       "      <td>447</td>\n",
       "      <td>7.750000</td>\n",
       "      <td>0</td>\n",
       "      <td>2</td>\n",
       "      <td>1</td>\n",
       "    </tr>\n",
       "    <tr>\n",
       "      <th>821</th>\n",
       "      <td>822</td>\n",
       "      <td>1</td>\n",
       "      <td>3</td>\n",
       "      <td>Lulic, Mr. Nikola</td>\n",
       "      <td>2</td>\n",
       "      <td>27.0</td>\n",
       "      <td>0</td>\n",
       "      <td>0</td>\n",
       "      <td>270</td>\n",
       "      <td>8.662500</td>\n",
       "      <td>0</td>\n",
       "      <td>3</td>\n",
       "      <td>1</td>\n",
       "    </tr>\n",
       "  </tbody>\n",
       "</table>\n",
       "</div>"
      ]
     },
     "metadata": {},
     "execution_count": 28
    }
   ],
   "metadata": {}
  },
  {
   "cell_type": "code",
   "execution_count": 29,
   "source": [
    "# to.classes['Name']"
   ],
   "outputs": [],
   "metadata": {}
  },
  {
   "cell_type": "markdown",
   "source": [
    "# Creating the Decision Tree"
   ],
   "metadata": {}
  },
  {
   "cell_type": "code",
   "execution_count": 30,
   "source": [
    "xs, y = to.train.xs, to.train.y\n",
    "valid_xs, valid_y = to.valid.xs, to.valid.y"
   ],
   "outputs": [],
   "metadata": {}
  },
  {
   "cell_type": "code",
   "execution_count": 31,
   "source": [
    "from sklearn.tree import DecisionTreeRegressor"
   ],
   "outputs": [],
   "metadata": {}
  },
  {
   "cell_type": "code",
   "execution_count": 32,
   "source": [
    "m = DecisionTreeRegressor(max_leaf_nodes=16)\n",
    "m.fit(xs, y);"
   ],
   "outputs": [],
   "metadata": {}
  },
  {
   "cell_type": "code",
   "execution_count": 33,
   "source": [
    "from dtreeviz.trees import *"
   ],
   "outputs": [],
   "metadata": {}
  },
  {
   "cell_type": "code",
   "execution_count": 34,
   "source": [
    "draw_tree(m, xs, size=100, precision=1)"
   ],
   "outputs": [
    {
     "output_type": "execute_result",
     "data": {
      "text/plain": [
       "<graphviz.files.Source at 0x7f5d0e12e880>"
      ],
      "image/svg+xml": "<?xml version=\"1.0\" encoding=\"UTF-8\" standalone=\"no\"?>\n<!DOCTYPE svg PUBLIC \"-//W3C//DTD SVG 1.1//EN\"\n \"http://www.w3.org/Graphics/SVG/1.1/DTD/svg11.dtd\">\n<!-- Generated by graphviz version 2.40.1 (20161225.0304)\n -->\n<!-- Title: Tree Pages: 1 -->\n<svg width=\"1310pt\" height=\"789pt\"\n viewBox=\"0.00 0.00 1310.25 789.00\" xmlns=\"http://www.w3.org/2000/svg\" xmlns:xlink=\"http://www.w3.org/1999/xlink\">\n<g id=\"graph0\" class=\"graph\" transform=\"scale(1 1) rotate(0) translate(4 785)\">\n<title>Tree</title>\n<polygon fill=\"#ffffff\" stroke=\"transparent\" points=\"-4,4 -4,-785 1306.2546,-785 1306.2546,4 -4,4\"/>\n<!-- 0 -->\n<g id=\"node1\" class=\"node\">\n<title>0</title>\n<path fill=\"#f5cfb4\" stroke=\"#000000\" d=\"M529.3077,-781C529.3077,-781 447.3077,-781 447.3077,-781 441.3077,-781 435.3077,-775 435.3077,-769 435.3077,-769 435.3077,-725 435.3077,-725 435.3077,-719 441.3077,-713 447.3077,-713 447.3077,-713 529.3077,-713 529.3077,-713 535.3077,-713 541.3077,-719 541.3077,-725 541.3077,-725 541.3077,-769 541.3077,-769 541.3077,-775 535.3077,-781 529.3077,-781\"/>\n<text text-anchor=\"start\" x=\"459.3077\" y=\"-765.8\" font-family=\"Helvetica,sans-Serif\" font-size=\"14.00\" fill=\"#000000\">Sex ≤ 1.5</text>\n<text text-anchor=\"start\" x=\"457.8077\" y=\"-750.8\" font-family=\"Helvetica,sans-Serif\" font-size=\"14.00\" fill=\"#000000\">mse = 0.2</text>\n<text text-anchor=\"start\" x=\"443.3077\" y=\"-735.8\" font-family=\"Helvetica,sans-Serif\" font-size=\"14.00\" fill=\"#000000\">samples = 713</text>\n<text text-anchor=\"start\" x=\"454.8077\" y=\"-720.8\" font-family=\"Helvetica,sans-Serif\" font-size=\"14.00\" fill=\"#000000\">value = 0.4</text>\n</g>\n<!-- 1 -->\n<g id=\"node2\" class=\"node\">\n<title>1</title>\n<path fill=\"#eca26d\" stroke=\"#000000\" d=\"M456.3077,-677C456.3077,-677 374.3077,-677 374.3077,-677 368.3077,-677 362.3077,-671 362.3077,-665 362.3077,-665 362.3077,-621 362.3077,-621 362.3077,-615 368.3077,-609 374.3077,-609 374.3077,-609 456.3077,-609 456.3077,-609 462.3077,-609 468.3077,-615 468.3077,-621 468.3077,-621 468.3077,-665 468.3077,-665 468.3077,-671 462.3077,-677 456.3077,-677\"/>\n<text text-anchor=\"start\" x=\"377.8077\" y=\"-661.8\" font-family=\"Helvetica,sans-Serif\" font-size=\"14.00\" fill=\"#000000\">Pclass ≤ 2.5</text>\n<text text-anchor=\"start\" x=\"384.8077\" y=\"-646.8\" font-family=\"Helvetica,sans-Serif\" font-size=\"14.00\" fill=\"#000000\">mse = 0.2</text>\n<text text-anchor=\"start\" x=\"370.3077\" y=\"-631.8\" font-family=\"Helvetica,sans-Serif\" font-size=\"14.00\" fill=\"#000000\">samples = 249</text>\n<text text-anchor=\"start\" x=\"381.8077\" y=\"-616.8\" font-family=\"Helvetica,sans-Serif\" font-size=\"14.00\" fill=\"#000000\">value = 0.7</text>\n</g>\n<!-- 0&#45;&gt;1 -->\n<g id=\"edge1\" class=\"edge\">\n<title>0&#45;&gt;1</title>\n<path fill=\"none\" stroke=\"#000000\" d=\"M464.4048,-712.9465C458.2286,-704.1475 451.5039,-694.5672 445.0688,-685.3993\"/>\n<polygon fill=\"#000000\" stroke=\"#000000\" points=\"447.8743,-683.3041 439.2644,-677.13 442.1449,-687.3258 447.8743,-683.3041\"/>\n<text text-anchor=\"middle\" x=\"434.9515\" y=\"-698.0552\" font-family=\"Helvetica,sans-Serif\" font-size=\"14.00\" fill=\"#000000\">True</text>\n</g>\n<!-- 2 -->\n<g id=\"node13\" class=\"node\">\n<title>2</title>\n<path fill=\"#fae7da\" stroke=\"#000000\" d=\"M665.3077,-677C665.3077,-677 583.3077,-677 583.3077,-677 577.3077,-677 571.3077,-671 571.3077,-665 571.3077,-665 571.3077,-621 571.3077,-621 571.3077,-615 577.3077,-609 583.3077,-609 583.3077,-609 665.3077,-609 665.3077,-609 671.3077,-609 677.3077,-615 677.3077,-621 677.3077,-621 677.3077,-665 677.3077,-665 677.3077,-671 671.3077,-677 665.3077,-677\"/>\n<text text-anchor=\"start\" x=\"589.3077\" y=\"-661.8\" font-family=\"Helvetica,sans-Serif\" font-size=\"14.00\" fill=\"#000000\">Cabin ≤ 4.5</text>\n<text text-anchor=\"start\" x=\"593.8077\" y=\"-646.8\" font-family=\"Helvetica,sans-Serif\" font-size=\"14.00\" fill=\"#000000\">mse = 0.2</text>\n<text text-anchor=\"start\" x=\"579.3077\" y=\"-631.8\" font-family=\"Helvetica,sans-Serif\" font-size=\"14.00\" fill=\"#000000\">samples = 464</text>\n<text text-anchor=\"start\" x=\"590.8077\" y=\"-616.8\" font-family=\"Helvetica,sans-Serif\" font-size=\"14.00\" fill=\"#000000\">value = 0.2</text>\n</g>\n<!-- 0&#45;&gt;2 -->\n<g id=\"edge12\" class=\"edge\">\n<title>0&#45;&gt;2</title>\n<path fill=\"none\" stroke=\"#000000\" d=\"M532.8392,-712.9465C545.1674,-703.519 558.6687,-693.1946 571.4227,-683.4415\"/>\n<polygon fill=\"#000000\" stroke=\"#000000\" points=\"573.8587,-685.9848 579.6762,-677.13 569.6065,-680.4243 573.8587,-685.9848\"/>\n<text text-anchor=\"middle\" x=\"576.3721\" y=\"-698.2107\" font-family=\"Helvetica,sans-Serif\" font-size=\"14.00\" fill=\"#000000\">False</text>\n</g>\n<!-- 3 -->\n<g id=\"node3\" class=\"node\">\n<title>3</title>\n<path fill=\"#e78945\" stroke=\"#000000\" d=\"M310.3077,-565.5C310.3077,-565.5 228.3077,-565.5 228.3077,-565.5 222.3077,-565.5 216.3077,-559.5 216.3077,-553.5 216.3077,-553.5 216.3077,-524.5 216.3077,-524.5 216.3077,-518.5 222.3077,-512.5 228.3077,-512.5 228.3077,-512.5 310.3077,-512.5 310.3077,-512.5 316.3077,-512.5 322.3077,-518.5 322.3077,-524.5 322.3077,-524.5 322.3077,-553.5 322.3077,-553.5 322.3077,-559.5 316.3077,-565.5 310.3077,-565.5\"/>\n<text text-anchor=\"start\" x=\"238.8077\" y=\"-550.3\" font-family=\"Helvetica,sans-Serif\" font-size=\"14.00\" fill=\"#000000\">mse = 0.1</text>\n<text text-anchor=\"start\" x=\"224.3077\" y=\"-535.3\" font-family=\"Helvetica,sans-Serif\" font-size=\"14.00\" fill=\"#000000\">samples = 133</text>\n<text text-anchor=\"start\" x=\"235.8077\" y=\"-520.3\" font-family=\"Helvetica,sans-Serif\" font-size=\"14.00\" fill=\"#000000\">value = 0.9</text>\n</g>\n<!-- 1&#45;&gt;3 -->\n<g id=\"edge2\" class=\"edge\">\n<title>1&#45;&gt;3</title>\n<path fill=\"none\" stroke=\"#000000\" d=\"M367.5019,-608.9465C350.647,-596.9403 331.7496,-583.4791 315.0678,-571.5962\"/>\n<polygon fill=\"#000000\" stroke=\"#000000\" points=\"316.7444,-568.4933 306.5689,-565.5422 312.6831,-574.1947 316.7444,-568.4933\"/>\n</g>\n<!-- 4 -->\n<g id=\"node4\" class=\"node\">\n<title>4</title>\n<path fill=\"#f2c09c\" stroke=\"#000000\" d=\"M456.3077,-573C456.3077,-573 374.3077,-573 374.3077,-573 368.3077,-573 362.3077,-567 362.3077,-561 362.3077,-561 362.3077,-517 362.3077,-517 362.3077,-511 368.3077,-505 374.3077,-505 374.3077,-505 456.3077,-505 456.3077,-505 462.3077,-505 468.3077,-511 468.3077,-517 468.3077,-517 468.3077,-561 468.3077,-561 468.3077,-567 462.3077,-573 456.3077,-573\"/>\n<text text-anchor=\"start\" x=\"380.3077\" y=\"-557.8\" font-family=\"Helvetica,sans-Serif\" font-size=\"14.00\" fill=\"#000000\">Fare ≤ 20.8</text>\n<text text-anchor=\"start\" x=\"384.8077\" y=\"-542.8\" font-family=\"Helvetica,sans-Serif\" font-size=\"14.00\" fill=\"#000000\">mse = 0.2</text>\n<text text-anchor=\"start\" x=\"370.3077\" y=\"-527.8\" font-family=\"Helvetica,sans-Serif\" font-size=\"14.00\" fill=\"#000000\">samples = 116</text>\n<text text-anchor=\"start\" x=\"381.8077\" y=\"-512.8\" font-family=\"Helvetica,sans-Serif\" font-size=\"14.00\" fill=\"#000000\">value = 0.5</text>\n</g>\n<!-- 1&#45;&gt;4 -->\n<g id=\"edge3\" class=\"edge\">\n<title>1&#45;&gt;4</title>\n<path fill=\"none\" stroke=\"#000000\" d=\"M415.3077,-608.9465C415.3077,-600.776 415.3077,-591.9318 415.3077,-583.3697\"/>\n<polygon fill=\"#000000\" stroke=\"#000000\" points=\"418.8078,-583.13 415.3077,-573.13 411.8078,-583.13 418.8078,-583.13\"/>\n</g>\n<!-- 7 -->\n<g id=\"node5\" class=\"node\">\n<title>7</title>\n<path fill=\"#efb489\" stroke=\"#000000\" d=\"M315.3077,-469C315.3077,-469 241.3077,-469 241.3077,-469 235.3077,-469 229.3077,-463 229.3077,-457 229.3077,-457 229.3077,-413 229.3077,-413 229.3077,-407 235.3077,-401 241.3077,-401 241.3077,-401 315.3077,-401 315.3077,-401 321.3077,-401 327.3077,-407 327.3077,-413 327.3077,-413 327.3077,-457 327.3077,-457 327.3077,-463 321.3077,-469 315.3077,-469\"/>\n<text text-anchor=\"start\" x=\"244.8077\" y=\"-453.8\" font-family=\"Helvetica,sans-Serif\" font-size=\"14.00\" fill=\"#000000\">Age ≤ 36.5</text>\n<text text-anchor=\"start\" x=\"247.8077\" y=\"-438.8\" font-family=\"Helvetica,sans-Serif\" font-size=\"14.00\" fill=\"#000000\">mse = 0.2</text>\n<text text-anchor=\"start\" x=\"237.3077\" y=\"-423.8\" font-family=\"Helvetica,sans-Serif\" font-size=\"14.00\" fill=\"#000000\">samples = 92</text>\n<text text-anchor=\"start\" x=\"244.8077\" y=\"-408.8\" font-family=\"Helvetica,sans-Serif\" font-size=\"14.00\" fill=\"#000000\">value = 0.6</text>\n</g>\n<!-- 4&#45;&gt;7 -->\n<g id=\"edge4\" class=\"edge\">\n<title>4&#45;&gt;7</title>\n<path fill=\"none\" stroke=\"#000000\" d=\"M370.4488,-504.9465C358.0299,-495.519 344.4294,-485.1946 331.5816,-475.4415\"/>\n<polygon fill=\"#000000\" stroke=\"#000000\" points=\"333.3487,-472.3887 323.2674,-469.13 329.1162,-477.9642 333.3487,-472.3887\"/>\n</g>\n<!-- 8 -->\n<g id=\"node12\" class=\"node\">\n<title>8</title>\n<path fill=\"#fcefe6\" stroke=\"#000000\" d=\"M452.3077,-461.5C452.3077,-461.5 378.3077,-461.5 378.3077,-461.5 372.3077,-461.5 366.3077,-455.5 366.3077,-449.5 366.3077,-449.5 366.3077,-420.5 366.3077,-420.5 366.3077,-414.5 372.3077,-408.5 378.3077,-408.5 378.3077,-408.5 452.3077,-408.5 452.3077,-408.5 458.3077,-408.5 464.3077,-414.5 464.3077,-420.5 464.3077,-420.5 464.3077,-449.5 464.3077,-449.5 464.3077,-455.5 458.3077,-461.5 452.3077,-461.5\"/>\n<text text-anchor=\"start\" x=\"384.8077\" y=\"-446.3\" font-family=\"Helvetica,sans-Serif\" font-size=\"14.00\" fill=\"#000000\">mse = 0.1</text>\n<text text-anchor=\"start\" x=\"374.3077\" y=\"-431.3\" font-family=\"Helvetica,sans-Serif\" font-size=\"14.00\" fill=\"#000000\">samples = 24</text>\n<text text-anchor=\"start\" x=\"381.8077\" y=\"-416.3\" font-family=\"Helvetica,sans-Serif\" font-size=\"14.00\" fill=\"#000000\">value = 0.1</text>\n</g>\n<!-- 4&#45;&gt;8 -->\n<g id=\"edge11\" class=\"edge\">\n<title>4&#45;&gt;8</title>\n<path fill=\"none\" stroke=\"#000000\" d=\"M415.3077,-504.9465C415.3077,-494.2621 415.3077,-482.4254 415.3077,-471.5742\"/>\n<polygon fill=\"#000000\" stroke=\"#000000\" points=\"418.8078,-471.5421 415.3077,-461.5422 411.8078,-471.5422 418.8078,-471.5421\"/>\n</g>\n<!-- 23 -->\n<g id=\"node6\" class=\"node\">\n<title>23</title>\n<path fill=\"#efb083\" stroke=\"#000000\" d=\"M186.3077,-365C186.3077,-365 68.3077,-365 68.3077,-365 62.3077,-365 56.3077,-359 56.3077,-353 56.3077,-353 56.3077,-309 56.3077,-309 56.3077,-303 62.3077,-297 68.3077,-297 68.3077,-297 186.3077,-297 186.3077,-297 192.3077,-297 198.3077,-303 198.3077,-309 198.3077,-309 198.3077,-353 198.3077,-353 198.3077,-359 192.3077,-365 186.3077,-365\"/>\n<text text-anchor=\"start\" x=\"64.3077\" y=\"-349.8\" font-family=\"Helvetica,sans-Serif\" font-size=\"14.00\" fill=\"#000000\">PassengerId ≤ 396.0</text>\n<text text-anchor=\"start\" x=\"96.8077\" y=\"-334.8\" font-family=\"Helvetica,sans-Serif\" font-size=\"14.00\" fill=\"#000000\">mse = 0.2</text>\n<text text-anchor=\"start\" x=\"86.3077\" y=\"-319.8\" font-family=\"Helvetica,sans-Serif\" font-size=\"14.00\" fill=\"#000000\">samples = 86</text>\n<text text-anchor=\"start\" x=\"93.8077\" y=\"-304.8\" font-family=\"Helvetica,sans-Serif\" font-size=\"14.00\" fill=\"#000000\">value = 0.6</text>\n</g>\n<!-- 7&#45;&gt;23 -->\n<g id=\"edge5\" class=\"edge\">\n<title>7&#45;&gt;23</title>\n<path fill=\"none\" stroke=\"#000000\" d=\"M229.2824,-401.2342C215.2449,-391.566 199.8094,-380.9349 185.2889,-370.934\"/>\n<polygon fill=\"#000000\" stroke=\"#000000\" points=\"187.0836,-367.9204 176.8627,-365.1306 183.113,-373.6853 187.0836,-367.9204\"/>\n</g>\n<!-- 24 -->\n<g id=\"node11\" class=\"node\">\n<title>24</title>\n<path fill=\"#fbeade\" stroke=\"#000000\" d=\"M318.8077,-357.5C318.8077,-357.5 251.8077,-357.5 251.8077,-357.5 245.8077,-357.5 239.8077,-351.5 239.8077,-345.5 239.8077,-345.5 239.8077,-316.5 239.8077,-316.5 239.8077,-310.5 245.8077,-304.5 251.8077,-304.5 251.8077,-304.5 318.8077,-304.5 318.8077,-304.5 324.8077,-304.5 330.8077,-310.5 330.8077,-316.5 330.8077,-316.5 330.8077,-345.5 330.8077,-345.5 330.8077,-351.5 324.8077,-357.5 318.8077,-357.5\"/>\n<text text-anchor=\"start\" x=\"254.8077\" y=\"-342.3\" font-family=\"Helvetica,sans-Serif\" font-size=\"14.00\" fill=\"#000000\">mse = 0.1</text>\n<text text-anchor=\"start\" x=\"247.8077\" y=\"-327.3\" font-family=\"Helvetica,sans-Serif\" font-size=\"14.00\" fill=\"#000000\">samples = 6</text>\n<text text-anchor=\"start\" x=\"251.8077\" y=\"-312.3\" font-family=\"Helvetica,sans-Serif\" font-size=\"14.00\" fill=\"#000000\">value = 0.2</text>\n</g>\n<!-- 7&#45;&gt;24 -->\n<g id=\"edge10\" class=\"edge\">\n<title>7&#45;&gt;24</title>\n<path fill=\"none\" stroke=\"#000000\" d=\"M280.5998,-400.9465C281.3189,-390.2621 282.1156,-378.4254 282.846,-367.5742\"/>\n<polygon fill=\"#000000\" stroke=\"#000000\" points=\"286.3417,-367.7547 283.5212,-357.5422 279.3575,-367.2845 286.3417,-367.7547\"/>\n</g>\n<!-- 25 -->\n<g id=\"node7\" class=\"node\">\n<title>25</title>\n<path fill=\"#eca06a\" stroke=\"#000000\" d=\"M94.3077,-253.5C94.3077,-253.5 20.3077,-253.5 20.3077,-253.5 14.3077,-253.5 8.3077,-247.5 8.3077,-241.5 8.3077,-241.5 8.3077,-212.5 8.3077,-212.5 8.3077,-206.5 14.3077,-200.5 20.3077,-200.5 20.3077,-200.5 94.3077,-200.5 94.3077,-200.5 100.3077,-200.5 106.3077,-206.5 106.3077,-212.5 106.3077,-212.5 106.3077,-241.5 106.3077,-241.5 106.3077,-247.5 100.3077,-253.5 94.3077,-253.5\"/>\n<text text-anchor=\"start\" x=\"26.8077\" y=\"-238.3\" font-family=\"Helvetica,sans-Serif\" font-size=\"14.00\" fill=\"#000000\">mse = 0.2</text>\n<text text-anchor=\"start\" x=\"16.3077\" y=\"-223.3\" font-family=\"Helvetica,sans-Serif\" font-size=\"14.00\" fill=\"#000000\">samples = 44</text>\n<text text-anchor=\"start\" x=\"23.8077\" y=\"-208.3\" font-family=\"Helvetica,sans-Serif\" font-size=\"14.00\" fill=\"#000000\">value = 0.8</text>\n</g>\n<!-- 23&#45;&gt;25 -->\n<g id=\"edge6\" class=\"edge\">\n<title>23&#45;&gt;25</title>\n<path fill=\"none\" stroke=\"#000000\" d=\"M104.3871,-296.9465C96.825,-285.7113 88.4053,-273.2021 80.801,-261.9043\"/>\n<polygon fill=\"#000000\" stroke=\"#000000\" points=\"83.66,-259.8837 75.1727,-253.5422 77.8529,-263.7924 83.66,-259.8837\"/>\n</g>\n<!-- 26 -->\n<g id=\"node8\" class=\"node\">\n<title>26</title>\n<path fill=\"#f2c09c\" stroke=\"#000000\" d=\"M235.3077,-261C235.3077,-261 157.3077,-261 157.3077,-261 151.3077,-261 145.3077,-255 145.3077,-249 145.3077,-249 145.3077,-205 145.3077,-205 145.3077,-199 151.3077,-193 157.3077,-193 157.3077,-193 235.3077,-193 235.3077,-193 241.3077,-193 247.3077,-199 247.3077,-205 247.3077,-205 247.3077,-249 247.3077,-249 247.3077,-255 241.3077,-261 235.3077,-261\"/>\n<text text-anchor=\"start\" x=\"153.3077\" y=\"-245.8\" font-family=\"Helvetica,sans-Serif\" font-size=\"14.00\" fill=\"#000000\">Ticket ≤ 200.0</text>\n<text text-anchor=\"start\" x=\"165.8077\" y=\"-230.8\" font-family=\"Helvetica,sans-Serif\" font-size=\"14.00\" fill=\"#000000\">mse = 0.2</text>\n<text text-anchor=\"start\" x=\"155.3077\" y=\"-215.8\" font-family=\"Helvetica,sans-Serif\" font-size=\"14.00\" fill=\"#000000\">samples = 42</text>\n<text text-anchor=\"start\" x=\"162.8077\" y=\"-200.8\" font-family=\"Helvetica,sans-Serif\" font-size=\"14.00\" fill=\"#000000\">value = 0.5</text>\n</g>\n<!-- 23&#45;&gt;26 -->\n<g id=\"edge7\" class=\"edge\">\n<title>23&#45;&gt;26</title>\n<path fill=\"none\" stroke=\"#000000\" d=\"M149.9009,-296.9465C155.6791,-288.2373 161.9652,-278.7626 167.9912,-269.6801\"/>\n<polygon fill=\"#000000\" stroke=\"#000000\" points=\"171.0517,-271.3978 173.6638,-261.13 165.2188,-267.5278 171.0517,-271.3978\"/>\n</g>\n<!-- 27 -->\n<g id=\"node9\" class=\"node\">\n<title>27</title>\n<path fill=\"#e58139\" stroke=\"#000000\" d=\"M162.8077,-149.5C162.8077,-149.5 95.8077,-149.5 95.8077,-149.5 89.8077,-149.5 83.8077,-143.5 83.8077,-137.5 83.8077,-137.5 83.8077,-108.5 83.8077,-108.5 83.8077,-102.5 89.8077,-96.5 95.8077,-96.5 95.8077,-96.5 162.8077,-96.5 162.8077,-96.5 168.8077,-96.5 174.8077,-102.5 174.8077,-108.5 174.8077,-108.5 174.8077,-137.5 174.8077,-137.5 174.8077,-143.5 168.8077,-149.5 162.8077,-149.5\"/>\n<text text-anchor=\"start\" x=\"98.8077\" y=\"-134.3\" font-family=\"Helvetica,sans-Serif\" font-size=\"14.00\" fill=\"#000000\">mse = 0.0</text>\n<text text-anchor=\"start\" x=\"91.8077\" y=\"-119.3\" font-family=\"Helvetica,sans-Serif\" font-size=\"14.00\" fill=\"#000000\">samples = 6</text>\n<text text-anchor=\"start\" x=\"95.8077\" y=\"-104.3\" font-family=\"Helvetica,sans-Serif\" font-size=\"14.00\" fill=\"#000000\">value = 1.0</text>\n</g>\n<!-- 26&#45;&gt;27 -->\n<g id=\"edge8\" class=\"edge\">\n<title>26&#45;&gt;27</title>\n<path fill=\"none\" stroke=\"#000000\" d=\"M174.3694,-192.9465C167.2023,-181.8215 159.2305,-169.4473 152.0085,-158.237\"/>\n<polygon fill=\"#000000\" stroke=\"#000000\" points=\"154.7651,-156.0532 146.407,-149.5422 148.8805,-159.8442 154.7651,-156.0532\"/>\n</g>\n<!-- 28 -->\n<g id=\"node10\" class=\"node\">\n<title>28</title>\n<path fill=\"#f4caac\" stroke=\"#000000\" d=\"M299.3077,-149.5C299.3077,-149.5 225.3077,-149.5 225.3077,-149.5 219.3077,-149.5 213.3077,-143.5 213.3077,-137.5 213.3077,-137.5 213.3077,-108.5 213.3077,-108.5 213.3077,-102.5 219.3077,-96.5 225.3077,-96.5 225.3077,-96.5 299.3077,-96.5 299.3077,-96.5 305.3077,-96.5 311.3077,-102.5 311.3077,-108.5 311.3077,-108.5 311.3077,-137.5 311.3077,-137.5 311.3077,-143.5 305.3077,-149.5 299.3077,-149.5\"/>\n<text text-anchor=\"start\" x=\"231.8077\" y=\"-134.3\" font-family=\"Helvetica,sans-Serif\" font-size=\"14.00\" fill=\"#000000\">mse = 0.2</text>\n<text text-anchor=\"start\" x=\"221.3077\" y=\"-119.3\" font-family=\"Helvetica,sans-Serif\" font-size=\"14.00\" fill=\"#000000\">samples = 36</text>\n<text text-anchor=\"start\" x=\"228.8077\" y=\"-104.3\" font-family=\"Helvetica,sans-Serif\" font-size=\"14.00\" fill=\"#000000\">value = 0.4</text>\n</g>\n<!-- 26&#45;&gt;28 -->\n<g id=\"edge9\" class=\"edge\">\n<title>26&#45;&gt;28</title>\n<path fill=\"none\" stroke=\"#000000\" d=\"M217.9186,-192.9465C224.9787,-181.8215 232.8316,-169.4473 239.9458,-158.237\"/>\n<polygon fill=\"#000000\" stroke=\"#000000\" points=\"243.0605,-159.8609 245.4637,-149.5422 237.1502,-156.1101 243.0605,-159.8609\"/>\n</g>\n<!-- 5 -->\n<g id=\"node14\" class=\"node\">\n<title>5</title>\n<path fill=\"#fbeee4\" stroke=\"#000000\" d=\"M665.3077,-573C665.3077,-573 583.3077,-573 583.3077,-573 577.3077,-573 571.3077,-567 571.3077,-561 571.3077,-561 571.3077,-517 571.3077,-517 571.3077,-511 577.3077,-505 583.3077,-505 583.3077,-505 665.3077,-505 665.3077,-505 671.3077,-505 677.3077,-511 677.3077,-517 677.3077,-517 677.3077,-561 677.3077,-561 677.3077,-567 671.3077,-573 665.3077,-573\"/>\n<text text-anchor=\"start\" x=\"594.8077\" y=\"-557.8\" font-family=\"Helvetica,sans-Serif\" font-size=\"14.00\" fill=\"#000000\">Age ≤ 3.5</text>\n<text text-anchor=\"start\" x=\"593.8077\" y=\"-542.8\" font-family=\"Helvetica,sans-Serif\" font-size=\"14.00\" fill=\"#000000\">mse = 0.1</text>\n<text text-anchor=\"start\" x=\"579.3077\" y=\"-527.8\" font-family=\"Helvetica,sans-Serif\" font-size=\"14.00\" fill=\"#000000\">samples = 383</text>\n<text text-anchor=\"start\" x=\"590.8077\" y=\"-512.8\" font-family=\"Helvetica,sans-Serif\" font-size=\"14.00\" fill=\"#000000\">value = 0.1</text>\n</g>\n<!-- 2&#45;&gt;5 -->\n<g id=\"edge13\" class=\"edge\">\n<title>2&#45;&gt;5</title>\n<path fill=\"none\" stroke=\"#000000\" d=\"M624.3077,-608.9465C624.3077,-600.776 624.3077,-591.9318 624.3077,-583.3697\"/>\n<polygon fill=\"#000000\" stroke=\"#000000\" points=\"627.8078,-583.13 624.3077,-573.13 620.8078,-583.13 627.8078,-583.13\"/>\n</g>\n<!-- 6 -->\n<g id=\"node21\" class=\"node\">\n<title>6</title>\n<path fill=\"#f4c9a9\" stroke=\"#000000\" d=\"M867.3077,-573C867.3077,-573 793.3077,-573 793.3077,-573 787.3077,-573 781.3077,-567 781.3077,-561 781.3077,-561 781.3077,-517 781.3077,-517 781.3077,-511 787.3077,-505 793.3077,-505 793.3077,-505 867.3077,-505 867.3077,-505 873.3077,-505 879.3077,-511 879.3077,-517 879.3077,-517 879.3077,-561 879.3077,-561 879.3077,-567 873.3077,-573 867.3077,-573\"/>\n<text text-anchor=\"start\" x=\"796.8077\" y=\"-557.8\" font-family=\"Helvetica,sans-Serif\" font-size=\"14.00\" fill=\"#000000\">Age ≤ 18.0</text>\n<text text-anchor=\"start\" x=\"799.8077\" y=\"-542.8\" font-family=\"Helvetica,sans-Serif\" font-size=\"14.00\" fill=\"#000000\">mse = 0.2</text>\n<text text-anchor=\"start\" x=\"789.3077\" y=\"-527.8\" font-family=\"Helvetica,sans-Serif\" font-size=\"14.00\" fill=\"#000000\">samples = 81</text>\n<text text-anchor=\"start\" x=\"796.8077\" y=\"-512.8\" font-family=\"Helvetica,sans-Serif\" font-size=\"14.00\" fill=\"#000000\">value = 0.4</text>\n</g>\n<!-- 2&#45;&gt;6 -->\n<g id=\"edge20\" class=\"edge\">\n<title>2&#45;&gt;6</title>\n<path fill=\"none\" stroke=\"#000000\" d=\"M677.3579,-616.2174C706.3114,-601.6001 742.213,-583.475 771.9556,-568.4593\"/>\n<polygon fill=\"#000000\" stroke=\"#000000\" points=\"773.6243,-571.5377 780.9738,-563.9065 770.4695,-565.2889 773.6243,-571.5377\"/>\n</g>\n<!-- 9 -->\n<g id=\"node15\" class=\"node\">\n<title>9</title>\n<path fill=\"#eda876\" stroke=\"#000000\" d=\"M588.3077,-469C588.3077,-469 514.3077,-469 514.3077,-469 508.3077,-469 502.3077,-463 502.3077,-457 502.3077,-457 502.3077,-413 502.3077,-413 502.3077,-407 508.3077,-401 514.3077,-401 514.3077,-401 588.3077,-401 588.3077,-401 594.3077,-401 600.3077,-407 600.3077,-413 600.3077,-413 600.3077,-457 600.3077,-457 600.3077,-463 594.3077,-469 588.3077,-469\"/>\n<text text-anchor=\"start\" x=\"515.8077\" y=\"-453.8\" font-family=\"Helvetica,sans-Serif\" font-size=\"14.00\" fill=\"#000000\">SibSp ≤ 2.0</text>\n<text text-anchor=\"start\" x=\"520.8077\" y=\"-438.8\" font-family=\"Helvetica,sans-Serif\" font-size=\"14.00\" fill=\"#000000\">mse = 0.2</text>\n<text text-anchor=\"start\" x=\"510.3077\" y=\"-423.8\" font-family=\"Helvetica,sans-Serif\" font-size=\"14.00\" fill=\"#000000\">samples = 13</text>\n<text text-anchor=\"start\" x=\"517.8077\" y=\"-408.8\" font-family=\"Helvetica,sans-Serif\" font-size=\"14.00\" fill=\"#000000\">value = 0.7</text>\n</g>\n<!-- 5&#45;&gt;9 -->\n<g id=\"edge14\" class=\"edge\">\n<title>5&#45;&gt;9</title>\n<path fill=\"none\" stroke=\"#000000\" d=\"M600.4048,-504.9465C594.2286,-496.1475 587.5039,-486.5672 581.0688,-477.3993\"/>\n<polygon fill=\"#000000\" stroke=\"#000000\" points=\"583.8743,-475.3041 575.2644,-469.13 578.1449,-479.3258 583.8743,-475.3041\"/>\n</g>\n<!-- 10 -->\n<g id=\"node18\" class=\"node\">\n<title>10</title>\n<path fill=\"#fcf0e8\" stroke=\"#000000\" d=\"M733.3077,-469C733.3077,-469 651.3077,-469 651.3077,-469 645.3077,-469 639.3077,-463 639.3077,-457 639.3077,-457 639.3077,-413 639.3077,-413 639.3077,-407 645.3077,-401 651.3077,-401 651.3077,-401 733.3077,-401 733.3077,-401 739.3077,-401 745.3077,-407 745.3077,-413 745.3077,-413 745.3077,-457 745.3077,-457 745.3077,-463 739.3077,-469 733.3077,-469\"/>\n<text text-anchor=\"start\" x=\"652.8077\" y=\"-453.8\" font-family=\"Helvetica,sans-Serif\" font-size=\"14.00\" fill=\"#000000\">Ticket ≤ 89.5</text>\n<text text-anchor=\"start\" x=\"661.8077\" y=\"-438.8\" font-family=\"Helvetica,sans-Serif\" font-size=\"14.00\" fill=\"#000000\">mse = 0.1</text>\n<text text-anchor=\"start\" x=\"647.3077\" y=\"-423.8\" font-family=\"Helvetica,sans-Serif\" font-size=\"14.00\" fill=\"#000000\">samples = 370</text>\n<text text-anchor=\"start\" x=\"658.8077\" y=\"-408.8\" font-family=\"Helvetica,sans-Serif\" font-size=\"14.00\" fill=\"#000000\">value = 0.1</text>\n</g>\n<!-- 5&#45;&gt;10 -->\n<g id=\"edge17\" class=\"edge\">\n<title>5&#45;&gt;10</title>\n<path fill=\"none\" stroke=\"#000000\" d=\"M646.5735,-504.9465C652.2679,-496.2373 658.463,-486.7626 664.4015,-477.6801\"/>\n<polygon fill=\"#000000\" stroke=\"#000000\" points=\"667.4488,-479.4151 669.992,-469.13 661.59,-475.5843 667.4488,-479.4151\"/>\n</g>\n<!-- 13 -->\n<g id=\"node16\" class=\"node\">\n<title>13</title>\n<path fill=\"#e58139\" stroke=\"#000000\" d=\"M458.8077,-357.5C458.8077,-357.5 391.8077,-357.5 391.8077,-357.5 385.8077,-357.5 379.8077,-351.5 379.8077,-345.5 379.8077,-345.5 379.8077,-316.5 379.8077,-316.5 379.8077,-310.5 385.8077,-304.5 391.8077,-304.5 391.8077,-304.5 458.8077,-304.5 458.8077,-304.5 464.8077,-304.5 470.8077,-310.5 470.8077,-316.5 470.8077,-316.5 470.8077,-345.5 470.8077,-345.5 470.8077,-351.5 464.8077,-357.5 458.8077,-357.5\"/>\n<text text-anchor=\"start\" x=\"394.8077\" y=\"-342.3\" font-family=\"Helvetica,sans-Serif\" font-size=\"14.00\" fill=\"#000000\">mse = 0.0</text>\n<text text-anchor=\"start\" x=\"387.8077\" y=\"-327.3\" font-family=\"Helvetica,sans-Serif\" font-size=\"14.00\" fill=\"#000000\">samples = 8</text>\n<text text-anchor=\"start\" x=\"391.8077\" y=\"-312.3\" font-family=\"Helvetica,sans-Serif\" font-size=\"14.00\" fill=\"#000000\">value = 1.0</text>\n</g>\n<!-- 9&#45;&gt;13 -->\n<g id=\"edge15\" class=\"edge\">\n<title>9&#45;&gt;13</title>\n<path fill=\"none\" stroke=\"#000000\" d=\"M510.0506,-400.9465C495.638,-389.0504 479.495,-375.726 465.196,-363.9237\"/>\n<polygon fill=\"#000000\" stroke=\"#000000\" points=\"467.4048,-361.2086 457.4646,-357.5422 462.9489,-366.6071 467.4048,-361.2086\"/>\n</g>\n<!-- 14 -->\n<g id=\"node17\" class=\"node\">\n<title>14</title>\n<path fill=\"#fae6d7\" stroke=\"#000000\" d=\"M587.8077,-357.5C587.8077,-357.5 520.8077,-357.5 520.8077,-357.5 514.8077,-357.5 508.8077,-351.5 508.8077,-345.5 508.8077,-345.5 508.8077,-316.5 508.8077,-316.5 508.8077,-310.5 514.8077,-304.5 520.8077,-304.5 520.8077,-304.5 587.8077,-304.5 587.8077,-304.5 593.8077,-304.5 599.8077,-310.5 599.8077,-316.5 599.8077,-316.5 599.8077,-345.5 599.8077,-345.5 599.8077,-351.5 593.8077,-357.5 587.8077,-357.5\"/>\n<text text-anchor=\"start\" x=\"523.8077\" y=\"-342.3\" font-family=\"Helvetica,sans-Serif\" font-size=\"14.00\" fill=\"#000000\">mse = 0.2</text>\n<text text-anchor=\"start\" x=\"516.8077\" y=\"-327.3\" font-family=\"Helvetica,sans-Serif\" font-size=\"14.00\" fill=\"#000000\">samples = 5</text>\n<text text-anchor=\"start\" x=\"520.8077\" y=\"-312.3\" font-family=\"Helvetica,sans-Serif\" font-size=\"14.00\" fill=\"#000000\">value = 0.2</text>\n</g>\n<!-- 9&#45;&gt;14 -->\n<g id=\"edge16\" class=\"edge\">\n<title>9&#45;&gt;14</title>\n<path fill=\"none\" stroke=\"#000000\" d=\"M552.2901,-400.9465C552.5983,-390.2621 552.9397,-378.4254 553.2527,-367.5742\"/>\n<polygon fill=\"#000000\" stroke=\"#000000\" points=\"556.7522,-367.639 553.5421,-357.5422 549.7551,-367.4371 556.7522,-367.639\"/>\n</g>\n<!-- 21 -->\n<g id=\"node19\" class=\"node\">\n<title>21</title>\n<path fill=\"#f6d5bd\" stroke=\"#000000\" d=\"M727.3077,-357.5C727.3077,-357.5 653.3077,-357.5 653.3077,-357.5 647.3077,-357.5 641.3077,-351.5 641.3077,-345.5 641.3077,-345.5 641.3077,-316.5 641.3077,-316.5 641.3077,-310.5 647.3077,-304.5 653.3077,-304.5 653.3077,-304.5 727.3077,-304.5 727.3077,-304.5 733.3077,-304.5 739.3077,-310.5 739.3077,-316.5 739.3077,-316.5 739.3077,-345.5 739.3077,-345.5 739.3077,-351.5 733.3077,-357.5 727.3077,-357.5\"/>\n<text text-anchor=\"start\" x=\"659.8077\" y=\"-342.3\" font-family=\"Helvetica,sans-Serif\" font-size=\"14.00\" fill=\"#000000\">mse = 0.2</text>\n<text text-anchor=\"start\" x=\"649.3077\" y=\"-327.3\" font-family=\"Helvetica,sans-Serif\" font-size=\"14.00\" fill=\"#000000\">samples = 24</text>\n<text text-anchor=\"start\" x=\"656.8077\" y=\"-312.3\" font-family=\"Helvetica,sans-Serif\" font-size=\"14.00\" fill=\"#000000\">value = 0.3</text>\n</g>\n<!-- 10&#45;&gt;21 -->\n<g id=\"edge18\" class=\"edge\">\n<title>10&#45;&gt;21</title>\n<path fill=\"none\" stroke=\"#000000\" d=\"M691.6529,-400.9465C691.4474,-390.2621 691.2198,-378.4254 691.0111,-367.5742\"/>\n<polygon fill=\"#000000\" stroke=\"#000000\" points=\"694.5099,-367.473 690.8182,-357.5422 687.5112,-367.6076 694.5099,-367.473\"/>\n</g>\n<!-- 22 -->\n<g id=\"node20\" class=\"node\">\n<title>22</title>\n<path fill=\"#fcf2eb\" stroke=\"#000000\" d=\"M872.3077,-357.5C872.3077,-357.5 790.3077,-357.5 790.3077,-357.5 784.3077,-357.5 778.3077,-351.5 778.3077,-345.5 778.3077,-345.5 778.3077,-316.5 778.3077,-316.5 778.3077,-310.5 784.3077,-304.5 790.3077,-304.5 790.3077,-304.5 872.3077,-304.5 872.3077,-304.5 878.3077,-304.5 884.3077,-310.5 884.3077,-316.5 884.3077,-316.5 884.3077,-345.5 884.3077,-345.5 884.3077,-351.5 878.3077,-357.5 872.3077,-357.5\"/>\n<text text-anchor=\"start\" x=\"800.8077\" y=\"-342.3\" font-family=\"Helvetica,sans-Serif\" font-size=\"14.00\" fill=\"#000000\">mse = 0.1</text>\n<text text-anchor=\"start\" x=\"786.3077\" y=\"-327.3\" font-family=\"Helvetica,sans-Serif\" font-size=\"14.00\" fill=\"#000000\">samples = 346</text>\n<text text-anchor=\"start\" x=\"797.8077\" y=\"-312.3\" font-family=\"Helvetica,sans-Serif\" font-size=\"14.00\" fill=\"#000000\">value = 0.1</text>\n</g>\n<!-- 10&#45;&gt;22 -->\n<g id=\"edge19\" class=\"edge\">\n<title>10&#45;&gt;22</title>\n<path fill=\"none\" stroke=\"#000000\" d=\"M737.8215,-400.9465C753.8683,-388.9403 771.8597,-375.4791 787.7416,-363.5962\"/>\n<polygon fill=\"#000000\" stroke=\"#000000\" points=\"789.923,-366.3354 795.8331,-357.5422 785.7294,-360.7306 789.923,-366.3354\"/>\n</g>\n<!-- 11 -->\n<g id=\"node22\" class=\"node\">\n<title>11</title>\n<path fill=\"#e58139\" stroke=\"#000000\" d=\"M863.8077,-461.5C863.8077,-461.5 796.8077,-461.5 796.8077,-461.5 790.8077,-461.5 784.8077,-455.5 784.8077,-449.5 784.8077,-449.5 784.8077,-420.5 784.8077,-420.5 784.8077,-414.5 790.8077,-408.5 796.8077,-408.5 796.8077,-408.5 863.8077,-408.5 863.8077,-408.5 869.8077,-408.5 875.8077,-414.5 875.8077,-420.5 875.8077,-420.5 875.8077,-449.5 875.8077,-449.5 875.8077,-455.5 869.8077,-461.5 863.8077,-461.5\"/>\n<text text-anchor=\"start\" x=\"799.8077\" y=\"-446.3\" font-family=\"Helvetica,sans-Serif\" font-size=\"14.00\" fill=\"#000000\">mse = 0.0</text>\n<text text-anchor=\"start\" x=\"792.8077\" y=\"-431.3\" font-family=\"Helvetica,sans-Serif\" font-size=\"14.00\" fill=\"#000000\">samples = 7</text>\n<text text-anchor=\"start\" x=\"796.8077\" y=\"-416.3\" font-family=\"Helvetica,sans-Serif\" font-size=\"14.00\" fill=\"#000000\">value = 1.0</text>\n</g>\n<!-- 6&#45;&gt;11 -->\n<g id=\"edge21\" class=\"edge\">\n<title>6&#45;&gt;11</title>\n<path fill=\"none\" stroke=\"#000000\" d=\"M830.3077,-504.9465C830.3077,-494.2621 830.3077,-482.4254 830.3077,-471.5742\"/>\n<polygon fill=\"#000000\" stroke=\"#000000\" points=\"833.8078,-471.5421 830.3077,-461.5422 826.8078,-471.5422 833.8078,-471.5421\"/>\n</g>\n<!-- 12 -->\n<g id=\"node23\" class=\"node\">\n<title>12</title>\n<path fill=\"#f5cfb4\" stroke=\"#000000\" d=\"M1048.3077,-469C1048.3077,-469 930.3077,-469 930.3077,-469 924.3077,-469 918.3077,-463 918.3077,-457 918.3077,-457 918.3077,-413 918.3077,-413 918.3077,-407 924.3077,-401 930.3077,-401 930.3077,-401 1048.3077,-401 1048.3077,-401 1054.3077,-401 1060.3077,-407 1060.3077,-413 1060.3077,-413 1060.3077,-457 1060.3077,-457 1060.3077,-463 1054.3077,-469 1048.3077,-469\"/>\n<text text-anchor=\"start\" x=\"926.3077\" y=\"-453.8\" font-family=\"Helvetica,sans-Serif\" font-size=\"14.00\" fill=\"#000000\">PassengerId ≤ 361.5</text>\n<text text-anchor=\"start\" x=\"958.8077\" y=\"-438.8\" font-family=\"Helvetica,sans-Serif\" font-size=\"14.00\" fill=\"#000000\">mse = 0.2</text>\n<text text-anchor=\"start\" x=\"948.3077\" y=\"-423.8\" font-family=\"Helvetica,sans-Serif\" font-size=\"14.00\" fill=\"#000000\">samples = 74</text>\n<text text-anchor=\"start\" x=\"955.8077\" y=\"-408.8\" font-family=\"Helvetica,sans-Serif\" font-size=\"14.00\" fill=\"#000000\">value = 0.4</text>\n</g>\n<!-- 6&#45;&gt;12 -->\n<g id=\"edge22\" class=\"edge\">\n<title>6&#45;&gt;12</title>\n<path fill=\"none\" stroke=\"#000000\" d=\"M879.3104,-506.948C894.9284,-496.7324 912.3974,-485.3062 928.7342,-474.6204\"/>\n<polygon fill=\"#000000\" stroke=\"#000000\" points=\"930.7054,-477.5133 937.1583,-469.1103 926.8737,-471.6552 930.7054,-477.5133\"/>\n</g>\n<!-- 15 -->\n<g id=\"node24\" class=\"node\">\n<title>15</title>\n<path fill=\"#fae8dc\" stroke=\"#000000\" d=\"M1017.3077,-357.5C1017.3077,-357.5 943.3077,-357.5 943.3077,-357.5 937.3077,-357.5 931.3077,-351.5 931.3077,-345.5 931.3077,-345.5 931.3077,-316.5 931.3077,-316.5 931.3077,-310.5 937.3077,-304.5 943.3077,-304.5 943.3077,-304.5 1017.3077,-304.5 1017.3077,-304.5 1023.3077,-304.5 1029.3077,-310.5 1029.3077,-316.5 1029.3077,-316.5 1029.3077,-345.5 1029.3077,-345.5 1029.3077,-351.5 1023.3077,-357.5 1017.3077,-357.5\"/>\n<text text-anchor=\"start\" x=\"949.8077\" y=\"-342.3\" font-family=\"Helvetica,sans-Serif\" font-size=\"14.00\" fill=\"#000000\">mse = 0.1</text>\n<text text-anchor=\"start\" x=\"939.3077\" y=\"-327.3\" font-family=\"Helvetica,sans-Serif\" font-size=\"14.00\" fill=\"#000000\">samples = 28</text>\n<text text-anchor=\"start\" x=\"946.8077\" y=\"-312.3\" font-family=\"Helvetica,sans-Serif\" font-size=\"14.00\" fill=\"#000000\">value = 0.2</text>\n</g>\n<!-- 12&#45;&gt;15 -->\n<g id=\"edge23\" class=\"edge\">\n<title>12&#45;&gt;15</title>\n<path fill=\"none\" stroke=\"#000000\" d=\"M986.3608,-400.9465C985.4362,-390.2621 984.4119,-378.4254 983.4728,-367.5742\"/>\n<polygon fill=\"#000000\" stroke=\"#000000\" points=\"986.9539,-367.2031 982.6047,-357.5422 979.9799,-367.8067 986.9539,-367.2031\"/>\n</g>\n<!-- 16 -->\n<g id=\"node25\" class=\"node\">\n<title>16</title>\n<path fill=\"#f2c09c\" stroke=\"#000000\" d=\"M1154.3077,-365C1154.3077,-365 1080.3077,-365 1080.3077,-365 1074.3077,-365 1068.3077,-359 1068.3077,-353 1068.3077,-353 1068.3077,-309 1068.3077,-309 1068.3077,-303 1074.3077,-297 1080.3077,-297 1080.3077,-297 1154.3077,-297 1154.3077,-297 1160.3077,-297 1166.3077,-303 1166.3077,-309 1166.3077,-309 1166.3077,-353 1166.3077,-353 1166.3077,-359 1160.3077,-365 1154.3077,-365\"/>\n<text text-anchor=\"start\" x=\"1085.8077\" y=\"-349.8\" font-family=\"Helvetica,sans-Serif\" font-size=\"14.00\" fill=\"#000000\">Fare ≤ 7.9</text>\n<text text-anchor=\"start\" x=\"1086.8077\" y=\"-334.8\" font-family=\"Helvetica,sans-Serif\" font-size=\"14.00\" fill=\"#000000\">mse = 0.2</text>\n<text text-anchor=\"start\" x=\"1076.3077\" y=\"-319.8\" font-family=\"Helvetica,sans-Serif\" font-size=\"14.00\" fill=\"#000000\">samples = 46</text>\n<text text-anchor=\"start\" x=\"1083.8077\" y=\"-304.8\" font-family=\"Helvetica,sans-Serif\" font-size=\"14.00\" fill=\"#000000\">value = 0.5</text>\n</g>\n<!-- 12&#45;&gt;16 -->\n<g id=\"edge24\" class=\"edge\">\n<title>12&#45;&gt;16</title>\n<path fill=\"none\" stroke=\"#000000\" d=\"M1031.2197,-400.9465C1042.8228,-391.519 1055.5298,-381.1946 1067.5336,-371.4415\"/>\n<polygon fill=\"#000000\" stroke=\"#000000\" points=\"1069.7475,-374.1524 1075.3016,-365.13 1065.3333,-368.7196 1069.7475,-374.1524\"/>\n</g>\n<!-- 17 -->\n<g id=\"node26\" class=\"node\">\n<title>17</title>\n<path fill=\"#ffffff\" stroke=\"#000000\" d=\"M1083.8077,-253.5C1083.8077,-253.5 1016.8077,-253.5 1016.8077,-253.5 1010.8077,-253.5 1004.8077,-247.5 1004.8077,-241.5 1004.8077,-241.5 1004.8077,-212.5 1004.8077,-212.5 1004.8077,-206.5 1010.8077,-200.5 1016.8077,-200.5 1016.8077,-200.5 1083.8077,-200.5 1083.8077,-200.5 1089.8077,-200.5 1095.8077,-206.5 1095.8077,-212.5 1095.8077,-212.5 1095.8077,-241.5 1095.8077,-241.5 1095.8077,-247.5 1089.8077,-253.5 1083.8077,-253.5\"/>\n<text text-anchor=\"start\" x=\"1019.8077\" y=\"-238.3\" font-family=\"Helvetica,sans-Serif\" font-size=\"14.00\" fill=\"#000000\">mse = 0.0</text>\n<text text-anchor=\"start\" x=\"1012.8077\" y=\"-223.3\" font-family=\"Helvetica,sans-Serif\" font-size=\"14.00\" fill=\"#000000\">samples = 5</text>\n<text text-anchor=\"start\" x=\"1016.8077\" y=\"-208.3\" font-family=\"Helvetica,sans-Serif\" font-size=\"14.00\" fill=\"#000000\">value = 0.0</text>\n</g>\n<!-- 16&#45;&gt;17 -->\n<g id=\"edge25\" class=\"edge\">\n<title>16&#45;&gt;17</title>\n<path fill=\"none\" stroke=\"#000000\" d=\"M1095.3694,-296.9465C1088.2023,-285.8215 1080.2305,-273.4473 1073.0085,-262.237\"/>\n<polygon fill=\"#000000\" stroke=\"#000000\" points=\"1075.7651,-260.0532 1067.407,-253.5422 1069.8805,-263.8442 1075.7651,-260.0532\"/>\n</g>\n<!-- 18 -->\n<g id=\"node27\" class=\"node\">\n<title>18</title>\n<path fill=\"#f0b890\" stroke=\"#000000\" d=\"M1220.3077,-261C1220.3077,-261 1146.3077,-261 1146.3077,-261 1140.3077,-261 1134.3077,-255 1134.3077,-249 1134.3077,-249 1134.3077,-205 1134.3077,-205 1134.3077,-199 1140.3077,-193 1146.3077,-193 1146.3077,-193 1220.3077,-193 1220.3077,-193 1226.3077,-193 1232.3077,-199 1232.3077,-205 1232.3077,-205 1232.3077,-249 1232.3077,-249 1232.3077,-255 1226.3077,-261 1220.3077,-261\"/>\n<text text-anchor=\"start\" x=\"1149.8077\" y=\"-245.8\" font-family=\"Helvetica,sans-Serif\" font-size=\"14.00\" fill=\"#000000\">Age ≤ 57.0</text>\n<text text-anchor=\"start\" x=\"1152.8077\" y=\"-230.8\" font-family=\"Helvetica,sans-Serif\" font-size=\"14.00\" fill=\"#000000\">mse = 0.2</text>\n<text text-anchor=\"start\" x=\"1142.3077\" y=\"-215.8\" font-family=\"Helvetica,sans-Serif\" font-size=\"14.00\" fill=\"#000000\">samples = 41</text>\n<text text-anchor=\"start\" x=\"1149.8077\" y=\"-200.8\" font-family=\"Helvetica,sans-Serif\" font-size=\"14.00\" fill=\"#000000\">value = 0.6</text>\n</g>\n<!-- 16&#45;&gt;18 -->\n<g id=\"edge26\" class=\"edge\">\n<title>16&#45;&gt;18</title>\n<path fill=\"none\" stroke=\"#000000\" d=\"M1138.9186,-296.9465C1144.4456,-288.2373 1150.4584,-278.7626 1156.2223,-269.6801\"/>\n<polygon fill=\"#000000\" stroke=\"#000000\" points=\"1159.2452,-271.4487 1161.6483,-261.13 1153.3349,-267.6979 1159.2452,-271.4487\"/>\n</g>\n<!-- 19 -->\n<g id=\"node28\" class=\"node\">\n<title>19</title>\n<path fill=\"#efb184\" stroke=\"#000000\" d=\"M1153.3077,-157C1153.3077,-157 1079.3077,-157 1079.3077,-157 1073.3077,-157 1067.3077,-151 1067.3077,-145 1067.3077,-145 1067.3077,-101 1067.3077,-101 1067.3077,-95 1073.3077,-89 1079.3077,-89 1079.3077,-89 1153.3077,-89 1153.3077,-89 1159.3077,-89 1165.3077,-95 1165.3077,-101 1165.3077,-101 1165.3077,-145 1165.3077,-145 1165.3077,-151 1159.3077,-157 1153.3077,-157\"/>\n<text text-anchor=\"start\" x=\"1081.3077\" y=\"-141.8\" font-family=\"Helvetica,sans-Serif\" font-size=\"14.00\" fill=\"#000000\">Fare ≤ 37.0</text>\n<text text-anchor=\"start\" x=\"1085.8077\" y=\"-126.8\" font-family=\"Helvetica,sans-Serif\" font-size=\"14.00\" fill=\"#000000\">mse = 0.2</text>\n<text text-anchor=\"start\" x=\"1075.3077\" y=\"-111.8\" font-family=\"Helvetica,sans-Serif\" font-size=\"14.00\" fill=\"#000000\">samples = 37</text>\n<text text-anchor=\"start\" x=\"1082.8077\" y=\"-96.8\" font-family=\"Helvetica,sans-Serif\" font-size=\"14.00\" fill=\"#000000\">value = 0.6</text>\n</g>\n<!-- 18&#45;&gt;19 -->\n<g id=\"edge27\" class=\"edge\">\n<title>18&#45;&gt;19</title>\n<path fill=\"none\" stroke=\"#000000\" d=\"M1161.3694,-192.9465C1155.7587,-184.2373 1149.6548,-174.7626 1143.8035,-165.6801\"/>\n<polygon fill=\"#000000\" stroke=\"#000000\" points=\"1146.6534,-163.641 1138.2953,-157.13 1140.7688,-167.4321 1146.6534,-163.641\"/>\n</g>\n<!-- 20 -->\n<g id=\"node31\" class=\"node\">\n<title>20</title>\n<path fill=\"#ffffff\" stroke=\"#000000\" d=\"M1281.8077,-149.5C1281.8077,-149.5 1214.8077,-149.5 1214.8077,-149.5 1208.8077,-149.5 1202.8077,-143.5 1202.8077,-137.5 1202.8077,-137.5 1202.8077,-108.5 1202.8077,-108.5 1202.8077,-102.5 1208.8077,-96.5 1214.8077,-96.5 1214.8077,-96.5 1281.8077,-96.5 1281.8077,-96.5 1287.8077,-96.5 1293.8077,-102.5 1293.8077,-108.5 1293.8077,-108.5 1293.8077,-137.5 1293.8077,-137.5 1293.8077,-143.5 1287.8077,-149.5 1281.8077,-149.5\"/>\n<text text-anchor=\"start\" x=\"1217.8077\" y=\"-134.3\" font-family=\"Helvetica,sans-Serif\" font-size=\"14.00\" fill=\"#000000\">mse = 0.0</text>\n<text text-anchor=\"start\" x=\"1210.8077\" y=\"-119.3\" font-family=\"Helvetica,sans-Serif\" font-size=\"14.00\" fill=\"#000000\">samples = 4</text>\n<text text-anchor=\"start\" x=\"1214.8077\" y=\"-104.3\" font-family=\"Helvetica,sans-Serif\" font-size=\"14.00\" fill=\"#000000\">value = 0.0</text>\n</g>\n<!-- 18&#45;&gt;20 -->\n<g id=\"edge30\" class=\"edge\">\n<title>18&#45;&gt;20</title>\n<path fill=\"none\" stroke=\"#000000\" d=\"M1204.5912,-192.9465C1211.5443,-181.8215 1219.2782,-169.4473 1226.2846,-158.237\"/>\n<polygon fill=\"#000000\" stroke=\"#000000\" points=\"1229.3868,-159.8772 1231.7189,-149.5422 1223.4509,-156.1671 1229.3868,-159.8772\"/>\n</g>\n<!-- 29 -->\n<g id=\"node29\" class=\"node\">\n<title>29</title>\n<path fill=\"#ea995e\" stroke=\"#000000\" d=\"M1084.3077,-52.5C1084.3077,-52.5 1010.3077,-52.5 1010.3077,-52.5 1004.3077,-52.5 998.3077,-46.5 998.3077,-40.5 998.3077,-40.5 998.3077,-11.5 998.3077,-11.5 998.3077,-5.5 1004.3077,.5 1010.3077,.5 1010.3077,.5 1084.3077,.5 1084.3077,.5 1090.3077,.5 1096.3077,-5.5 1096.3077,-11.5 1096.3077,-11.5 1096.3077,-40.5 1096.3077,-40.5 1096.3077,-46.5 1090.3077,-52.5 1084.3077,-52.5\"/>\n<text text-anchor=\"start\" x=\"1016.8077\" y=\"-37.3\" font-family=\"Helvetica,sans-Serif\" font-size=\"14.00\" fill=\"#000000\">mse = 0.2</text>\n<text text-anchor=\"start\" x=\"1006.3077\" y=\"-22.3\" font-family=\"Helvetica,sans-Serif\" font-size=\"14.00\" fill=\"#000000\">samples = 16</text>\n<text text-anchor=\"start\" x=\"1013.8077\" y=\"-7.3\" font-family=\"Helvetica,sans-Serif\" font-size=\"14.00\" fill=\"#000000\">value = 0.8</text>\n</g>\n<!-- 19&#45;&gt;29 -->\n<g id=\"edge28\" class=\"edge\">\n<title>19&#45;&gt;29</title>\n<path fill=\"none\" stroke=\"#000000\" d=\"M1091.9809,-88.8014C1085.5711,-79.7905 1078.6467,-70.0562 1072.2071,-61.0035\"/>\n<polygon fill=\"#000000\" stroke=\"#000000\" points=\"1074.8629,-58.6987 1066.2143,-52.5788 1069.1588,-62.7563 1074.8629,-58.6987\"/>\n</g>\n<!-- 30 -->\n<g id=\"node30\" class=\"node\">\n<title>30</title>\n<path fill=\"#f3c3a1\" stroke=\"#000000\" d=\"M1221.3077,-52.5C1221.3077,-52.5 1147.3077,-52.5 1147.3077,-52.5 1141.3077,-52.5 1135.3077,-46.5 1135.3077,-40.5 1135.3077,-40.5 1135.3077,-11.5 1135.3077,-11.5 1135.3077,-5.5 1141.3077,.5 1147.3077,.5 1147.3077,.5 1221.3077,.5 1221.3077,.5 1227.3077,.5 1233.3077,-5.5 1233.3077,-11.5 1233.3077,-11.5 1233.3077,-40.5 1233.3077,-40.5 1233.3077,-46.5 1227.3077,-52.5 1221.3077,-52.5\"/>\n<text text-anchor=\"start\" x=\"1153.8077\" y=\"-37.3\" font-family=\"Helvetica,sans-Serif\" font-size=\"14.00\" fill=\"#000000\">mse = 0.2</text>\n<text text-anchor=\"start\" x=\"1143.3077\" y=\"-22.3\" font-family=\"Helvetica,sans-Serif\" font-size=\"14.00\" fill=\"#000000\">samples = 21</text>\n<text text-anchor=\"start\" x=\"1150.8077\" y=\"-7.3\" font-family=\"Helvetica,sans-Serif\" font-size=\"14.00\" fill=\"#000000\">value = 0.5</text>\n</g>\n<!-- 19&#45;&gt;30 -->\n<g id=\"edge29\" class=\"edge\">\n<title>19&#45;&gt;30</title>\n<path fill=\"none\" stroke=\"#000000\" d=\"M1140.282,-88.8014C1146.599,-79.7905 1153.423,-70.0562 1159.7692,-61.0035\"/>\n<polygon fill=\"#000000\" stroke=\"#000000\" points=\"1162.8008,-62.7763 1165.6752,-52.5788 1157.0689,-58.7581 1162.8008,-62.7763\"/>\n</g>\n</g>\n</svg>\n"
     },
     "metadata": {},
     "execution_count": 34
    }
   ],
   "metadata": {}
  },
  {
   "cell_type": "code",
   "execution_count": 35,
   "source": [
    "# ratio of splitter\n",
    "valid_xs.shape[0]/xs.shape[0]"
   ],
   "outputs": [
    {
     "output_type": "execute_result",
     "data": {
      "text/plain": [
       "0.2496493688639551"
      ]
     },
     "metadata": {},
     "execution_count": 35
    }
   ],
   "metadata": {}
  },
  {
   "cell_type": "markdown",
   "source": [
    "# Score"
   ],
   "metadata": {}
  },
  {
   "cell_type": "code",
   "execution_count": 36,
   "source": [
    "from sklearn.metrics import accuracy_score"
   ],
   "outputs": [],
   "metadata": {}
  },
  {
   "cell_type": "code",
   "execution_count": 37,
   "source": [
    "accuracy_score(y, np.round(m.predict(xs)))"
   ],
   "outputs": [
    {
     "output_type": "execute_result",
     "data": {
      "text/plain": [
       "0.8597475455820477"
      ]
     },
     "metadata": {},
     "execution_count": 37
    }
   ],
   "metadata": {}
  },
  {
   "cell_type": "code",
   "execution_count": 38,
   "source": [
    "accuracy_score(valid_y, np.round(m.predict(valid_xs)))"
   ],
   "outputs": [
    {
     "output_type": "execute_result",
     "data": {
      "text/plain": [
       "0.7921348314606742"
      ]
     },
     "metadata": {},
     "execution_count": 38
    }
   ],
   "metadata": {}
  },
  {
   "cell_type": "code",
   "execution_count": 39,
   "source": [
    "df_test"
   ],
   "outputs": [
    {
     "output_type": "execute_result",
     "data": {
      "text/plain": [
       "     PassengerId  Pclass                                          Name  \\\n",
       "0            892       3                              Kelly, Mr. James   \n",
       "1            893       3              Wilkes, Mrs. James (Ellen Needs)   \n",
       "2            894       2                     Myles, Mr. Thomas Francis   \n",
       "3            895       3                              Wirz, Mr. Albert   \n",
       "4            896       3  Hirvonen, Mrs. Alexander (Helga E Lindqvist)   \n",
       "..           ...     ...                                           ...   \n",
       "413         1305       3                            Spector, Mr. Woolf   \n",
       "414         1306       1                  Oliva y Ocana, Dona. Fermina   \n",
       "415         1307       3                  Saether, Mr. Simon Sivertsen   \n",
       "416         1308       3                           Ware, Mr. Frederick   \n",
       "417         1309       3                      Peter, Master. Michael J   \n",
       "\n",
       "        Sex   Age  SibSp  Parch              Ticket      Fare Cabin Embarked  \n",
       "0      male  34.5      0      0              330911    7.8292   NaN        Q  \n",
       "1    female  47.0      1      0              363272    7.0000   NaN        S  \n",
       "2      male  62.0      0      0              240276    9.6875   NaN        Q  \n",
       "3      male  27.0      0      0              315154    8.6625   NaN        S  \n",
       "4    female  22.0      1      1             3101298   12.2875   NaN        S  \n",
       "..      ...   ...    ...    ...                 ...       ...   ...      ...  \n",
       "413    male   NaN      0      0           A.5. 3236    8.0500   NaN        S  \n",
       "414  female  39.0      0      0            PC 17758  108.9000  C105        C  \n",
       "415    male  38.5      0      0  SOTON/O.Q. 3101262    7.2500   NaN        S  \n",
       "416    male   NaN      0      0              359309    8.0500   NaN        S  \n",
       "417    male   NaN      1      1                2668   22.3583   NaN        C  \n",
       "\n",
       "[418 rows x 11 columns]"
      ],
      "text/html": [
       "<div>\n",
       "<style scoped>\n",
       "    .dataframe tbody tr th:only-of-type {\n",
       "        vertical-align: middle;\n",
       "    }\n",
       "\n",
       "    .dataframe tbody tr th {\n",
       "        vertical-align: top;\n",
       "    }\n",
       "\n",
       "    .dataframe thead th {\n",
       "        text-align: right;\n",
       "    }\n",
       "</style>\n",
       "<table border=\"1\" class=\"dataframe\">\n",
       "  <thead>\n",
       "    <tr style=\"text-align: right;\">\n",
       "      <th></th>\n",
       "      <th>PassengerId</th>\n",
       "      <th>Pclass</th>\n",
       "      <th>Name</th>\n",
       "      <th>Sex</th>\n",
       "      <th>Age</th>\n",
       "      <th>SibSp</th>\n",
       "      <th>Parch</th>\n",
       "      <th>Ticket</th>\n",
       "      <th>Fare</th>\n",
       "      <th>Cabin</th>\n",
       "      <th>Embarked</th>\n",
       "    </tr>\n",
       "  </thead>\n",
       "  <tbody>\n",
       "    <tr>\n",
       "      <th>0</th>\n",
       "      <td>892</td>\n",
       "      <td>3</td>\n",
       "      <td>Kelly, Mr. James</td>\n",
       "      <td>male</td>\n",
       "      <td>34.5</td>\n",
       "      <td>0</td>\n",
       "      <td>0</td>\n",
       "      <td>330911</td>\n",
       "      <td>7.8292</td>\n",
       "      <td>NaN</td>\n",
       "      <td>Q</td>\n",
       "    </tr>\n",
       "    <tr>\n",
       "      <th>1</th>\n",
       "      <td>893</td>\n",
       "      <td>3</td>\n",
       "      <td>Wilkes, Mrs. James (Ellen Needs)</td>\n",
       "      <td>female</td>\n",
       "      <td>47.0</td>\n",
       "      <td>1</td>\n",
       "      <td>0</td>\n",
       "      <td>363272</td>\n",
       "      <td>7.0000</td>\n",
       "      <td>NaN</td>\n",
       "      <td>S</td>\n",
       "    </tr>\n",
       "    <tr>\n",
       "      <th>2</th>\n",
       "      <td>894</td>\n",
       "      <td>2</td>\n",
       "      <td>Myles, Mr. Thomas Francis</td>\n",
       "      <td>male</td>\n",
       "      <td>62.0</td>\n",
       "      <td>0</td>\n",
       "      <td>0</td>\n",
       "      <td>240276</td>\n",
       "      <td>9.6875</td>\n",
       "      <td>NaN</td>\n",
       "      <td>Q</td>\n",
       "    </tr>\n",
       "    <tr>\n",
       "      <th>3</th>\n",
       "      <td>895</td>\n",
       "      <td>3</td>\n",
       "      <td>Wirz, Mr. Albert</td>\n",
       "      <td>male</td>\n",
       "      <td>27.0</td>\n",
       "      <td>0</td>\n",
       "      <td>0</td>\n",
       "      <td>315154</td>\n",
       "      <td>8.6625</td>\n",
       "      <td>NaN</td>\n",
       "      <td>S</td>\n",
       "    </tr>\n",
       "    <tr>\n",
       "      <th>4</th>\n",
       "      <td>896</td>\n",
       "      <td>3</td>\n",
       "      <td>Hirvonen, Mrs. Alexander (Helga E Lindqvist)</td>\n",
       "      <td>female</td>\n",
       "      <td>22.0</td>\n",
       "      <td>1</td>\n",
       "      <td>1</td>\n",
       "      <td>3101298</td>\n",
       "      <td>12.2875</td>\n",
       "      <td>NaN</td>\n",
       "      <td>S</td>\n",
       "    </tr>\n",
       "    <tr>\n",
       "      <th>...</th>\n",
       "      <td>...</td>\n",
       "      <td>...</td>\n",
       "      <td>...</td>\n",
       "      <td>...</td>\n",
       "      <td>...</td>\n",
       "      <td>...</td>\n",
       "      <td>...</td>\n",
       "      <td>...</td>\n",
       "      <td>...</td>\n",
       "      <td>...</td>\n",
       "      <td>...</td>\n",
       "    </tr>\n",
       "    <tr>\n",
       "      <th>413</th>\n",
       "      <td>1305</td>\n",
       "      <td>3</td>\n",
       "      <td>Spector, Mr. Woolf</td>\n",
       "      <td>male</td>\n",
       "      <td>NaN</td>\n",
       "      <td>0</td>\n",
       "      <td>0</td>\n",
       "      <td>A.5. 3236</td>\n",
       "      <td>8.0500</td>\n",
       "      <td>NaN</td>\n",
       "      <td>S</td>\n",
       "    </tr>\n",
       "    <tr>\n",
       "      <th>414</th>\n",
       "      <td>1306</td>\n",
       "      <td>1</td>\n",
       "      <td>Oliva y Ocana, Dona. Fermina</td>\n",
       "      <td>female</td>\n",
       "      <td>39.0</td>\n",
       "      <td>0</td>\n",
       "      <td>0</td>\n",
       "      <td>PC 17758</td>\n",
       "      <td>108.9000</td>\n",
       "      <td>C105</td>\n",
       "      <td>C</td>\n",
       "    </tr>\n",
       "    <tr>\n",
       "      <th>415</th>\n",
       "      <td>1307</td>\n",
       "      <td>3</td>\n",
       "      <td>Saether, Mr. Simon Sivertsen</td>\n",
       "      <td>male</td>\n",
       "      <td>38.5</td>\n",
       "      <td>0</td>\n",
       "      <td>0</td>\n",
       "      <td>SOTON/O.Q. 3101262</td>\n",
       "      <td>7.2500</td>\n",
       "      <td>NaN</td>\n",
       "      <td>S</td>\n",
       "    </tr>\n",
       "    <tr>\n",
       "      <th>416</th>\n",
       "      <td>1308</td>\n",
       "      <td>3</td>\n",
       "      <td>Ware, Mr. Frederick</td>\n",
       "      <td>male</td>\n",
       "      <td>NaN</td>\n",
       "      <td>0</td>\n",
       "      <td>0</td>\n",
       "      <td>359309</td>\n",
       "      <td>8.0500</td>\n",
       "      <td>NaN</td>\n",
       "      <td>S</td>\n",
       "    </tr>\n",
       "    <tr>\n",
       "      <th>417</th>\n",
       "      <td>1309</td>\n",
       "      <td>3</td>\n",
       "      <td>Peter, Master. Michael J</td>\n",
       "      <td>male</td>\n",
       "      <td>NaN</td>\n",
       "      <td>1</td>\n",
       "      <td>1</td>\n",
       "      <td>2668</td>\n",
       "      <td>22.3583</td>\n",
       "      <td>NaN</td>\n",
       "      <td>C</td>\n",
       "    </tr>\n",
       "  </tbody>\n",
       "</table>\n",
       "<p>418 rows × 11 columns</p>\n",
       "</div>"
      ]
     },
     "metadata": {},
     "execution_count": 39
    }
   ],
   "metadata": {}
  },
  {
   "cell_type": "markdown",
   "source": [
    "# Feature Importance"
   ],
   "metadata": {}
  },
  {
   "cell_type": "code",
   "execution_count": 40,
   "source": [
    "def rf_feat_importance(m, df):\n",
    "    return pd.DataFrame({'cols':df.columns, 'imp':m.feature_importances_}\n",
    "                       ).sort_values('imp', ascending=False)"
   ],
   "outputs": [],
   "metadata": {}
  },
  {
   "cell_type": "code",
   "execution_count": 41,
   "source": [
    "fi = rf_feat_importance(m, xs)\n",
    "fi[:10]"
   ],
   "outputs": [
    {
     "output_type": "execute_result",
     "data": {
      "text/plain": [
       "           cols       imp\n",
       "0           Sex  0.537176\n",
       "6        Pclass  0.132597\n",
       "7           Age  0.102067\n",
       "10         Fare  0.073946\n",
       "2         Cabin  0.064942\n",
       "5   PassengerId  0.034747\n",
       "1        Ticket  0.032740\n",
       "8         SibSp  0.021783\n",
       "3      Embarked  0.000000\n",
       "4        Age_na  0.000000"
      ],
      "text/html": [
       "<div>\n",
       "<style scoped>\n",
       "    .dataframe tbody tr th:only-of-type {\n",
       "        vertical-align: middle;\n",
       "    }\n",
       "\n",
       "    .dataframe tbody tr th {\n",
       "        vertical-align: top;\n",
       "    }\n",
       "\n",
       "    .dataframe thead th {\n",
       "        text-align: right;\n",
       "    }\n",
       "</style>\n",
       "<table border=\"1\" class=\"dataframe\">\n",
       "  <thead>\n",
       "    <tr style=\"text-align: right;\">\n",
       "      <th></th>\n",
       "      <th>cols</th>\n",
       "      <th>imp</th>\n",
       "    </tr>\n",
       "  </thead>\n",
       "  <tbody>\n",
       "    <tr>\n",
       "      <th>0</th>\n",
       "      <td>Sex</td>\n",
       "      <td>0.537176</td>\n",
       "    </tr>\n",
       "    <tr>\n",
       "      <th>6</th>\n",
       "      <td>Pclass</td>\n",
       "      <td>0.132597</td>\n",
       "    </tr>\n",
       "    <tr>\n",
       "      <th>7</th>\n",
       "      <td>Age</td>\n",
       "      <td>0.102067</td>\n",
       "    </tr>\n",
       "    <tr>\n",
       "      <th>10</th>\n",
       "      <td>Fare</td>\n",
       "      <td>0.073946</td>\n",
       "    </tr>\n",
       "    <tr>\n",
       "      <th>2</th>\n",
       "      <td>Cabin</td>\n",
       "      <td>0.064942</td>\n",
       "    </tr>\n",
       "    <tr>\n",
       "      <th>5</th>\n",
       "      <td>PassengerId</td>\n",
       "      <td>0.034747</td>\n",
       "    </tr>\n",
       "    <tr>\n",
       "      <th>1</th>\n",
       "      <td>Ticket</td>\n",
       "      <td>0.032740</td>\n",
       "    </tr>\n",
       "    <tr>\n",
       "      <th>8</th>\n",
       "      <td>SibSp</td>\n",
       "      <td>0.021783</td>\n",
       "    </tr>\n",
       "    <tr>\n",
       "      <th>3</th>\n",
       "      <td>Embarked</td>\n",
       "      <td>0.000000</td>\n",
       "    </tr>\n",
       "    <tr>\n",
       "      <th>4</th>\n",
       "      <td>Age_na</td>\n",
       "      <td>0.000000</td>\n",
       "    </tr>\n",
       "  </tbody>\n",
       "</table>\n",
       "</div>"
      ]
     },
     "metadata": {},
     "execution_count": 41
    }
   ],
   "metadata": {}
  },
  {
   "cell_type": "markdown",
   "source": [
    "# Removing Low-Importance Variables"
   ],
   "metadata": {}
  },
  {
   "cell_type": "code",
   "execution_count": 42,
   "source": [
    "to_keep = fi[fi.imp>0.005].cols\n",
    "len(to_keep)"
   ],
   "outputs": [
    {
     "output_type": "execute_result",
     "data": {
      "text/plain": [
       "8"
      ]
     },
     "metadata": {},
     "execution_count": 42
    }
   ],
   "metadata": {}
  },
  {
   "cell_type": "code",
   "execution_count": 43,
   "source": [
    "to_keep"
   ],
   "outputs": [
    {
     "output_type": "execute_result",
     "data": {
      "text/plain": [
       "0             Sex\n",
       "6          Pclass\n",
       "7             Age\n",
       "10           Fare\n",
       "2           Cabin\n",
       "5     PassengerId\n",
       "1          Ticket\n",
       "8           SibSp\n",
       "Name: cols, dtype: object"
      ]
     },
     "metadata": {},
     "execution_count": 43
    }
   ],
   "metadata": {}
  },
  {
   "cell_type": "code",
   "execution_count": 44,
   "source": [
    "xs_imp = xs[to_keep]\n",
    "valid_xs_imp = valid_xs[to_keep]"
   ],
   "outputs": [],
   "metadata": {}
  },
  {
   "cell_type": "code",
   "execution_count": 45,
   "source": [
    "m_imp = DecisionTreeRegressor(max_leaf_nodes=16)\n",
    "m_imp.fit(xs_imp, y)"
   ],
   "outputs": [
    {
     "output_type": "execute_result",
     "data": {
      "text/plain": [
       "DecisionTreeRegressor(max_leaf_nodes=16)"
      ]
     },
     "metadata": {},
     "execution_count": 45
    }
   ],
   "metadata": {}
  },
  {
   "cell_type": "code",
   "execution_count": 46,
   "source": [
    "draw_tree(m_imp, xs_imp, size=100, precision=1)"
   ],
   "outputs": [
    {
     "output_type": "execute_result",
     "data": {
      "text/plain": [
       "<graphviz.files.Source at 0x7f5d0e12e580>"
      ],
      "image/svg+xml": "<?xml version=\"1.0\" encoding=\"UTF-8\" standalone=\"no\"?>\n<!DOCTYPE svg PUBLIC \"-//W3C//DTD SVG 1.1//EN\"\n \"http://www.w3.org/Graphics/SVG/1.1/DTD/svg11.dtd\">\n<!-- Generated by graphviz version 2.40.1 (20161225.0304)\n -->\n<!-- Title: Tree Pages: 1 -->\n<svg width=\"1310pt\" height=\"789pt\"\n viewBox=\"0.00 0.00 1310.25 789.00\" xmlns=\"http://www.w3.org/2000/svg\" xmlns:xlink=\"http://www.w3.org/1999/xlink\">\n<g id=\"graph0\" class=\"graph\" transform=\"scale(1 1) rotate(0) translate(4 785)\">\n<title>Tree</title>\n<polygon fill=\"#ffffff\" stroke=\"transparent\" points=\"-4,4 -4,-785 1306.2546,-785 1306.2546,4 -4,4\"/>\n<!-- 0 -->\n<g id=\"node1\" class=\"node\">\n<title>0</title>\n<path fill=\"#f5cfb4\" stroke=\"#000000\" d=\"M529.3077,-781C529.3077,-781 447.3077,-781 447.3077,-781 441.3077,-781 435.3077,-775 435.3077,-769 435.3077,-769 435.3077,-725 435.3077,-725 435.3077,-719 441.3077,-713 447.3077,-713 447.3077,-713 529.3077,-713 529.3077,-713 535.3077,-713 541.3077,-719 541.3077,-725 541.3077,-725 541.3077,-769 541.3077,-769 541.3077,-775 535.3077,-781 529.3077,-781\"/>\n<text text-anchor=\"start\" x=\"459.3077\" y=\"-765.8\" font-family=\"Helvetica,sans-Serif\" font-size=\"14.00\" fill=\"#000000\">Sex ≤ 1.5</text>\n<text text-anchor=\"start\" x=\"457.8077\" y=\"-750.8\" font-family=\"Helvetica,sans-Serif\" font-size=\"14.00\" fill=\"#000000\">mse = 0.2</text>\n<text text-anchor=\"start\" x=\"443.3077\" y=\"-735.8\" font-family=\"Helvetica,sans-Serif\" font-size=\"14.00\" fill=\"#000000\">samples = 713</text>\n<text text-anchor=\"start\" x=\"454.8077\" y=\"-720.8\" font-family=\"Helvetica,sans-Serif\" font-size=\"14.00\" fill=\"#000000\">value = 0.4</text>\n</g>\n<!-- 1 -->\n<g id=\"node2\" class=\"node\">\n<title>1</title>\n<path fill=\"#eca26d\" stroke=\"#000000\" d=\"M456.3077,-677C456.3077,-677 374.3077,-677 374.3077,-677 368.3077,-677 362.3077,-671 362.3077,-665 362.3077,-665 362.3077,-621 362.3077,-621 362.3077,-615 368.3077,-609 374.3077,-609 374.3077,-609 456.3077,-609 456.3077,-609 462.3077,-609 468.3077,-615 468.3077,-621 468.3077,-621 468.3077,-665 468.3077,-665 468.3077,-671 462.3077,-677 456.3077,-677\"/>\n<text text-anchor=\"start\" x=\"377.8077\" y=\"-661.8\" font-family=\"Helvetica,sans-Serif\" font-size=\"14.00\" fill=\"#000000\">Pclass ≤ 2.5</text>\n<text text-anchor=\"start\" x=\"384.8077\" y=\"-646.8\" font-family=\"Helvetica,sans-Serif\" font-size=\"14.00\" fill=\"#000000\">mse = 0.2</text>\n<text text-anchor=\"start\" x=\"370.3077\" y=\"-631.8\" font-family=\"Helvetica,sans-Serif\" font-size=\"14.00\" fill=\"#000000\">samples = 249</text>\n<text text-anchor=\"start\" x=\"381.8077\" y=\"-616.8\" font-family=\"Helvetica,sans-Serif\" font-size=\"14.00\" fill=\"#000000\">value = 0.7</text>\n</g>\n<!-- 0&#45;&gt;1 -->\n<g id=\"edge1\" class=\"edge\">\n<title>0&#45;&gt;1</title>\n<path fill=\"none\" stroke=\"#000000\" d=\"M464.4048,-712.9465C458.2286,-704.1475 451.5039,-694.5672 445.0688,-685.3993\"/>\n<polygon fill=\"#000000\" stroke=\"#000000\" points=\"447.8743,-683.3041 439.2644,-677.13 442.1449,-687.3258 447.8743,-683.3041\"/>\n<text text-anchor=\"middle\" x=\"434.9515\" y=\"-698.0552\" font-family=\"Helvetica,sans-Serif\" font-size=\"14.00\" fill=\"#000000\">True</text>\n</g>\n<!-- 2 -->\n<g id=\"node13\" class=\"node\">\n<title>2</title>\n<path fill=\"#fae7da\" stroke=\"#000000\" d=\"M665.3077,-677C665.3077,-677 583.3077,-677 583.3077,-677 577.3077,-677 571.3077,-671 571.3077,-665 571.3077,-665 571.3077,-621 571.3077,-621 571.3077,-615 577.3077,-609 583.3077,-609 583.3077,-609 665.3077,-609 665.3077,-609 671.3077,-609 677.3077,-615 677.3077,-621 677.3077,-621 677.3077,-665 677.3077,-665 677.3077,-671 671.3077,-677 665.3077,-677\"/>\n<text text-anchor=\"start\" x=\"589.3077\" y=\"-661.8\" font-family=\"Helvetica,sans-Serif\" font-size=\"14.00\" fill=\"#000000\">Cabin ≤ 4.5</text>\n<text text-anchor=\"start\" x=\"593.8077\" y=\"-646.8\" font-family=\"Helvetica,sans-Serif\" font-size=\"14.00\" fill=\"#000000\">mse = 0.2</text>\n<text text-anchor=\"start\" x=\"579.3077\" y=\"-631.8\" font-family=\"Helvetica,sans-Serif\" font-size=\"14.00\" fill=\"#000000\">samples = 464</text>\n<text text-anchor=\"start\" x=\"590.8077\" y=\"-616.8\" font-family=\"Helvetica,sans-Serif\" font-size=\"14.00\" fill=\"#000000\">value = 0.2</text>\n</g>\n<!-- 0&#45;&gt;2 -->\n<g id=\"edge12\" class=\"edge\">\n<title>0&#45;&gt;2</title>\n<path fill=\"none\" stroke=\"#000000\" d=\"M532.8392,-712.9465C545.1674,-703.519 558.6687,-693.1946 571.4227,-683.4415\"/>\n<polygon fill=\"#000000\" stroke=\"#000000\" points=\"573.8587,-685.9848 579.6762,-677.13 569.6065,-680.4243 573.8587,-685.9848\"/>\n<text text-anchor=\"middle\" x=\"576.3721\" y=\"-698.2107\" font-family=\"Helvetica,sans-Serif\" font-size=\"14.00\" fill=\"#000000\">False</text>\n</g>\n<!-- 3 -->\n<g id=\"node3\" class=\"node\">\n<title>3</title>\n<path fill=\"#e78945\" stroke=\"#000000\" d=\"M310.3077,-565.5C310.3077,-565.5 228.3077,-565.5 228.3077,-565.5 222.3077,-565.5 216.3077,-559.5 216.3077,-553.5 216.3077,-553.5 216.3077,-524.5 216.3077,-524.5 216.3077,-518.5 222.3077,-512.5 228.3077,-512.5 228.3077,-512.5 310.3077,-512.5 310.3077,-512.5 316.3077,-512.5 322.3077,-518.5 322.3077,-524.5 322.3077,-524.5 322.3077,-553.5 322.3077,-553.5 322.3077,-559.5 316.3077,-565.5 310.3077,-565.5\"/>\n<text text-anchor=\"start\" x=\"238.8077\" y=\"-550.3\" font-family=\"Helvetica,sans-Serif\" font-size=\"14.00\" fill=\"#000000\">mse = 0.1</text>\n<text text-anchor=\"start\" x=\"224.3077\" y=\"-535.3\" font-family=\"Helvetica,sans-Serif\" font-size=\"14.00\" fill=\"#000000\">samples = 133</text>\n<text text-anchor=\"start\" x=\"235.8077\" y=\"-520.3\" font-family=\"Helvetica,sans-Serif\" font-size=\"14.00\" fill=\"#000000\">value = 0.9</text>\n</g>\n<!-- 1&#45;&gt;3 -->\n<g id=\"edge2\" class=\"edge\">\n<title>1&#45;&gt;3</title>\n<path fill=\"none\" stroke=\"#000000\" d=\"M367.5019,-608.9465C350.647,-596.9403 331.7496,-583.4791 315.0678,-571.5962\"/>\n<polygon fill=\"#000000\" stroke=\"#000000\" points=\"316.7444,-568.4933 306.5689,-565.5422 312.6831,-574.1947 316.7444,-568.4933\"/>\n</g>\n<!-- 4 -->\n<g id=\"node4\" class=\"node\">\n<title>4</title>\n<path fill=\"#f2c09c\" stroke=\"#000000\" d=\"M456.3077,-573C456.3077,-573 374.3077,-573 374.3077,-573 368.3077,-573 362.3077,-567 362.3077,-561 362.3077,-561 362.3077,-517 362.3077,-517 362.3077,-511 368.3077,-505 374.3077,-505 374.3077,-505 456.3077,-505 456.3077,-505 462.3077,-505 468.3077,-511 468.3077,-517 468.3077,-517 468.3077,-561 468.3077,-561 468.3077,-567 462.3077,-573 456.3077,-573\"/>\n<text text-anchor=\"start\" x=\"380.3077\" y=\"-557.8\" font-family=\"Helvetica,sans-Serif\" font-size=\"14.00\" fill=\"#000000\">Fare ≤ 20.8</text>\n<text text-anchor=\"start\" x=\"384.8077\" y=\"-542.8\" font-family=\"Helvetica,sans-Serif\" font-size=\"14.00\" fill=\"#000000\">mse = 0.2</text>\n<text text-anchor=\"start\" x=\"370.3077\" y=\"-527.8\" font-family=\"Helvetica,sans-Serif\" font-size=\"14.00\" fill=\"#000000\">samples = 116</text>\n<text text-anchor=\"start\" x=\"381.8077\" y=\"-512.8\" font-family=\"Helvetica,sans-Serif\" font-size=\"14.00\" fill=\"#000000\">value = 0.5</text>\n</g>\n<!-- 1&#45;&gt;4 -->\n<g id=\"edge3\" class=\"edge\">\n<title>1&#45;&gt;4</title>\n<path fill=\"none\" stroke=\"#000000\" d=\"M415.3077,-608.9465C415.3077,-600.776 415.3077,-591.9318 415.3077,-583.3697\"/>\n<polygon fill=\"#000000\" stroke=\"#000000\" points=\"418.8078,-583.13 415.3077,-573.13 411.8078,-583.13 418.8078,-583.13\"/>\n</g>\n<!-- 7 -->\n<g id=\"node5\" class=\"node\">\n<title>7</title>\n<path fill=\"#efb489\" stroke=\"#000000\" d=\"M315.3077,-469C315.3077,-469 241.3077,-469 241.3077,-469 235.3077,-469 229.3077,-463 229.3077,-457 229.3077,-457 229.3077,-413 229.3077,-413 229.3077,-407 235.3077,-401 241.3077,-401 241.3077,-401 315.3077,-401 315.3077,-401 321.3077,-401 327.3077,-407 327.3077,-413 327.3077,-413 327.3077,-457 327.3077,-457 327.3077,-463 321.3077,-469 315.3077,-469\"/>\n<text text-anchor=\"start\" x=\"244.8077\" y=\"-453.8\" font-family=\"Helvetica,sans-Serif\" font-size=\"14.00\" fill=\"#000000\">Age ≤ 36.5</text>\n<text text-anchor=\"start\" x=\"247.8077\" y=\"-438.8\" font-family=\"Helvetica,sans-Serif\" font-size=\"14.00\" fill=\"#000000\">mse = 0.2</text>\n<text text-anchor=\"start\" x=\"237.3077\" y=\"-423.8\" font-family=\"Helvetica,sans-Serif\" font-size=\"14.00\" fill=\"#000000\">samples = 92</text>\n<text text-anchor=\"start\" x=\"244.8077\" y=\"-408.8\" font-family=\"Helvetica,sans-Serif\" font-size=\"14.00\" fill=\"#000000\">value = 0.6</text>\n</g>\n<!-- 4&#45;&gt;7 -->\n<g id=\"edge4\" class=\"edge\">\n<title>4&#45;&gt;7</title>\n<path fill=\"none\" stroke=\"#000000\" d=\"M370.4488,-504.9465C358.0299,-495.519 344.4294,-485.1946 331.5816,-475.4415\"/>\n<polygon fill=\"#000000\" stroke=\"#000000\" points=\"333.3487,-472.3887 323.2674,-469.13 329.1162,-477.9642 333.3487,-472.3887\"/>\n</g>\n<!-- 8 -->\n<g id=\"node12\" class=\"node\">\n<title>8</title>\n<path fill=\"#fcefe6\" stroke=\"#000000\" d=\"M452.3077,-461.5C452.3077,-461.5 378.3077,-461.5 378.3077,-461.5 372.3077,-461.5 366.3077,-455.5 366.3077,-449.5 366.3077,-449.5 366.3077,-420.5 366.3077,-420.5 366.3077,-414.5 372.3077,-408.5 378.3077,-408.5 378.3077,-408.5 452.3077,-408.5 452.3077,-408.5 458.3077,-408.5 464.3077,-414.5 464.3077,-420.5 464.3077,-420.5 464.3077,-449.5 464.3077,-449.5 464.3077,-455.5 458.3077,-461.5 452.3077,-461.5\"/>\n<text text-anchor=\"start\" x=\"384.8077\" y=\"-446.3\" font-family=\"Helvetica,sans-Serif\" font-size=\"14.00\" fill=\"#000000\">mse = 0.1</text>\n<text text-anchor=\"start\" x=\"374.3077\" y=\"-431.3\" font-family=\"Helvetica,sans-Serif\" font-size=\"14.00\" fill=\"#000000\">samples = 24</text>\n<text text-anchor=\"start\" x=\"381.8077\" y=\"-416.3\" font-family=\"Helvetica,sans-Serif\" font-size=\"14.00\" fill=\"#000000\">value = 0.1</text>\n</g>\n<!-- 4&#45;&gt;8 -->\n<g id=\"edge11\" class=\"edge\">\n<title>4&#45;&gt;8</title>\n<path fill=\"none\" stroke=\"#000000\" d=\"M415.3077,-504.9465C415.3077,-494.2621 415.3077,-482.4254 415.3077,-471.5742\"/>\n<polygon fill=\"#000000\" stroke=\"#000000\" points=\"418.8078,-471.5421 415.3077,-461.5422 411.8078,-471.5422 418.8078,-471.5421\"/>\n</g>\n<!-- 23 -->\n<g id=\"node6\" class=\"node\">\n<title>23</title>\n<path fill=\"#efb083\" stroke=\"#000000\" d=\"M186.3077,-365C186.3077,-365 68.3077,-365 68.3077,-365 62.3077,-365 56.3077,-359 56.3077,-353 56.3077,-353 56.3077,-309 56.3077,-309 56.3077,-303 62.3077,-297 68.3077,-297 68.3077,-297 186.3077,-297 186.3077,-297 192.3077,-297 198.3077,-303 198.3077,-309 198.3077,-309 198.3077,-353 198.3077,-353 198.3077,-359 192.3077,-365 186.3077,-365\"/>\n<text text-anchor=\"start\" x=\"64.3077\" y=\"-349.8\" font-family=\"Helvetica,sans-Serif\" font-size=\"14.00\" fill=\"#000000\">PassengerId ≤ 396.0</text>\n<text text-anchor=\"start\" x=\"96.8077\" y=\"-334.8\" font-family=\"Helvetica,sans-Serif\" font-size=\"14.00\" fill=\"#000000\">mse = 0.2</text>\n<text text-anchor=\"start\" x=\"86.3077\" y=\"-319.8\" font-family=\"Helvetica,sans-Serif\" font-size=\"14.00\" fill=\"#000000\">samples = 86</text>\n<text text-anchor=\"start\" x=\"93.8077\" y=\"-304.8\" font-family=\"Helvetica,sans-Serif\" font-size=\"14.00\" fill=\"#000000\">value = 0.6</text>\n</g>\n<!-- 7&#45;&gt;23 -->\n<g id=\"edge5\" class=\"edge\">\n<title>7&#45;&gt;23</title>\n<path fill=\"none\" stroke=\"#000000\" d=\"M229.2824,-401.2342C215.2449,-391.566 199.8094,-380.9349 185.2889,-370.934\"/>\n<polygon fill=\"#000000\" stroke=\"#000000\" points=\"187.0836,-367.9204 176.8627,-365.1306 183.113,-373.6853 187.0836,-367.9204\"/>\n</g>\n<!-- 24 -->\n<g id=\"node11\" class=\"node\">\n<title>24</title>\n<path fill=\"#fbeade\" stroke=\"#000000\" d=\"M318.8077,-357.5C318.8077,-357.5 251.8077,-357.5 251.8077,-357.5 245.8077,-357.5 239.8077,-351.5 239.8077,-345.5 239.8077,-345.5 239.8077,-316.5 239.8077,-316.5 239.8077,-310.5 245.8077,-304.5 251.8077,-304.5 251.8077,-304.5 318.8077,-304.5 318.8077,-304.5 324.8077,-304.5 330.8077,-310.5 330.8077,-316.5 330.8077,-316.5 330.8077,-345.5 330.8077,-345.5 330.8077,-351.5 324.8077,-357.5 318.8077,-357.5\"/>\n<text text-anchor=\"start\" x=\"254.8077\" y=\"-342.3\" font-family=\"Helvetica,sans-Serif\" font-size=\"14.00\" fill=\"#000000\">mse = 0.1</text>\n<text text-anchor=\"start\" x=\"247.8077\" y=\"-327.3\" font-family=\"Helvetica,sans-Serif\" font-size=\"14.00\" fill=\"#000000\">samples = 6</text>\n<text text-anchor=\"start\" x=\"251.8077\" y=\"-312.3\" font-family=\"Helvetica,sans-Serif\" font-size=\"14.00\" fill=\"#000000\">value = 0.2</text>\n</g>\n<!-- 7&#45;&gt;24 -->\n<g id=\"edge10\" class=\"edge\">\n<title>7&#45;&gt;24</title>\n<path fill=\"none\" stroke=\"#000000\" d=\"M280.5998,-400.9465C281.3189,-390.2621 282.1156,-378.4254 282.846,-367.5742\"/>\n<polygon fill=\"#000000\" stroke=\"#000000\" points=\"286.3417,-367.7547 283.5212,-357.5422 279.3575,-367.2845 286.3417,-367.7547\"/>\n</g>\n<!-- 25 -->\n<g id=\"node7\" class=\"node\">\n<title>25</title>\n<path fill=\"#eca06a\" stroke=\"#000000\" d=\"M94.3077,-253.5C94.3077,-253.5 20.3077,-253.5 20.3077,-253.5 14.3077,-253.5 8.3077,-247.5 8.3077,-241.5 8.3077,-241.5 8.3077,-212.5 8.3077,-212.5 8.3077,-206.5 14.3077,-200.5 20.3077,-200.5 20.3077,-200.5 94.3077,-200.5 94.3077,-200.5 100.3077,-200.5 106.3077,-206.5 106.3077,-212.5 106.3077,-212.5 106.3077,-241.5 106.3077,-241.5 106.3077,-247.5 100.3077,-253.5 94.3077,-253.5\"/>\n<text text-anchor=\"start\" x=\"26.8077\" y=\"-238.3\" font-family=\"Helvetica,sans-Serif\" font-size=\"14.00\" fill=\"#000000\">mse = 0.2</text>\n<text text-anchor=\"start\" x=\"16.3077\" y=\"-223.3\" font-family=\"Helvetica,sans-Serif\" font-size=\"14.00\" fill=\"#000000\">samples = 44</text>\n<text text-anchor=\"start\" x=\"23.8077\" y=\"-208.3\" font-family=\"Helvetica,sans-Serif\" font-size=\"14.00\" fill=\"#000000\">value = 0.8</text>\n</g>\n<!-- 23&#45;&gt;25 -->\n<g id=\"edge6\" class=\"edge\">\n<title>23&#45;&gt;25</title>\n<path fill=\"none\" stroke=\"#000000\" d=\"M104.3871,-296.9465C96.825,-285.7113 88.4053,-273.2021 80.801,-261.9043\"/>\n<polygon fill=\"#000000\" stroke=\"#000000\" points=\"83.66,-259.8837 75.1727,-253.5422 77.8529,-263.7924 83.66,-259.8837\"/>\n</g>\n<!-- 26 -->\n<g id=\"node8\" class=\"node\">\n<title>26</title>\n<path fill=\"#f2c09c\" stroke=\"#000000\" d=\"M235.3077,-261C235.3077,-261 157.3077,-261 157.3077,-261 151.3077,-261 145.3077,-255 145.3077,-249 145.3077,-249 145.3077,-205 145.3077,-205 145.3077,-199 151.3077,-193 157.3077,-193 157.3077,-193 235.3077,-193 235.3077,-193 241.3077,-193 247.3077,-199 247.3077,-205 247.3077,-205 247.3077,-249 247.3077,-249 247.3077,-255 241.3077,-261 235.3077,-261\"/>\n<text text-anchor=\"start\" x=\"153.3077\" y=\"-245.8\" font-family=\"Helvetica,sans-Serif\" font-size=\"14.00\" fill=\"#000000\">Ticket ≤ 200.0</text>\n<text text-anchor=\"start\" x=\"165.8077\" y=\"-230.8\" font-family=\"Helvetica,sans-Serif\" font-size=\"14.00\" fill=\"#000000\">mse = 0.2</text>\n<text text-anchor=\"start\" x=\"155.3077\" y=\"-215.8\" font-family=\"Helvetica,sans-Serif\" font-size=\"14.00\" fill=\"#000000\">samples = 42</text>\n<text text-anchor=\"start\" x=\"162.8077\" y=\"-200.8\" font-family=\"Helvetica,sans-Serif\" font-size=\"14.00\" fill=\"#000000\">value = 0.5</text>\n</g>\n<!-- 23&#45;&gt;26 -->\n<g id=\"edge7\" class=\"edge\">\n<title>23&#45;&gt;26</title>\n<path fill=\"none\" stroke=\"#000000\" d=\"M149.9009,-296.9465C155.6791,-288.2373 161.9652,-278.7626 167.9912,-269.6801\"/>\n<polygon fill=\"#000000\" stroke=\"#000000\" points=\"171.0517,-271.3978 173.6638,-261.13 165.2188,-267.5278 171.0517,-271.3978\"/>\n</g>\n<!-- 27 -->\n<g id=\"node9\" class=\"node\">\n<title>27</title>\n<path fill=\"#e58139\" stroke=\"#000000\" d=\"M162.8077,-149.5C162.8077,-149.5 95.8077,-149.5 95.8077,-149.5 89.8077,-149.5 83.8077,-143.5 83.8077,-137.5 83.8077,-137.5 83.8077,-108.5 83.8077,-108.5 83.8077,-102.5 89.8077,-96.5 95.8077,-96.5 95.8077,-96.5 162.8077,-96.5 162.8077,-96.5 168.8077,-96.5 174.8077,-102.5 174.8077,-108.5 174.8077,-108.5 174.8077,-137.5 174.8077,-137.5 174.8077,-143.5 168.8077,-149.5 162.8077,-149.5\"/>\n<text text-anchor=\"start\" x=\"98.8077\" y=\"-134.3\" font-family=\"Helvetica,sans-Serif\" font-size=\"14.00\" fill=\"#000000\">mse = 0.0</text>\n<text text-anchor=\"start\" x=\"91.8077\" y=\"-119.3\" font-family=\"Helvetica,sans-Serif\" font-size=\"14.00\" fill=\"#000000\">samples = 6</text>\n<text text-anchor=\"start\" x=\"95.8077\" y=\"-104.3\" font-family=\"Helvetica,sans-Serif\" font-size=\"14.00\" fill=\"#000000\">value = 1.0</text>\n</g>\n<!-- 26&#45;&gt;27 -->\n<g id=\"edge8\" class=\"edge\">\n<title>26&#45;&gt;27</title>\n<path fill=\"none\" stroke=\"#000000\" d=\"M174.3694,-192.9465C167.2023,-181.8215 159.2305,-169.4473 152.0085,-158.237\"/>\n<polygon fill=\"#000000\" stroke=\"#000000\" points=\"154.7651,-156.0532 146.407,-149.5422 148.8805,-159.8442 154.7651,-156.0532\"/>\n</g>\n<!-- 28 -->\n<g id=\"node10\" class=\"node\">\n<title>28</title>\n<path fill=\"#f4caac\" stroke=\"#000000\" d=\"M299.3077,-149.5C299.3077,-149.5 225.3077,-149.5 225.3077,-149.5 219.3077,-149.5 213.3077,-143.5 213.3077,-137.5 213.3077,-137.5 213.3077,-108.5 213.3077,-108.5 213.3077,-102.5 219.3077,-96.5 225.3077,-96.5 225.3077,-96.5 299.3077,-96.5 299.3077,-96.5 305.3077,-96.5 311.3077,-102.5 311.3077,-108.5 311.3077,-108.5 311.3077,-137.5 311.3077,-137.5 311.3077,-143.5 305.3077,-149.5 299.3077,-149.5\"/>\n<text text-anchor=\"start\" x=\"231.8077\" y=\"-134.3\" font-family=\"Helvetica,sans-Serif\" font-size=\"14.00\" fill=\"#000000\">mse = 0.2</text>\n<text text-anchor=\"start\" x=\"221.3077\" y=\"-119.3\" font-family=\"Helvetica,sans-Serif\" font-size=\"14.00\" fill=\"#000000\">samples = 36</text>\n<text text-anchor=\"start\" x=\"228.8077\" y=\"-104.3\" font-family=\"Helvetica,sans-Serif\" font-size=\"14.00\" fill=\"#000000\">value = 0.4</text>\n</g>\n<!-- 26&#45;&gt;28 -->\n<g id=\"edge9\" class=\"edge\">\n<title>26&#45;&gt;28</title>\n<path fill=\"none\" stroke=\"#000000\" d=\"M217.9186,-192.9465C224.9787,-181.8215 232.8316,-169.4473 239.9458,-158.237\"/>\n<polygon fill=\"#000000\" stroke=\"#000000\" points=\"243.0605,-159.8609 245.4637,-149.5422 237.1502,-156.1101 243.0605,-159.8609\"/>\n</g>\n<!-- 5 -->\n<g id=\"node14\" class=\"node\">\n<title>5</title>\n<path fill=\"#fbeee4\" stroke=\"#000000\" d=\"M665.3077,-573C665.3077,-573 583.3077,-573 583.3077,-573 577.3077,-573 571.3077,-567 571.3077,-561 571.3077,-561 571.3077,-517 571.3077,-517 571.3077,-511 577.3077,-505 583.3077,-505 583.3077,-505 665.3077,-505 665.3077,-505 671.3077,-505 677.3077,-511 677.3077,-517 677.3077,-517 677.3077,-561 677.3077,-561 677.3077,-567 671.3077,-573 665.3077,-573\"/>\n<text text-anchor=\"start\" x=\"594.8077\" y=\"-557.8\" font-family=\"Helvetica,sans-Serif\" font-size=\"14.00\" fill=\"#000000\">Age ≤ 3.5</text>\n<text text-anchor=\"start\" x=\"593.8077\" y=\"-542.8\" font-family=\"Helvetica,sans-Serif\" font-size=\"14.00\" fill=\"#000000\">mse = 0.1</text>\n<text text-anchor=\"start\" x=\"579.3077\" y=\"-527.8\" font-family=\"Helvetica,sans-Serif\" font-size=\"14.00\" fill=\"#000000\">samples = 383</text>\n<text text-anchor=\"start\" x=\"590.8077\" y=\"-512.8\" font-family=\"Helvetica,sans-Serif\" font-size=\"14.00\" fill=\"#000000\">value = 0.1</text>\n</g>\n<!-- 2&#45;&gt;5 -->\n<g id=\"edge13\" class=\"edge\">\n<title>2&#45;&gt;5</title>\n<path fill=\"none\" stroke=\"#000000\" d=\"M624.3077,-608.9465C624.3077,-600.776 624.3077,-591.9318 624.3077,-583.3697\"/>\n<polygon fill=\"#000000\" stroke=\"#000000\" points=\"627.8078,-583.13 624.3077,-573.13 620.8078,-583.13 627.8078,-583.13\"/>\n</g>\n<!-- 6 -->\n<g id=\"node21\" class=\"node\">\n<title>6</title>\n<path fill=\"#f4c9a9\" stroke=\"#000000\" d=\"M867.3077,-573C867.3077,-573 793.3077,-573 793.3077,-573 787.3077,-573 781.3077,-567 781.3077,-561 781.3077,-561 781.3077,-517 781.3077,-517 781.3077,-511 787.3077,-505 793.3077,-505 793.3077,-505 867.3077,-505 867.3077,-505 873.3077,-505 879.3077,-511 879.3077,-517 879.3077,-517 879.3077,-561 879.3077,-561 879.3077,-567 873.3077,-573 867.3077,-573\"/>\n<text text-anchor=\"start\" x=\"796.8077\" y=\"-557.8\" font-family=\"Helvetica,sans-Serif\" font-size=\"14.00\" fill=\"#000000\">Age ≤ 18.0</text>\n<text text-anchor=\"start\" x=\"799.8077\" y=\"-542.8\" font-family=\"Helvetica,sans-Serif\" font-size=\"14.00\" fill=\"#000000\">mse = 0.2</text>\n<text text-anchor=\"start\" x=\"789.3077\" y=\"-527.8\" font-family=\"Helvetica,sans-Serif\" font-size=\"14.00\" fill=\"#000000\">samples = 81</text>\n<text text-anchor=\"start\" x=\"796.8077\" y=\"-512.8\" font-family=\"Helvetica,sans-Serif\" font-size=\"14.00\" fill=\"#000000\">value = 0.4</text>\n</g>\n<!-- 2&#45;&gt;6 -->\n<g id=\"edge20\" class=\"edge\">\n<title>2&#45;&gt;6</title>\n<path fill=\"none\" stroke=\"#000000\" d=\"M677.3579,-616.2174C706.3114,-601.6001 742.213,-583.475 771.9556,-568.4593\"/>\n<polygon fill=\"#000000\" stroke=\"#000000\" points=\"773.6243,-571.5377 780.9738,-563.9065 770.4695,-565.2889 773.6243,-571.5377\"/>\n</g>\n<!-- 9 -->\n<g id=\"node15\" class=\"node\">\n<title>9</title>\n<path fill=\"#eda876\" stroke=\"#000000\" d=\"M588.3077,-469C588.3077,-469 514.3077,-469 514.3077,-469 508.3077,-469 502.3077,-463 502.3077,-457 502.3077,-457 502.3077,-413 502.3077,-413 502.3077,-407 508.3077,-401 514.3077,-401 514.3077,-401 588.3077,-401 588.3077,-401 594.3077,-401 600.3077,-407 600.3077,-413 600.3077,-413 600.3077,-457 600.3077,-457 600.3077,-463 594.3077,-469 588.3077,-469\"/>\n<text text-anchor=\"start\" x=\"515.8077\" y=\"-453.8\" font-family=\"Helvetica,sans-Serif\" font-size=\"14.00\" fill=\"#000000\">SibSp ≤ 2.0</text>\n<text text-anchor=\"start\" x=\"520.8077\" y=\"-438.8\" font-family=\"Helvetica,sans-Serif\" font-size=\"14.00\" fill=\"#000000\">mse = 0.2</text>\n<text text-anchor=\"start\" x=\"510.3077\" y=\"-423.8\" font-family=\"Helvetica,sans-Serif\" font-size=\"14.00\" fill=\"#000000\">samples = 13</text>\n<text text-anchor=\"start\" x=\"517.8077\" y=\"-408.8\" font-family=\"Helvetica,sans-Serif\" font-size=\"14.00\" fill=\"#000000\">value = 0.7</text>\n</g>\n<!-- 5&#45;&gt;9 -->\n<g id=\"edge14\" class=\"edge\">\n<title>5&#45;&gt;9</title>\n<path fill=\"none\" stroke=\"#000000\" d=\"M600.4048,-504.9465C594.2286,-496.1475 587.5039,-486.5672 581.0688,-477.3993\"/>\n<polygon fill=\"#000000\" stroke=\"#000000\" points=\"583.8743,-475.3041 575.2644,-469.13 578.1449,-479.3258 583.8743,-475.3041\"/>\n</g>\n<!-- 10 -->\n<g id=\"node18\" class=\"node\">\n<title>10</title>\n<path fill=\"#fcf0e8\" stroke=\"#000000\" d=\"M733.3077,-469C733.3077,-469 651.3077,-469 651.3077,-469 645.3077,-469 639.3077,-463 639.3077,-457 639.3077,-457 639.3077,-413 639.3077,-413 639.3077,-407 645.3077,-401 651.3077,-401 651.3077,-401 733.3077,-401 733.3077,-401 739.3077,-401 745.3077,-407 745.3077,-413 745.3077,-413 745.3077,-457 745.3077,-457 745.3077,-463 739.3077,-469 733.3077,-469\"/>\n<text text-anchor=\"start\" x=\"652.8077\" y=\"-453.8\" font-family=\"Helvetica,sans-Serif\" font-size=\"14.00\" fill=\"#000000\">Ticket ≤ 89.5</text>\n<text text-anchor=\"start\" x=\"661.8077\" y=\"-438.8\" font-family=\"Helvetica,sans-Serif\" font-size=\"14.00\" fill=\"#000000\">mse = 0.1</text>\n<text text-anchor=\"start\" x=\"647.3077\" y=\"-423.8\" font-family=\"Helvetica,sans-Serif\" font-size=\"14.00\" fill=\"#000000\">samples = 370</text>\n<text text-anchor=\"start\" x=\"658.8077\" y=\"-408.8\" font-family=\"Helvetica,sans-Serif\" font-size=\"14.00\" fill=\"#000000\">value = 0.1</text>\n</g>\n<!-- 5&#45;&gt;10 -->\n<g id=\"edge17\" class=\"edge\">\n<title>5&#45;&gt;10</title>\n<path fill=\"none\" stroke=\"#000000\" d=\"M646.5735,-504.9465C652.2679,-496.2373 658.463,-486.7626 664.4015,-477.6801\"/>\n<polygon fill=\"#000000\" stroke=\"#000000\" points=\"667.4488,-479.4151 669.992,-469.13 661.59,-475.5843 667.4488,-479.4151\"/>\n</g>\n<!-- 13 -->\n<g id=\"node16\" class=\"node\">\n<title>13</title>\n<path fill=\"#e58139\" stroke=\"#000000\" d=\"M458.8077,-357.5C458.8077,-357.5 391.8077,-357.5 391.8077,-357.5 385.8077,-357.5 379.8077,-351.5 379.8077,-345.5 379.8077,-345.5 379.8077,-316.5 379.8077,-316.5 379.8077,-310.5 385.8077,-304.5 391.8077,-304.5 391.8077,-304.5 458.8077,-304.5 458.8077,-304.5 464.8077,-304.5 470.8077,-310.5 470.8077,-316.5 470.8077,-316.5 470.8077,-345.5 470.8077,-345.5 470.8077,-351.5 464.8077,-357.5 458.8077,-357.5\"/>\n<text text-anchor=\"start\" x=\"394.8077\" y=\"-342.3\" font-family=\"Helvetica,sans-Serif\" font-size=\"14.00\" fill=\"#000000\">mse = 0.0</text>\n<text text-anchor=\"start\" x=\"387.8077\" y=\"-327.3\" font-family=\"Helvetica,sans-Serif\" font-size=\"14.00\" fill=\"#000000\">samples = 8</text>\n<text text-anchor=\"start\" x=\"391.8077\" y=\"-312.3\" font-family=\"Helvetica,sans-Serif\" font-size=\"14.00\" fill=\"#000000\">value = 1.0</text>\n</g>\n<!-- 9&#45;&gt;13 -->\n<g id=\"edge15\" class=\"edge\">\n<title>9&#45;&gt;13</title>\n<path fill=\"none\" stroke=\"#000000\" d=\"M510.0506,-400.9465C495.638,-389.0504 479.495,-375.726 465.196,-363.9237\"/>\n<polygon fill=\"#000000\" stroke=\"#000000\" points=\"467.4048,-361.2086 457.4646,-357.5422 462.9489,-366.6071 467.4048,-361.2086\"/>\n</g>\n<!-- 14 -->\n<g id=\"node17\" class=\"node\">\n<title>14</title>\n<path fill=\"#fae6d7\" stroke=\"#000000\" d=\"M587.8077,-357.5C587.8077,-357.5 520.8077,-357.5 520.8077,-357.5 514.8077,-357.5 508.8077,-351.5 508.8077,-345.5 508.8077,-345.5 508.8077,-316.5 508.8077,-316.5 508.8077,-310.5 514.8077,-304.5 520.8077,-304.5 520.8077,-304.5 587.8077,-304.5 587.8077,-304.5 593.8077,-304.5 599.8077,-310.5 599.8077,-316.5 599.8077,-316.5 599.8077,-345.5 599.8077,-345.5 599.8077,-351.5 593.8077,-357.5 587.8077,-357.5\"/>\n<text text-anchor=\"start\" x=\"523.8077\" y=\"-342.3\" font-family=\"Helvetica,sans-Serif\" font-size=\"14.00\" fill=\"#000000\">mse = 0.2</text>\n<text text-anchor=\"start\" x=\"516.8077\" y=\"-327.3\" font-family=\"Helvetica,sans-Serif\" font-size=\"14.00\" fill=\"#000000\">samples = 5</text>\n<text text-anchor=\"start\" x=\"520.8077\" y=\"-312.3\" font-family=\"Helvetica,sans-Serif\" font-size=\"14.00\" fill=\"#000000\">value = 0.2</text>\n</g>\n<!-- 9&#45;&gt;14 -->\n<g id=\"edge16\" class=\"edge\">\n<title>9&#45;&gt;14</title>\n<path fill=\"none\" stroke=\"#000000\" d=\"M552.2901,-400.9465C552.5983,-390.2621 552.9397,-378.4254 553.2527,-367.5742\"/>\n<polygon fill=\"#000000\" stroke=\"#000000\" points=\"556.7522,-367.639 553.5421,-357.5422 549.7551,-367.4371 556.7522,-367.639\"/>\n</g>\n<!-- 21 -->\n<g id=\"node19\" class=\"node\">\n<title>21</title>\n<path fill=\"#f6d5bd\" stroke=\"#000000\" d=\"M727.3077,-357.5C727.3077,-357.5 653.3077,-357.5 653.3077,-357.5 647.3077,-357.5 641.3077,-351.5 641.3077,-345.5 641.3077,-345.5 641.3077,-316.5 641.3077,-316.5 641.3077,-310.5 647.3077,-304.5 653.3077,-304.5 653.3077,-304.5 727.3077,-304.5 727.3077,-304.5 733.3077,-304.5 739.3077,-310.5 739.3077,-316.5 739.3077,-316.5 739.3077,-345.5 739.3077,-345.5 739.3077,-351.5 733.3077,-357.5 727.3077,-357.5\"/>\n<text text-anchor=\"start\" x=\"659.8077\" y=\"-342.3\" font-family=\"Helvetica,sans-Serif\" font-size=\"14.00\" fill=\"#000000\">mse = 0.2</text>\n<text text-anchor=\"start\" x=\"649.3077\" y=\"-327.3\" font-family=\"Helvetica,sans-Serif\" font-size=\"14.00\" fill=\"#000000\">samples = 24</text>\n<text text-anchor=\"start\" x=\"656.8077\" y=\"-312.3\" font-family=\"Helvetica,sans-Serif\" font-size=\"14.00\" fill=\"#000000\">value = 0.3</text>\n</g>\n<!-- 10&#45;&gt;21 -->\n<g id=\"edge18\" class=\"edge\">\n<title>10&#45;&gt;21</title>\n<path fill=\"none\" stroke=\"#000000\" d=\"M691.6529,-400.9465C691.4474,-390.2621 691.2198,-378.4254 691.0111,-367.5742\"/>\n<polygon fill=\"#000000\" stroke=\"#000000\" points=\"694.5099,-367.473 690.8182,-357.5422 687.5112,-367.6076 694.5099,-367.473\"/>\n</g>\n<!-- 22 -->\n<g id=\"node20\" class=\"node\">\n<title>22</title>\n<path fill=\"#fcf2eb\" stroke=\"#000000\" d=\"M872.3077,-357.5C872.3077,-357.5 790.3077,-357.5 790.3077,-357.5 784.3077,-357.5 778.3077,-351.5 778.3077,-345.5 778.3077,-345.5 778.3077,-316.5 778.3077,-316.5 778.3077,-310.5 784.3077,-304.5 790.3077,-304.5 790.3077,-304.5 872.3077,-304.5 872.3077,-304.5 878.3077,-304.5 884.3077,-310.5 884.3077,-316.5 884.3077,-316.5 884.3077,-345.5 884.3077,-345.5 884.3077,-351.5 878.3077,-357.5 872.3077,-357.5\"/>\n<text text-anchor=\"start\" x=\"800.8077\" y=\"-342.3\" font-family=\"Helvetica,sans-Serif\" font-size=\"14.00\" fill=\"#000000\">mse = 0.1</text>\n<text text-anchor=\"start\" x=\"786.3077\" y=\"-327.3\" font-family=\"Helvetica,sans-Serif\" font-size=\"14.00\" fill=\"#000000\">samples = 346</text>\n<text text-anchor=\"start\" x=\"797.8077\" y=\"-312.3\" font-family=\"Helvetica,sans-Serif\" font-size=\"14.00\" fill=\"#000000\">value = 0.1</text>\n</g>\n<!-- 10&#45;&gt;22 -->\n<g id=\"edge19\" class=\"edge\">\n<title>10&#45;&gt;22</title>\n<path fill=\"none\" stroke=\"#000000\" d=\"M737.8215,-400.9465C753.8683,-388.9403 771.8597,-375.4791 787.7416,-363.5962\"/>\n<polygon fill=\"#000000\" stroke=\"#000000\" points=\"789.923,-366.3354 795.8331,-357.5422 785.7294,-360.7306 789.923,-366.3354\"/>\n</g>\n<!-- 11 -->\n<g id=\"node22\" class=\"node\">\n<title>11</title>\n<path fill=\"#e58139\" stroke=\"#000000\" d=\"M863.8077,-461.5C863.8077,-461.5 796.8077,-461.5 796.8077,-461.5 790.8077,-461.5 784.8077,-455.5 784.8077,-449.5 784.8077,-449.5 784.8077,-420.5 784.8077,-420.5 784.8077,-414.5 790.8077,-408.5 796.8077,-408.5 796.8077,-408.5 863.8077,-408.5 863.8077,-408.5 869.8077,-408.5 875.8077,-414.5 875.8077,-420.5 875.8077,-420.5 875.8077,-449.5 875.8077,-449.5 875.8077,-455.5 869.8077,-461.5 863.8077,-461.5\"/>\n<text text-anchor=\"start\" x=\"799.8077\" y=\"-446.3\" font-family=\"Helvetica,sans-Serif\" font-size=\"14.00\" fill=\"#000000\">mse = 0.0</text>\n<text text-anchor=\"start\" x=\"792.8077\" y=\"-431.3\" font-family=\"Helvetica,sans-Serif\" font-size=\"14.00\" fill=\"#000000\">samples = 7</text>\n<text text-anchor=\"start\" x=\"796.8077\" y=\"-416.3\" font-family=\"Helvetica,sans-Serif\" font-size=\"14.00\" fill=\"#000000\">value = 1.0</text>\n</g>\n<!-- 6&#45;&gt;11 -->\n<g id=\"edge21\" class=\"edge\">\n<title>6&#45;&gt;11</title>\n<path fill=\"none\" stroke=\"#000000\" d=\"M830.3077,-504.9465C830.3077,-494.2621 830.3077,-482.4254 830.3077,-471.5742\"/>\n<polygon fill=\"#000000\" stroke=\"#000000\" points=\"833.8078,-471.5421 830.3077,-461.5422 826.8078,-471.5422 833.8078,-471.5421\"/>\n</g>\n<!-- 12 -->\n<g id=\"node23\" class=\"node\">\n<title>12</title>\n<path fill=\"#f5cfb4\" stroke=\"#000000\" d=\"M1048.3077,-469C1048.3077,-469 930.3077,-469 930.3077,-469 924.3077,-469 918.3077,-463 918.3077,-457 918.3077,-457 918.3077,-413 918.3077,-413 918.3077,-407 924.3077,-401 930.3077,-401 930.3077,-401 1048.3077,-401 1048.3077,-401 1054.3077,-401 1060.3077,-407 1060.3077,-413 1060.3077,-413 1060.3077,-457 1060.3077,-457 1060.3077,-463 1054.3077,-469 1048.3077,-469\"/>\n<text text-anchor=\"start\" x=\"926.3077\" y=\"-453.8\" font-family=\"Helvetica,sans-Serif\" font-size=\"14.00\" fill=\"#000000\">PassengerId ≤ 361.5</text>\n<text text-anchor=\"start\" x=\"958.8077\" y=\"-438.8\" font-family=\"Helvetica,sans-Serif\" font-size=\"14.00\" fill=\"#000000\">mse = 0.2</text>\n<text text-anchor=\"start\" x=\"948.3077\" y=\"-423.8\" font-family=\"Helvetica,sans-Serif\" font-size=\"14.00\" fill=\"#000000\">samples = 74</text>\n<text text-anchor=\"start\" x=\"955.8077\" y=\"-408.8\" font-family=\"Helvetica,sans-Serif\" font-size=\"14.00\" fill=\"#000000\">value = 0.4</text>\n</g>\n<!-- 6&#45;&gt;12 -->\n<g id=\"edge22\" class=\"edge\">\n<title>6&#45;&gt;12</title>\n<path fill=\"none\" stroke=\"#000000\" d=\"M879.3104,-506.948C894.9284,-496.7324 912.3974,-485.3062 928.7342,-474.6204\"/>\n<polygon fill=\"#000000\" stroke=\"#000000\" points=\"930.7054,-477.5133 937.1583,-469.1103 926.8737,-471.6552 930.7054,-477.5133\"/>\n</g>\n<!-- 15 -->\n<g id=\"node24\" class=\"node\">\n<title>15</title>\n<path fill=\"#fae8dc\" stroke=\"#000000\" d=\"M1017.3077,-357.5C1017.3077,-357.5 943.3077,-357.5 943.3077,-357.5 937.3077,-357.5 931.3077,-351.5 931.3077,-345.5 931.3077,-345.5 931.3077,-316.5 931.3077,-316.5 931.3077,-310.5 937.3077,-304.5 943.3077,-304.5 943.3077,-304.5 1017.3077,-304.5 1017.3077,-304.5 1023.3077,-304.5 1029.3077,-310.5 1029.3077,-316.5 1029.3077,-316.5 1029.3077,-345.5 1029.3077,-345.5 1029.3077,-351.5 1023.3077,-357.5 1017.3077,-357.5\"/>\n<text text-anchor=\"start\" x=\"949.8077\" y=\"-342.3\" font-family=\"Helvetica,sans-Serif\" font-size=\"14.00\" fill=\"#000000\">mse = 0.1</text>\n<text text-anchor=\"start\" x=\"939.3077\" y=\"-327.3\" font-family=\"Helvetica,sans-Serif\" font-size=\"14.00\" fill=\"#000000\">samples = 28</text>\n<text text-anchor=\"start\" x=\"946.8077\" y=\"-312.3\" font-family=\"Helvetica,sans-Serif\" font-size=\"14.00\" fill=\"#000000\">value = 0.2</text>\n</g>\n<!-- 12&#45;&gt;15 -->\n<g id=\"edge23\" class=\"edge\">\n<title>12&#45;&gt;15</title>\n<path fill=\"none\" stroke=\"#000000\" d=\"M986.3608,-400.9465C985.4362,-390.2621 984.4119,-378.4254 983.4728,-367.5742\"/>\n<polygon fill=\"#000000\" stroke=\"#000000\" points=\"986.9539,-367.2031 982.6047,-357.5422 979.9799,-367.8067 986.9539,-367.2031\"/>\n</g>\n<!-- 16 -->\n<g id=\"node25\" class=\"node\">\n<title>16</title>\n<path fill=\"#f2c09c\" stroke=\"#000000\" d=\"M1154.3077,-365C1154.3077,-365 1080.3077,-365 1080.3077,-365 1074.3077,-365 1068.3077,-359 1068.3077,-353 1068.3077,-353 1068.3077,-309 1068.3077,-309 1068.3077,-303 1074.3077,-297 1080.3077,-297 1080.3077,-297 1154.3077,-297 1154.3077,-297 1160.3077,-297 1166.3077,-303 1166.3077,-309 1166.3077,-309 1166.3077,-353 1166.3077,-353 1166.3077,-359 1160.3077,-365 1154.3077,-365\"/>\n<text text-anchor=\"start\" x=\"1085.8077\" y=\"-349.8\" font-family=\"Helvetica,sans-Serif\" font-size=\"14.00\" fill=\"#000000\">Fare ≤ 7.9</text>\n<text text-anchor=\"start\" x=\"1086.8077\" y=\"-334.8\" font-family=\"Helvetica,sans-Serif\" font-size=\"14.00\" fill=\"#000000\">mse = 0.2</text>\n<text text-anchor=\"start\" x=\"1076.3077\" y=\"-319.8\" font-family=\"Helvetica,sans-Serif\" font-size=\"14.00\" fill=\"#000000\">samples = 46</text>\n<text text-anchor=\"start\" x=\"1083.8077\" y=\"-304.8\" font-family=\"Helvetica,sans-Serif\" font-size=\"14.00\" fill=\"#000000\">value = 0.5</text>\n</g>\n<!-- 12&#45;&gt;16 -->\n<g id=\"edge24\" class=\"edge\">\n<title>12&#45;&gt;16</title>\n<path fill=\"none\" stroke=\"#000000\" d=\"M1031.2197,-400.9465C1042.8228,-391.519 1055.5298,-381.1946 1067.5336,-371.4415\"/>\n<polygon fill=\"#000000\" stroke=\"#000000\" points=\"1069.7475,-374.1524 1075.3016,-365.13 1065.3333,-368.7196 1069.7475,-374.1524\"/>\n</g>\n<!-- 17 -->\n<g id=\"node26\" class=\"node\">\n<title>17</title>\n<path fill=\"#ffffff\" stroke=\"#000000\" d=\"M1083.8077,-253.5C1083.8077,-253.5 1016.8077,-253.5 1016.8077,-253.5 1010.8077,-253.5 1004.8077,-247.5 1004.8077,-241.5 1004.8077,-241.5 1004.8077,-212.5 1004.8077,-212.5 1004.8077,-206.5 1010.8077,-200.5 1016.8077,-200.5 1016.8077,-200.5 1083.8077,-200.5 1083.8077,-200.5 1089.8077,-200.5 1095.8077,-206.5 1095.8077,-212.5 1095.8077,-212.5 1095.8077,-241.5 1095.8077,-241.5 1095.8077,-247.5 1089.8077,-253.5 1083.8077,-253.5\"/>\n<text text-anchor=\"start\" x=\"1019.8077\" y=\"-238.3\" font-family=\"Helvetica,sans-Serif\" font-size=\"14.00\" fill=\"#000000\">mse = 0.0</text>\n<text text-anchor=\"start\" x=\"1012.8077\" y=\"-223.3\" font-family=\"Helvetica,sans-Serif\" font-size=\"14.00\" fill=\"#000000\">samples = 5</text>\n<text text-anchor=\"start\" x=\"1016.8077\" y=\"-208.3\" font-family=\"Helvetica,sans-Serif\" font-size=\"14.00\" fill=\"#000000\">value = 0.0</text>\n</g>\n<!-- 16&#45;&gt;17 -->\n<g id=\"edge25\" class=\"edge\">\n<title>16&#45;&gt;17</title>\n<path fill=\"none\" stroke=\"#000000\" d=\"M1095.3694,-296.9465C1088.2023,-285.8215 1080.2305,-273.4473 1073.0085,-262.237\"/>\n<polygon fill=\"#000000\" stroke=\"#000000\" points=\"1075.7651,-260.0532 1067.407,-253.5422 1069.8805,-263.8442 1075.7651,-260.0532\"/>\n</g>\n<!-- 18 -->\n<g id=\"node27\" class=\"node\">\n<title>18</title>\n<path fill=\"#f0b890\" stroke=\"#000000\" d=\"M1220.3077,-261C1220.3077,-261 1146.3077,-261 1146.3077,-261 1140.3077,-261 1134.3077,-255 1134.3077,-249 1134.3077,-249 1134.3077,-205 1134.3077,-205 1134.3077,-199 1140.3077,-193 1146.3077,-193 1146.3077,-193 1220.3077,-193 1220.3077,-193 1226.3077,-193 1232.3077,-199 1232.3077,-205 1232.3077,-205 1232.3077,-249 1232.3077,-249 1232.3077,-255 1226.3077,-261 1220.3077,-261\"/>\n<text text-anchor=\"start\" x=\"1149.8077\" y=\"-245.8\" font-family=\"Helvetica,sans-Serif\" font-size=\"14.00\" fill=\"#000000\">Age ≤ 57.0</text>\n<text text-anchor=\"start\" x=\"1152.8077\" y=\"-230.8\" font-family=\"Helvetica,sans-Serif\" font-size=\"14.00\" fill=\"#000000\">mse = 0.2</text>\n<text text-anchor=\"start\" x=\"1142.3077\" y=\"-215.8\" font-family=\"Helvetica,sans-Serif\" font-size=\"14.00\" fill=\"#000000\">samples = 41</text>\n<text text-anchor=\"start\" x=\"1149.8077\" y=\"-200.8\" font-family=\"Helvetica,sans-Serif\" font-size=\"14.00\" fill=\"#000000\">value = 0.6</text>\n</g>\n<!-- 16&#45;&gt;18 -->\n<g id=\"edge26\" class=\"edge\">\n<title>16&#45;&gt;18</title>\n<path fill=\"none\" stroke=\"#000000\" d=\"M1138.9186,-296.9465C1144.4456,-288.2373 1150.4584,-278.7626 1156.2223,-269.6801\"/>\n<polygon fill=\"#000000\" stroke=\"#000000\" points=\"1159.2452,-271.4487 1161.6483,-261.13 1153.3349,-267.6979 1159.2452,-271.4487\"/>\n</g>\n<!-- 19 -->\n<g id=\"node28\" class=\"node\">\n<title>19</title>\n<path fill=\"#efb184\" stroke=\"#000000\" d=\"M1153.3077,-157C1153.3077,-157 1079.3077,-157 1079.3077,-157 1073.3077,-157 1067.3077,-151 1067.3077,-145 1067.3077,-145 1067.3077,-101 1067.3077,-101 1067.3077,-95 1073.3077,-89 1079.3077,-89 1079.3077,-89 1153.3077,-89 1153.3077,-89 1159.3077,-89 1165.3077,-95 1165.3077,-101 1165.3077,-101 1165.3077,-145 1165.3077,-145 1165.3077,-151 1159.3077,-157 1153.3077,-157\"/>\n<text text-anchor=\"start\" x=\"1081.3077\" y=\"-141.8\" font-family=\"Helvetica,sans-Serif\" font-size=\"14.00\" fill=\"#000000\">Fare ≤ 37.0</text>\n<text text-anchor=\"start\" x=\"1085.8077\" y=\"-126.8\" font-family=\"Helvetica,sans-Serif\" font-size=\"14.00\" fill=\"#000000\">mse = 0.2</text>\n<text text-anchor=\"start\" x=\"1075.3077\" y=\"-111.8\" font-family=\"Helvetica,sans-Serif\" font-size=\"14.00\" fill=\"#000000\">samples = 37</text>\n<text text-anchor=\"start\" x=\"1082.8077\" y=\"-96.8\" font-family=\"Helvetica,sans-Serif\" font-size=\"14.00\" fill=\"#000000\">value = 0.6</text>\n</g>\n<!-- 18&#45;&gt;19 -->\n<g id=\"edge27\" class=\"edge\">\n<title>18&#45;&gt;19</title>\n<path fill=\"none\" stroke=\"#000000\" d=\"M1161.3694,-192.9465C1155.7587,-184.2373 1149.6548,-174.7626 1143.8035,-165.6801\"/>\n<polygon fill=\"#000000\" stroke=\"#000000\" points=\"1146.6534,-163.641 1138.2953,-157.13 1140.7688,-167.4321 1146.6534,-163.641\"/>\n</g>\n<!-- 20 -->\n<g id=\"node31\" class=\"node\">\n<title>20</title>\n<path fill=\"#ffffff\" stroke=\"#000000\" d=\"M1281.8077,-149.5C1281.8077,-149.5 1214.8077,-149.5 1214.8077,-149.5 1208.8077,-149.5 1202.8077,-143.5 1202.8077,-137.5 1202.8077,-137.5 1202.8077,-108.5 1202.8077,-108.5 1202.8077,-102.5 1208.8077,-96.5 1214.8077,-96.5 1214.8077,-96.5 1281.8077,-96.5 1281.8077,-96.5 1287.8077,-96.5 1293.8077,-102.5 1293.8077,-108.5 1293.8077,-108.5 1293.8077,-137.5 1293.8077,-137.5 1293.8077,-143.5 1287.8077,-149.5 1281.8077,-149.5\"/>\n<text text-anchor=\"start\" x=\"1217.8077\" y=\"-134.3\" font-family=\"Helvetica,sans-Serif\" font-size=\"14.00\" fill=\"#000000\">mse = 0.0</text>\n<text text-anchor=\"start\" x=\"1210.8077\" y=\"-119.3\" font-family=\"Helvetica,sans-Serif\" font-size=\"14.00\" fill=\"#000000\">samples = 4</text>\n<text text-anchor=\"start\" x=\"1214.8077\" y=\"-104.3\" font-family=\"Helvetica,sans-Serif\" font-size=\"14.00\" fill=\"#000000\">value = 0.0</text>\n</g>\n<!-- 18&#45;&gt;20 -->\n<g id=\"edge30\" class=\"edge\">\n<title>18&#45;&gt;20</title>\n<path fill=\"none\" stroke=\"#000000\" d=\"M1204.5912,-192.9465C1211.5443,-181.8215 1219.2782,-169.4473 1226.2846,-158.237\"/>\n<polygon fill=\"#000000\" stroke=\"#000000\" points=\"1229.3868,-159.8772 1231.7189,-149.5422 1223.4509,-156.1671 1229.3868,-159.8772\"/>\n</g>\n<!-- 29 -->\n<g id=\"node29\" class=\"node\">\n<title>29</title>\n<path fill=\"#ea995e\" stroke=\"#000000\" d=\"M1084.3077,-52.5C1084.3077,-52.5 1010.3077,-52.5 1010.3077,-52.5 1004.3077,-52.5 998.3077,-46.5 998.3077,-40.5 998.3077,-40.5 998.3077,-11.5 998.3077,-11.5 998.3077,-5.5 1004.3077,.5 1010.3077,.5 1010.3077,.5 1084.3077,.5 1084.3077,.5 1090.3077,.5 1096.3077,-5.5 1096.3077,-11.5 1096.3077,-11.5 1096.3077,-40.5 1096.3077,-40.5 1096.3077,-46.5 1090.3077,-52.5 1084.3077,-52.5\"/>\n<text text-anchor=\"start\" x=\"1016.8077\" y=\"-37.3\" font-family=\"Helvetica,sans-Serif\" font-size=\"14.00\" fill=\"#000000\">mse = 0.2</text>\n<text text-anchor=\"start\" x=\"1006.3077\" y=\"-22.3\" font-family=\"Helvetica,sans-Serif\" font-size=\"14.00\" fill=\"#000000\">samples = 16</text>\n<text text-anchor=\"start\" x=\"1013.8077\" y=\"-7.3\" font-family=\"Helvetica,sans-Serif\" font-size=\"14.00\" fill=\"#000000\">value = 0.8</text>\n</g>\n<!-- 19&#45;&gt;29 -->\n<g id=\"edge28\" class=\"edge\">\n<title>19&#45;&gt;29</title>\n<path fill=\"none\" stroke=\"#000000\" d=\"M1091.9809,-88.8014C1085.5711,-79.7905 1078.6467,-70.0562 1072.2071,-61.0035\"/>\n<polygon fill=\"#000000\" stroke=\"#000000\" points=\"1074.8629,-58.6987 1066.2143,-52.5788 1069.1588,-62.7563 1074.8629,-58.6987\"/>\n</g>\n<!-- 30 -->\n<g id=\"node30\" class=\"node\">\n<title>30</title>\n<path fill=\"#f3c3a1\" stroke=\"#000000\" d=\"M1221.3077,-52.5C1221.3077,-52.5 1147.3077,-52.5 1147.3077,-52.5 1141.3077,-52.5 1135.3077,-46.5 1135.3077,-40.5 1135.3077,-40.5 1135.3077,-11.5 1135.3077,-11.5 1135.3077,-5.5 1141.3077,.5 1147.3077,.5 1147.3077,.5 1221.3077,.5 1221.3077,.5 1227.3077,.5 1233.3077,-5.5 1233.3077,-11.5 1233.3077,-11.5 1233.3077,-40.5 1233.3077,-40.5 1233.3077,-46.5 1227.3077,-52.5 1221.3077,-52.5\"/>\n<text text-anchor=\"start\" x=\"1153.8077\" y=\"-37.3\" font-family=\"Helvetica,sans-Serif\" font-size=\"14.00\" fill=\"#000000\">mse = 0.2</text>\n<text text-anchor=\"start\" x=\"1143.3077\" y=\"-22.3\" font-family=\"Helvetica,sans-Serif\" font-size=\"14.00\" fill=\"#000000\">samples = 21</text>\n<text text-anchor=\"start\" x=\"1150.8077\" y=\"-7.3\" font-family=\"Helvetica,sans-Serif\" font-size=\"14.00\" fill=\"#000000\">value = 0.5</text>\n</g>\n<!-- 19&#45;&gt;30 -->\n<g id=\"edge29\" class=\"edge\">\n<title>19&#45;&gt;30</title>\n<path fill=\"none\" stroke=\"#000000\" d=\"M1140.282,-88.8014C1146.599,-79.7905 1153.423,-70.0562 1159.7692,-61.0035\"/>\n<polygon fill=\"#000000\" stroke=\"#000000\" points=\"1162.8008,-62.7763 1165.6752,-52.5788 1157.0689,-58.7581 1162.8008,-62.7763\"/>\n</g>\n</g>\n</svg>\n"
     },
     "metadata": {},
     "execution_count": 46
    }
   ],
   "metadata": {}
  },
  {
   "cell_type": "code",
   "execution_count": 47,
   "source": [
    "xs_imp"
   ],
   "outputs": [
    {
     "output_type": "execute_result",
     "data": {
      "text/plain": [
       "     Sex  Pclass   Age       Fare  Cabin  PassengerId  Ticket  SibSp\n",
       "788    2       3   1.0  20.575001      0          789     549      1\n",
       "525    2       3  40.5   7.750000      0          526     447      0\n",
       "821    2       3  27.0   8.662500      0          822     270      0\n",
       "253    2       3  30.0  16.100000      0          254     537      1\n",
       "374    1       3   3.0  21.075001      0          375     396      3\n",
       "..   ...     ...   ...        ...    ...          ...     ...    ...\n",
       "173    2       3  21.0   7.925000      0          174     660      0\n",
       "462    2       1  47.0  38.500000    134          463       7      0\n",
       "358    1       3  28.0   7.879200      0          359     280      0\n",
       "532    2       3  17.0   7.229200      0          533     211      1\n",
       "344    2       2  36.0  13.000000      0          345     113      0\n",
       "\n",
       "[713 rows x 8 columns]"
      ],
      "text/html": [
       "<div>\n",
       "<style scoped>\n",
       "    .dataframe tbody tr th:only-of-type {\n",
       "        vertical-align: middle;\n",
       "    }\n",
       "\n",
       "    .dataframe tbody tr th {\n",
       "        vertical-align: top;\n",
       "    }\n",
       "\n",
       "    .dataframe thead th {\n",
       "        text-align: right;\n",
       "    }\n",
       "</style>\n",
       "<table border=\"1\" class=\"dataframe\">\n",
       "  <thead>\n",
       "    <tr style=\"text-align: right;\">\n",
       "      <th></th>\n",
       "      <th>Sex</th>\n",
       "      <th>Pclass</th>\n",
       "      <th>Age</th>\n",
       "      <th>Fare</th>\n",
       "      <th>Cabin</th>\n",
       "      <th>PassengerId</th>\n",
       "      <th>Ticket</th>\n",
       "      <th>SibSp</th>\n",
       "    </tr>\n",
       "  </thead>\n",
       "  <tbody>\n",
       "    <tr>\n",
       "      <th>788</th>\n",
       "      <td>2</td>\n",
       "      <td>3</td>\n",
       "      <td>1.0</td>\n",
       "      <td>20.575001</td>\n",
       "      <td>0</td>\n",
       "      <td>789</td>\n",
       "      <td>549</td>\n",
       "      <td>1</td>\n",
       "    </tr>\n",
       "    <tr>\n",
       "      <th>525</th>\n",
       "      <td>2</td>\n",
       "      <td>3</td>\n",
       "      <td>40.5</td>\n",
       "      <td>7.750000</td>\n",
       "      <td>0</td>\n",
       "      <td>526</td>\n",
       "      <td>447</td>\n",
       "      <td>0</td>\n",
       "    </tr>\n",
       "    <tr>\n",
       "      <th>821</th>\n",
       "      <td>2</td>\n",
       "      <td>3</td>\n",
       "      <td>27.0</td>\n",
       "      <td>8.662500</td>\n",
       "      <td>0</td>\n",
       "      <td>822</td>\n",
       "      <td>270</td>\n",
       "      <td>0</td>\n",
       "    </tr>\n",
       "    <tr>\n",
       "      <th>253</th>\n",
       "      <td>2</td>\n",
       "      <td>3</td>\n",
       "      <td>30.0</td>\n",
       "      <td>16.100000</td>\n",
       "      <td>0</td>\n",
       "      <td>254</td>\n",
       "      <td>537</td>\n",
       "      <td>1</td>\n",
       "    </tr>\n",
       "    <tr>\n",
       "      <th>374</th>\n",
       "      <td>1</td>\n",
       "      <td>3</td>\n",
       "      <td>3.0</td>\n",
       "      <td>21.075001</td>\n",
       "      <td>0</td>\n",
       "      <td>375</td>\n",
       "      <td>396</td>\n",
       "      <td>3</td>\n",
       "    </tr>\n",
       "    <tr>\n",
       "      <th>...</th>\n",
       "      <td>...</td>\n",
       "      <td>...</td>\n",
       "      <td>...</td>\n",
       "      <td>...</td>\n",
       "      <td>...</td>\n",
       "      <td>...</td>\n",
       "      <td>...</td>\n",
       "      <td>...</td>\n",
       "    </tr>\n",
       "    <tr>\n",
       "      <th>173</th>\n",
       "      <td>2</td>\n",
       "      <td>3</td>\n",
       "      <td>21.0</td>\n",
       "      <td>7.925000</td>\n",
       "      <td>0</td>\n",
       "      <td>174</td>\n",
       "      <td>660</td>\n",
       "      <td>0</td>\n",
       "    </tr>\n",
       "    <tr>\n",
       "      <th>462</th>\n",
       "      <td>2</td>\n",
       "      <td>1</td>\n",
       "      <td>47.0</td>\n",
       "      <td>38.500000</td>\n",
       "      <td>134</td>\n",
       "      <td>463</td>\n",
       "      <td>7</td>\n",
       "      <td>0</td>\n",
       "    </tr>\n",
       "    <tr>\n",
       "      <th>358</th>\n",
       "      <td>1</td>\n",
       "      <td>3</td>\n",
       "      <td>28.0</td>\n",
       "      <td>7.879200</td>\n",
       "      <td>0</td>\n",
       "      <td>359</td>\n",
       "      <td>280</td>\n",
       "      <td>0</td>\n",
       "    </tr>\n",
       "    <tr>\n",
       "      <th>532</th>\n",
       "      <td>2</td>\n",
       "      <td>3</td>\n",
       "      <td>17.0</td>\n",
       "      <td>7.229200</td>\n",
       "      <td>0</td>\n",
       "      <td>533</td>\n",
       "      <td>211</td>\n",
       "      <td>1</td>\n",
       "    </tr>\n",
       "    <tr>\n",
       "      <th>344</th>\n",
       "      <td>2</td>\n",
       "      <td>2</td>\n",
       "      <td>36.0</td>\n",
       "      <td>13.000000</td>\n",
       "      <td>0</td>\n",
       "      <td>345</td>\n",
       "      <td>113</td>\n",
       "      <td>0</td>\n",
       "    </tr>\n",
       "  </tbody>\n",
       "</table>\n",
       "<p>713 rows × 8 columns</p>\n",
       "</div>"
      ]
     },
     "metadata": {},
     "execution_count": 47
    }
   ],
   "metadata": {}
  },
  {
   "cell_type": "code",
   "execution_count": 48,
   "source": [
    "xs_test = TabularPandas(df_test, procs, cat, cont)[to_keep]"
   ],
   "outputs": [],
   "metadata": {}
  },
  {
   "cell_type": "code",
   "execution_count": 49,
   "source": [
    "xs_test"
   ],
   "outputs": [
    {
     "output_type": "execute_result",
     "data": {
      "text/plain": [
       "     Sex  Pclass   Age        Fare  Cabin  PassengerId  Ticket  SibSp\n",
       "0      2       3  34.5    7.829200      0          892     153      0\n",
       "1      1       3  47.0    7.000000      0          893     222      1\n",
       "2      2       2  62.0    9.687500      0          894      74      0\n",
       "3      2       3  27.0    8.662500      0          895     148      0\n",
       "4      1       3  22.0   12.287500      0          896     139      1\n",
       "..   ...     ...   ...         ...    ...          ...     ...    ...\n",
       "413    2       3  27.0    8.050000      0         1305     268      0\n",
       "414    1       1  39.0  108.900002     23         1306     325      0\n",
       "415    2       3  38.5    7.250000      0         1307     347      0\n",
       "416    2       3  27.0    8.050000      0         1308     221      0\n",
       "417    2       3  27.0   22.358299      0         1309     106      1\n",
       "\n",
       "[418 rows x 8 columns]"
      ],
      "text/html": [
       "<div>\n",
       "<style scoped>\n",
       "    .dataframe tbody tr th:only-of-type {\n",
       "        vertical-align: middle;\n",
       "    }\n",
       "\n",
       "    .dataframe tbody tr th {\n",
       "        vertical-align: top;\n",
       "    }\n",
       "\n",
       "    .dataframe thead th {\n",
       "        text-align: right;\n",
       "    }\n",
       "</style>\n",
       "<table border=\"1\" class=\"dataframe\">\n",
       "  <thead>\n",
       "    <tr style=\"text-align: right;\">\n",
       "      <th></th>\n",
       "      <th>Sex</th>\n",
       "      <th>Pclass</th>\n",
       "      <th>Age</th>\n",
       "      <th>Fare</th>\n",
       "      <th>Cabin</th>\n",
       "      <th>PassengerId</th>\n",
       "      <th>Ticket</th>\n",
       "      <th>SibSp</th>\n",
       "    </tr>\n",
       "  </thead>\n",
       "  <tbody>\n",
       "    <tr>\n",
       "      <th>0</th>\n",
       "      <td>2</td>\n",
       "      <td>3</td>\n",
       "      <td>34.5</td>\n",
       "      <td>7.829200</td>\n",
       "      <td>0</td>\n",
       "      <td>892</td>\n",
       "      <td>153</td>\n",
       "      <td>0</td>\n",
       "    </tr>\n",
       "    <tr>\n",
       "      <th>1</th>\n",
       "      <td>1</td>\n",
       "      <td>3</td>\n",
       "      <td>47.0</td>\n",
       "      <td>7.000000</td>\n",
       "      <td>0</td>\n",
       "      <td>893</td>\n",
       "      <td>222</td>\n",
       "      <td>1</td>\n",
       "    </tr>\n",
       "    <tr>\n",
       "      <th>2</th>\n",
       "      <td>2</td>\n",
       "      <td>2</td>\n",
       "      <td>62.0</td>\n",
       "      <td>9.687500</td>\n",
       "      <td>0</td>\n",
       "      <td>894</td>\n",
       "      <td>74</td>\n",
       "      <td>0</td>\n",
       "    </tr>\n",
       "    <tr>\n",
       "      <th>3</th>\n",
       "      <td>2</td>\n",
       "      <td>3</td>\n",
       "      <td>27.0</td>\n",
       "      <td>8.662500</td>\n",
       "      <td>0</td>\n",
       "      <td>895</td>\n",
       "      <td>148</td>\n",
       "      <td>0</td>\n",
       "    </tr>\n",
       "    <tr>\n",
       "      <th>4</th>\n",
       "      <td>1</td>\n",
       "      <td>3</td>\n",
       "      <td>22.0</td>\n",
       "      <td>12.287500</td>\n",
       "      <td>0</td>\n",
       "      <td>896</td>\n",
       "      <td>139</td>\n",
       "      <td>1</td>\n",
       "    </tr>\n",
       "    <tr>\n",
       "      <th>...</th>\n",
       "      <td>...</td>\n",
       "      <td>...</td>\n",
       "      <td>...</td>\n",
       "      <td>...</td>\n",
       "      <td>...</td>\n",
       "      <td>...</td>\n",
       "      <td>...</td>\n",
       "      <td>...</td>\n",
       "    </tr>\n",
       "    <tr>\n",
       "      <th>413</th>\n",
       "      <td>2</td>\n",
       "      <td>3</td>\n",
       "      <td>27.0</td>\n",
       "      <td>8.050000</td>\n",
       "      <td>0</td>\n",
       "      <td>1305</td>\n",
       "      <td>268</td>\n",
       "      <td>0</td>\n",
       "    </tr>\n",
       "    <tr>\n",
       "      <th>414</th>\n",
       "      <td>1</td>\n",
       "      <td>1</td>\n",
       "      <td>39.0</td>\n",
       "      <td>108.900002</td>\n",
       "      <td>23</td>\n",
       "      <td>1306</td>\n",
       "      <td>325</td>\n",
       "      <td>0</td>\n",
       "    </tr>\n",
       "    <tr>\n",
       "      <th>415</th>\n",
       "      <td>2</td>\n",
       "      <td>3</td>\n",
       "      <td>38.5</td>\n",
       "      <td>7.250000</td>\n",
       "      <td>0</td>\n",
       "      <td>1307</td>\n",
       "      <td>347</td>\n",
       "      <td>0</td>\n",
       "    </tr>\n",
       "    <tr>\n",
       "      <th>416</th>\n",
       "      <td>2</td>\n",
       "      <td>3</td>\n",
       "      <td>27.0</td>\n",
       "      <td>8.050000</td>\n",
       "      <td>0</td>\n",
       "      <td>1308</td>\n",
       "      <td>221</td>\n",
       "      <td>0</td>\n",
       "    </tr>\n",
       "    <tr>\n",
       "      <th>417</th>\n",
       "      <td>2</td>\n",
       "      <td>3</td>\n",
       "      <td>27.0</td>\n",
       "      <td>22.358299</td>\n",
       "      <td>0</td>\n",
       "      <td>1309</td>\n",
       "      <td>106</td>\n",
       "      <td>1</td>\n",
       "    </tr>\n",
       "  </tbody>\n",
       "</table>\n",
       "<p>418 rows × 8 columns</p>\n",
       "</div>"
      ]
     },
     "metadata": {},
     "execution_count": 49
    }
   ],
   "metadata": {}
  },
  {
   "cell_type": "code",
   "execution_count": 50,
   "source": [
    "y_test = np.round(m_imp.predict(xs_test))\n",
    "y_test"
   ],
   "outputs": [
    {
     "output_type": "execute_result",
     "data": {
      "text/plain": [
       "array([0., 0., 0., 0., 1., 0., 1., 0., 1., 0., 0., 0., 1., 0., 1., 1., 0., 0., 0., 0., 0., 0., 1., 0., 1., 0., 1., 0., 0., 0., 0., 0., 0., 0., 0., 0., 1., 1., 0., 0., 0., 1., 0., 1., 1., 0., 1., 0.,\n",
       "       1., 0., 0., 0., 1., 1., 0., 0., 0., 0., 0., 1., 0., 0., 0., 1., 1., 1., 1., 0., 1., 1., 0., 0., 1., 1., 1., 0., 0., 1., 0., 0., 0., 0., 0., 0., 0., 0., 1., 0., 0., 1., 1., 0., 1., 0., 0., 0.,\n",
       "       1., 0., 1., 0., 1., 0., 0., 0., 1., 0., 0., 0., 0., 1., 0., 1., 1., 1., 1., 0., 0., 0., 0., 1., 1., 0., 1., 0., 0., 0., 0., 0., 0., 0., 0., 1., 0., 0., 0., 0., 0., 0., 0., 0., 0., 1., 0., 0.,\n",
       "       0., 0., 0., 0., 0., 0., 1., 0., 0., 0., 0., 0., 1., 1., 1., 0., 1., 0., 1., 0., 0., 0., 0., 0., 1., 0., 0., 0., 0., 0., 0., 1., 1., 0., 1., 1., 0., 0., 1., 0., 1., 0., 1., 0., 0., 0., 0., 0.,\n",
       "       0., 0., 0., 0., 1., 1., 0., 0., 0., 1., 0., 1., 0., 0., 0., 0., 1., 0., 0., 0., 0., 1., 0., 0., 1., 0., 1., 0., 1., 0., 1., 0., 1., 1., 0., 0., 0., 0., 0., 1., 0., 0., 0., 0., 0., 0., 1., 1.,\n",
       "       1., 1., 0., 0., 0., 0., 1., 0., 1., 1., 1., 0., 0., 0., 0., 0., 0., 0., 1., 0., 0., 0., 1., 0., 0., 0., 0., 0., 0., 0., 0., 0., 1., 0., 0., 1., 0., 0., 0., 0., 1., 1., 0., 1., 0., 0., 0., 0.,\n",
       "       0., 0., 0., 0., 0., 0., 0., 0., 1., 0., 0., 0., 0., 1., 0., 0., 0., 1., 0., 1., 0., 0., 0., 0., 0., 0., 1., 0., 0., 0., 0., 0., 0., 0., 1., 0., 1., 0., 1., 0., 0., 0., 1., 0., 0., 1., 0., 1.,\n",
       "       0., 0., 0., 0., 0., 0., 0., 1., 0., 1., 0., 0., 0., 1., 1., 0., 0., 0., 0., 1., 1., 0., 0., 0., 0., 1., 1., 0., 1., 0., 0., 0., 1., 0., 0., 1., 0., 0., 1., 1., 1., 0., 0., 0., 0., 0., 0., 0.,\n",
       "       0., 1., 0., 0., 0., 0., 0., 1., 0., 0., 0., 1., 0., 1., 0., 0., 1., 0., 1., 0., 1., 1., 0., 0., 1., 0., 0., 1., 1., 0., 1., 0., 0., 0.])"
      ]
     },
     "metadata": {},
     "execution_count": 50
    }
   ],
   "metadata": {}
  },
  {
   "cell_type": "markdown",
   "source": [
    "# Submission file"
   ],
   "metadata": {}
  },
  {
   "cell_type": "code",
   "execution_count": 51,
   "source": [
    "submit = pd.DataFrame({\n",
    "    \"PassengerId\": df_test.PassengerId,\n",
    "    \"Survived\": y_test.astype(int)\n",
    "})"
   ],
   "outputs": [],
   "metadata": {}
  },
  {
   "cell_type": "code",
   "execution_count": 52,
   "source": [
    "submit"
   ],
   "outputs": [
    {
     "output_type": "execute_result",
     "data": {
      "text/plain": [
       "     PassengerId  Survived\n",
       "0            892         0\n",
       "1            893         0\n",
       "2            894         0\n",
       "3            895         0\n",
       "4            896         1\n",
       "..           ...       ...\n",
       "413         1305         0\n",
       "414         1306         1\n",
       "415         1307         0\n",
       "416         1308         0\n",
       "417         1309         0\n",
       "\n",
       "[418 rows x 2 columns]"
      ],
      "text/html": [
       "<div>\n",
       "<style scoped>\n",
       "    .dataframe tbody tr th:only-of-type {\n",
       "        vertical-align: middle;\n",
       "    }\n",
       "\n",
       "    .dataframe tbody tr th {\n",
       "        vertical-align: top;\n",
       "    }\n",
       "\n",
       "    .dataframe thead th {\n",
       "        text-align: right;\n",
       "    }\n",
       "</style>\n",
       "<table border=\"1\" class=\"dataframe\">\n",
       "  <thead>\n",
       "    <tr style=\"text-align: right;\">\n",
       "      <th></th>\n",
       "      <th>PassengerId</th>\n",
       "      <th>Survived</th>\n",
       "    </tr>\n",
       "  </thead>\n",
       "  <tbody>\n",
       "    <tr>\n",
       "      <th>0</th>\n",
       "      <td>892</td>\n",
       "      <td>0</td>\n",
       "    </tr>\n",
       "    <tr>\n",
       "      <th>1</th>\n",
       "      <td>893</td>\n",
       "      <td>0</td>\n",
       "    </tr>\n",
       "    <tr>\n",
       "      <th>2</th>\n",
       "      <td>894</td>\n",
       "      <td>0</td>\n",
       "    </tr>\n",
       "    <tr>\n",
       "      <th>3</th>\n",
       "      <td>895</td>\n",
       "      <td>0</td>\n",
       "    </tr>\n",
       "    <tr>\n",
       "      <th>4</th>\n",
       "      <td>896</td>\n",
       "      <td>1</td>\n",
       "    </tr>\n",
       "    <tr>\n",
       "      <th>...</th>\n",
       "      <td>...</td>\n",
       "      <td>...</td>\n",
       "    </tr>\n",
       "    <tr>\n",
       "      <th>413</th>\n",
       "      <td>1305</td>\n",
       "      <td>0</td>\n",
       "    </tr>\n",
       "    <tr>\n",
       "      <th>414</th>\n",
       "      <td>1306</td>\n",
       "      <td>1</td>\n",
       "    </tr>\n",
       "    <tr>\n",
       "      <th>415</th>\n",
       "      <td>1307</td>\n",
       "      <td>0</td>\n",
       "    </tr>\n",
       "    <tr>\n",
       "      <th>416</th>\n",
       "      <td>1308</td>\n",
       "      <td>0</td>\n",
       "    </tr>\n",
       "    <tr>\n",
       "      <th>417</th>\n",
       "      <td>1309</td>\n",
       "      <td>0</td>\n",
       "    </tr>\n",
       "  </tbody>\n",
       "</table>\n",
       "<p>418 rows × 2 columns</p>\n",
       "</div>"
      ]
     },
     "metadata": {},
     "execution_count": 52
    }
   ],
   "metadata": {}
  },
  {
   "cell_type": "code",
   "execution_count": 53,
   "source": [
    "submit.to_csv(path/'submission.csv', index=False)"
   ],
   "outputs": [],
   "metadata": {}
  },
  {
   "cell_type": "code",
   "execution_count": 54,
   "source": [
    "m.get_n_leaves()"
   ],
   "outputs": [
    {
     "output_type": "execute_result",
     "data": {
      "text/plain": [
       "16"
      ]
     },
     "metadata": {},
     "execution_count": 54
    }
   ],
   "metadata": {}
  },
  {
   "cell_type": "markdown",
   "source": [
    "# Creating a Random Forest"
   ],
   "metadata": {}
  },
  {
   "cell_type": "code",
   "execution_count": 55,
   "source": [
    "from sklearn.ensemble import RandomForestRegressor"
   ],
   "outputs": [],
   "metadata": {}
  },
  {
   "cell_type": "code",
   "execution_count": 56,
   "source": [
    "# def rf(xs, y, n_estimators=40, max_samples=350,\n",
    "#       max_features=0.5, min_samples_leaf=5, **kwargs):\n",
    "#     return RandomForestRegressor(n_jobs=-1, n_estimators=n_estimators,\n",
    "#         max_samples=max_samples, max_features=max_features,\n",
    "#         min_samples_leaf=min_samples_leaf, oob_score=True).fit(xs, y)"
   ],
   "outputs": [],
   "metadata": {}
  },
  {
   "cell_type": "code",
   "execution_count": 57,
   "source": [
    "def rf(xs, y, n_estimators=160, max_samples=350,\n",
    "      max_features=0.5, min_samples_leaf=4, **kwargs):\n",
    "    return RandomForestRegressor(n_jobs=-1, n_estimators=n_estimators,\n",
    "        max_samples=max_samples, max_features=max_features,\n",
    "        min_samples_leaf=min_samples_leaf, oob_score=True).fit(xs, y)"
   ],
   "outputs": [],
   "metadata": {}
  },
  {
   "cell_type": "code",
   "execution_count": 58,
   "source": [
    "m = rf(xs, y)"
   ],
   "outputs": [],
   "metadata": {}
  },
  {
   "cell_type": "code",
   "execution_count": 59,
   "source": [
    "len(xs)"
   ],
   "outputs": [
    {
     "output_type": "execute_result",
     "data": {
      "text/plain": [
       "713"
      ]
     },
     "metadata": {},
     "execution_count": 59
    }
   ],
   "metadata": {}
  },
  {
   "cell_type": "code",
   "execution_count": 60,
   "source": [
    "len(xs.columns)"
   ],
   "outputs": [
    {
     "output_type": "execute_result",
     "data": {
      "text/plain": [
       "11"
      ]
     },
     "metadata": {},
     "execution_count": 60
    }
   ],
   "metadata": {}
  },
  {
   "cell_type": "code",
   "execution_count": 61,
   "source": [
    "m"
   ],
   "outputs": [
    {
     "output_type": "execute_result",
     "data": {
      "text/plain": [
       "RandomForestRegressor(max_features=0.5, max_samples=350, min_samples_leaf=4,\n",
       "                      n_estimators=160, n_jobs=-1, oob_score=True)"
      ]
     },
     "metadata": {},
     "execution_count": 61
    }
   ],
   "metadata": {}
  },
  {
   "cell_type": "code",
   "execution_count": 62,
   "source": [
    "preds = np.stack([t.predict(xs) for t in m.estimators_])"
   ],
   "outputs": [],
   "metadata": {}
  },
  {
   "cell_type": "code",
   "execution_count": 63,
   "source": [
    "# np.round(preds.mean(0))"
   ],
   "outputs": [],
   "metadata": {}
  },
  {
   "cell_type": "code",
   "execution_count": 64,
   "source": [
    "accuracy_score(y, np.round(preds.mean(0)))"
   ],
   "outputs": [
    {
     "output_type": "execute_result",
     "data": {
      "text/plain": [
       "0.884992987377279"
      ]
     },
     "metadata": {},
     "execution_count": 64
    }
   ],
   "metadata": {}
  },
  {
   "cell_type": "code",
   "execution_count": 65,
   "source": [
    "preds_std = preds.std(0)"
   ],
   "outputs": [],
   "metadata": {}
  },
  {
   "cell_type": "code",
   "execution_count": 66,
   "source": [
    "preds_std[:5]"
   ],
   "outputs": [
    {
     "output_type": "execute_result",
     "data": {
      "text/plain": [
       "array([0.34396339, 0.20396734, 0.23478367, 0.19746954, 0.3259007 ])"
      ]
     },
     "metadata": {},
     "execution_count": 66
    }
   ],
   "metadata": {}
  },
  {
   "cell_type": "code",
   "execution_count": 67,
   "source": [
    "# preds.mean(0)"
   ],
   "outputs": [],
   "metadata": {}
  },
  {
   "cell_type": "code",
   "execution_count": 68,
   "source": [
    "plt.plot([accuracy_score(y, np.round(preds[:i+1].mean(0))) for i in range(40)]);"
   ],
   "outputs": [
    {
     "output_type": "display_data",
     "data": {
      "text/plain": [
       "<Figure size 432x288 with 1 Axes>"
      ],
      "image/png": "[encoded data removed]"
     },
     "metadata": {
      "needs_background": "light"
     }
    }
   ],
   "metadata": {}
  },
  {
   "cell_type": "code",
   "execution_count": 69,
   "source": [
    "accuracy_score(np.round(m.oob_prediction_), y)"
   ],
   "outputs": [
    {
     "output_type": "execute_result",
     "data": {
      "text/plain": [
       "0.82328190743338"
      ]
     },
     "metadata": {},
     "execution_count": 69
    }
   ],
   "metadata": {}
  },
  {
   "cell_type": "markdown",
   "source": [
    "# Feature Importance"
   ],
   "metadata": {}
  },
  {
   "cell_type": "code",
   "execution_count": 70,
   "source": [
    "def rf_feat_importance(m, df):\n",
    "    return pd.DataFrame({'cols':df.columns, 'imp':m.feature_importances_}\n",
    "                       ).sort_values('imp', ascending=False)"
   ],
   "outputs": [],
   "metadata": {}
  },
  {
   "cell_type": "code",
   "execution_count": 71,
   "source": [
    "fi = rf_feat_importance(m, xs)\n",
    "fi[:10]"
   ],
   "outputs": [
    {
     "output_type": "execute_result",
     "data": {
      "text/plain": [
       "           cols       imp\n",
       "0           Sex  0.350361\n",
       "10         Fare  0.129325\n",
       "1        Ticket  0.116384\n",
       "7           Age  0.094027\n",
       "6        Pclass  0.085120\n",
       "5   PassengerId  0.083981\n",
       "2         Cabin  0.077989\n",
       "8         SibSp  0.023465\n",
       "3      Embarked  0.020080\n",
       "9         Parch  0.014196"
      ],
      "text/html": [
       "<div>\n",
       "<style scoped>\n",
       "    .dataframe tbody tr th:only-of-type {\n",
       "        vertical-align: middle;\n",
       "    }\n",
       "\n",
       "    .dataframe tbody tr th {\n",
       "        vertical-align: top;\n",
       "    }\n",
       "\n",
       "    .dataframe thead th {\n",
       "        text-align: right;\n",
       "    }\n",
       "</style>\n",
       "<table border=\"1\" class=\"dataframe\">\n",
       "  <thead>\n",
       "    <tr style=\"text-align: right;\">\n",
       "      <th></th>\n",
       "      <th>cols</th>\n",
       "      <th>imp</th>\n",
       "    </tr>\n",
       "  </thead>\n",
       "  <tbody>\n",
       "    <tr>\n",
       "      <th>0</th>\n",
       "      <td>Sex</td>\n",
       "      <td>0.350361</td>\n",
       "    </tr>\n",
       "    <tr>\n",
       "      <th>10</th>\n",
       "      <td>Fare</td>\n",
       "      <td>0.129325</td>\n",
       "    </tr>\n",
       "    <tr>\n",
       "      <th>1</th>\n",
       "      <td>Ticket</td>\n",
       "      <td>0.116384</td>\n",
       "    </tr>\n",
       "    <tr>\n",
       "      <th>7</th>\n",
       "      <td>Age</td>\n",
       "      <td>0.094027</td>\n",
       "    </tr>\n",
       "    <tr>\n",
       "      <th>6</th>\n",
       "      <td>Pclass</td>\n",
       "      <td>0.085120</td>\n",
       "    </tr>\n",
       "    <tr>\n",
       "      <th>5</th>\n",
       "      <td>PassengerId</td>\n",
       "      <td>0.083981</td>\n",
       "    </tr>\n",
       "    <tr>\n",
       "      <th>2</th>\n",
       "      <td>Cabin</td>\n",
       "      <td>0.077989</td>\n",
       "    </tr>\n",
       "    <tr>\n",
       "      <th>8</th>\n",
       "      <td>SibSp</td>\n",
       "      <td>0.023465</td>\n",
       "    </tr>\n",
       "    <tr>\n",
       "      <th>3</th>\n",
       "      <td>Embarked</td>\n",
       "      <td>0.020080</td>\n",
       "    </tr>\n",
       "    <tr>\n",
       "      <th>9</th>\n",
       "      <td>Parch</td>\n",
       "      <td>0.014196</td>\n",
       "    </tr>\n",
       "  </tbody>\n",
       "</table>\n",
       "</div>"
      ]
     },
     "metadata": {},
     "execution_count": 71
    }
   ],
   "metadata": {}
  },
  {
   "cell_type": "markdown",
   "source": [
    "# Removing Low-Importance Variables"
   ],
   "metadata": {}
  },
  {
   "cell_type": "code",
   "execution_count": 72,
   "source": [
    "to_keep = fi[fi.imp>0.005].cols\n",
    "len(to_keep)"
   ],
   "outputs": [
    {
     "output_type": "execute_result",
     "data": {
      "text/plain": [
       "11"
      ]
     },
     "metadata": {},
     "execution_count": 72
    }
   ],
   "metadata": {}
  },
  {
   "cell_type": "code",
   "execution_count": 73,
   "source": [
    "xs_imp = xs[to_keep]\n",
    "valid_xs_imp = valid_xs[to_keep]"
   ],
   "outputs": [],
   "metadata": {}
  },
  {
   "cell_type": "code",
   "execution_count": 74,
   "source": [
    "m = rf(xs_imp, y)"
   ],
   "outputs": [],
   "metadata": {}
  },
  {
   "cell_type": "code",
   "execution_count": 75,
   "source": [
    "accuracy_score(y, np.round(m.predict(xs_imp))),accuracy_score(valid_y, np.round(m.predict(valid_xs_imp)))"
   ],
   "outputs": [
    {
     "output_type": "execute_result",
     "data": {
      "text/plain": [
       "(0.8821879382889201, 0.8370786516853933)"
      ]
     },
     "metadata": {},
     "execution_count": 75
    }
   ],
   "metadata": {}
  },
  {
   "cell_type": "code",
   "execution_count": 76,
   "source": [
    "len(xs.columns), len(xs_imp.columns)"
   ],
   "outputs": [
    {
     "output_type": "execute_result",
     "data": {
      "text/plain": [
       "(11, 11)"
      ]
     },
     "metadata": {},
     "execution_count": 76
    }
   ],
   "metadata": {}
  },
  {
   "cell_type": "markdown",
   "source": [
    "# Partial Dependence"
   ],
   "metadata": {}
  },
  {
   "cell_type": "code",
   "execution_count": 77,
   "source": [
    "# p = xs_imp['Sex'].value_counts(sort=False).plot.barh()\n",
    "# c = to.classes['Sex']\n",
    "# plt.yticks(range(len(c)), c);"
   ],
   "outputs": [],
   "metadata": {}
  },
  {
   "cell_type": "code",
   "execution_count": 78,
   "source": [
    "ax = xs_imp['Pclass'].hist()"
   ],
   "outputs": [
    {
     "output_type": "display_data",
     "data": {
      "text/plain": [
       "<Figure size 432x288 with 1 Axes>"
      ],
      "image/png": "[encoded data removed]"
     },
     "metadata": {
      "needs_background": "light"
     }
    }
   ],
   "metadata": {}
  },
  {
   "cell_type": "code",
   "execution_count": 79,
   "source": [
    "from sklearn.inspection import plot_partial_dependence\n",
    "\n",
    "fig,ax = plt.subplots(figsize=(12, 4))\n",
    "plot_partial_dependence(m, xs_imp, ['Sex','Age'],\n",
    "                        grid_resolution=20, ax=ax);"
   ],
   "outputs": [
    {
     "output_type": "display_data",
     "data": {
      "text/plain": [
       "<Figure size 864x288 with 3 Axes>"
      ],
      "image/png": "[encoded data removed]"
     },
     "metadata": {
      "needs_background": "light"
     }
    }
   ],
   "metadata": {}
  },
  {
   "cell_type": "markdown",
   "source": [
    "# Tree Interpreter"
   ],
   "metadata": {}
  },
  {
   "cell_type": "code",
   "execution_count": 80,
   "source": [
    "import warnings\n",
    "warnings.simplefilter('ignore', FutureWarning)\n",
    "\n",
    "from treeinterpreter import treeinterpreter\n",
    "from waterfall_chart import plot as waterfall"
   ],
   "outputs": [],
   "metadata": {}
  },
  {
   "cell_type": "code",
   "execution_count": 81,
   "source": [
    "row = xs_imp.iloc[:5]"
   ],
   "outputs": [],
   "metadata": {}
  },
  {
   "cell_type": "code",
   "execution_count": 82,
   "source": [
    "prediction,bias,contributions = treeinterpreter.predict(m, row.values)"
   ],
   "outputs": [],
   "metadata": {}
  },
  {
   "cell_type": "code",
   "execution_count": 83,
   "source": [
    "waterfall(xs_imp.columns, contributions[0], threshold=0.08, \n",
    "          rotation_value=45,formatting='{:,.3f}');"
   ],
   "outputs": [
    {
     "output_type": "display_data",
     "data": {
      "text/plain": [
       "<Figure size 432x288 with 1 Axes>"
      ],
      "image/png": "[encoded data removed]"
     },
     "metadata": {
      "needs_background": "light"
     }
    }
   ],
   "metadata": {
    "scrolled": true
   }
  },
  {
   "cell_type": "markdown",
   "source": [
    "# Submission"
   ],
   "metadata": {}
  },
  {
   "cell_type": "code",
   "execution_count": 84,
   "source": [
    "xs_test = TabularPandas(df_test, procs, cat, cont)[to_keep]"
   ],
   "outputs": [],
   "metadata": {}
  },
  {
   "cell_type": "code",
   "execution_count": 85,
   "source": [
    "y_test = np.round(m.predict(xs_test))\n",
    "y_test ;"
   ],
   "outputs": [],
   "metadata": {}
  },
  {
   "cell_type": "code",
   "execution_count": 86,
   "source": [
    "submit = pd.DataFrame({\n",
    "    \"PassengerId\": df_test.PassengerId,\n",
    "    \"Survived\": y_test.astype(int)\n",
    "})\n",
    "submit"
   ],
   "outputs": [
    {
     "output_type": "execute_result",
     "data": {
      "text/plain": [
       "     PassengerId  Survived\n",
       "0            892         0\n",
       "1            893         1\n",
       "2            894         0\n",
       "3            895         0\n",
       "4            896         1\n",
       "..           ...       ...\n",
       "413         1305         0\n",
       "414         1306         1\n",
       "415         1307         0\n",
       "416         1308         0\n",
       "417         1309         0\n",
       "\n",
       "[418 rows x 2 columns]"
      ],
      "text/html": [
       "<div>\n",
       "<style scoped>\n",
       "    .dataframe tbody tr th:only-of-type {\n",
       "        vertical-align: middle;\n",
       "    }\n",
       "\n",
       "    .dataframe tbody tr th {\n",
       "        vertical-align: top;\n",
       "    }\n",
       "\n",
       "    .dataframe thead th {\n",
       "        text-align: right;\n",
       "    }\n",
       "</style>\n",
       "<table border=\"1\" class=\"dataframe\">\n",
       "  <thead>\n",
       "    <tr style=\"text-align: right;\">\n",
       "      <th></th>\n",
       "      <th>PassengerId</th>\n",
       "      <th>Survived</th>\n",
       "    </tr>\n",
       "  </thead>\n",
       "  <tbody>\n",
       "    <tr>\n",
       "      <th>0</th>\n",
       "      <td>892</td>\n",
       "      <td>0</td>\n",
       "    </tr>\n",
       "    <tr>\n",
       "      <th>1</th>\n",
       "      <td>893</td>\n",
       "      <td>1</td>\n",
       "    </tr>\n",
       "    <tr>\n",
       "      <th>2</th>\n",
       "      <td>894</td>\n",
       "      <td>0</td>\n",
       "    </tr>\n",
       "    <tr>\n",
       "      <th>3</th>\n",
       "      <td>895</td>\n",
       "      <td>0</td>\n",
       "    </tr>\n",
       "    <tr>\n",
       "      <th>4</th>\n",
       "      <td>896</td>\n",
       "      <td>1</td>\n",
       "    </tr>\n",
       "    <tr>\n",
       "      <th>...</th>\n",
       "      <td>...</td>\n",
       "      <td>...</td>\n",
       "    </tr>\n",
       "    <tr>\n",
       "      <th>413</th>\n",
       "      <td>1305</td>\n",
       "      <td>0</td>\n",
       "    </tr>\n",
       "    <tr>\n",
       "      <th>414</th>\n",
       "      <td>1306</td>\n",
       "      <td>1</td>\n",
       "    </tr>\n",
       "    <tr>\n",
       "      <th>415</th>\n",
       "      <td>1307</td>\n",
       "      <td>0</td>\n",
       "    </tr>\n",
       "    <tr>\n",
       "      <th>416</th>\n",
       "      <td>1308</td>\n",
       "      <td>0</td>\n",
       "    </tr>\n",
       "    <tr>\n",
       "      <th>417</th>\n",
       "      <td>1309</td>\n",
       "      <td>0</td>\n",
       "    </tr>\n",
       "  </tbody>\n",
       "</table>\n",
       "<p>418 rows × 2 columns</p>\n",
       "</div>"
      ]
     },
     "metadata": {},
     "execution_count": 86
    }
   ],
   "metadata": {}
  },
  {
   "cell_type": "code",
   "execution_count": 87,
   "source": [
    "submit.to_csv(path/'submission_rf.csv', index=False)"
   ],
   "outputs": [],
   "metadata": {}
  },
  {
   "cell_type": "markdown",
   "source": [
    "# Save"
   ],
   "metadata": {}
  },
  {
   "cell_type": "code",
   "execution_count": 88,
   "source": [
    "# save_pickle(path/'xs_imp.pkl', xs_imp)\n",
    "# save_pickle(path/'valid_xs_imp.pkl', valid_xs_imp)"
   ],
   "outputs": [],
   "metadata": {}
  }
 ],
 "metadata": {
  "kernelspec": {
   "name": "python3",
   "display_name": "Python 3.8.2 64-bit (conda)"
  },
  "language_info": {
   "codemirror_mode": {
    "name": "ipython",
    "version": 3
   },
   "file_extension": ".py",
   "mimetype": "text/x-python",
   "name": "python",
   "nbconvert_exporter": "python",
   "pygments_lexer": "ipython3",
   "version": "3.8.2"
  },
  "interpreter": {
   "hash": "3af3e5b3a2337fa5150e27eab3d5a67400d178d25b1458c226445d384657ba9d"
  }
 },
 "nbformat": 4,
 "nbformat_minor": 4
}